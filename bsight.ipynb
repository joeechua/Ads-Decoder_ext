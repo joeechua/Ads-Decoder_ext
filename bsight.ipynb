{
 "cells": [
  {
   "cell_type": "markdown",
   "metadata": {},
   "source": [
    "my understanding is that i can take the boxes output and compare with the boxes values given by the data.<br>\n",
    "Final report says IOU not good enough, need to know if the symbol is detected correctly so that means we'll need to get the word from the back and compare to the topic we detected and see how similar they are? WordEmbedModel??\n",
    "\n",
    "I think the evaluation can just do with the IOU first at least for the week 8 meeting.\n",
    "Ms Sailaja said we shld do precision, recall, and accuracy\n",
    "precision = true positive/ all positive predictions\n",
    "recall = true positive/ actual positive\n",
    "accuracy is accuracy\n",
    "\n",
    "but they have coco_eval and evaluate??? - ask abt this ig\n",
    "\n",
    "Seniors Suggested\n",
    "- add SentenceEmbreddeinModel to be able to handle Q&A + Slogans\n",
    "- k-clustering for labels (they have a file /preprocess/clustered_symbol_lists)"
   ]
  },
  {
   "cell_type": "code",
   "execution_count": 1,
   "metadata": {},
   "outputs": [],
   "source": [
    "from fasterrcnn_train import create_train_test_dataset\n",
    "from dataset import AdsDataset\n",
    "from detect import detect, draw_text\n",
    "from preprocess.boxes import load_symbols_annotation\n",
    "from preprocess.descriptors import load_annotation_json, SentimentPreProcessor\n",
    "import cv2\n",
    "import numpy as np\n",
    "import pandas as pd"
   ]
  },
  {
   "cell_type": "code",
   "execution_count": 2,
   "metadata": {},
   "outputs": [],
   "source": [
    "ads_dataset = AdsDataset()\n",
    "train, test = create_train_test_dataset(ads_dataset)"
   ]
  },
  {
   "cell_type": "code",
   "execution_count": 3,
   "metadata": {},
   "outputs": [],
   "source": [
    "#%% first 10 files for testing the function\n",
    "files = test.dataset.image_path[:10]"
   ]
  },
  {
   "cell_type": "code",
   "execution_count": 4,
   "metadata": {},
   "outputs": [],
   "source": [
    "# %% get the annotations for said files.\n",
    "def testing(files):\n",
    "   data = load_symbols_annotation() #loads the symbols.json file\n",
    "   phrases = load_annotation_json() #loads the sentiments.json file\n",
    "   prep = SentimentPreProcessor() #loads a dictionary for indexing phrase\n",
    "   #get phrase, truth, and predicted bbox for each file\n",
    "   for file in files:\n",
    "      phrase_id = int(phrases[file][0][0])\n",
    "      phrase = prep.id_to_word[phrase_id]\n",
    "      filepath = \"data/\" + file\n",
    "      preds = detect([filepath],  phrase, \"sentiments\", \"0\", True)\n",
    "      print(preds)\n",
    "      #function to compare coords for IOU intersection/matching"
   ]
  },
  {
   "cell_type": "code",
   "execution_count": 5,
   "metadata": {},
   "outputs": [
    {
     "name": "stdout",
     "output_type": "stream",
     "text": [
      "data/annotations/Sentiments.json\n",
      "TEST PREDICTIONS COMPLETE\n",
      "[[71, 221, 249, 327, 'violence'], [61, 78, 235, 337, 'violence'], [54, 78, 246, 339, 'sex'], [100, 171, 220, 345, 'violence'], [101, 250, 207, 343, 'violence'], [2, 19, 308, 353, 'sex'], [66, 47, 212, 192, 'violence'], [31, 35, 248, 254, 'violence']]\n"
     ]
    }
   ],
   "source": [
    "testing([files[2]])"
   ]
  },
  {
   "cell_type": "code",
   "execution_count": 6,
   "metadata": {},
   "outputs": [
    {
     "data": {
      "text/plain": [
       "[[317.0, 479.0, 6.0, 168.0, 'Promiscuity '],\n",
       " [93.0, 355.0, 230.0, 474.0, 'sexual promiscuity '],\n",
       " [80.0, 335.0, 240.0, 479.0, 'well traveled'],\n",
       " [106.0, 347.0, 228.0, 491.0, 'use condoms']]"
      ]
     },
     "execution_count": 6,
     "metadata": {},
     "output_type": "execute_result"
    }
   ],
   "source": [
    "#get the third file from Symbol.json\n",
    "data = load_symbols_annotation()\n",
    "data[files[2]]"
   ]
  },
  {
   "cell_type": "code",
   "execution_count": 5,
   "metadata": {},
   "outputs": [],
   "source": [
    "bbox1 = [[71, 221, 249, 327, 'violence'], \n",
    " [61, 78, 235, 337, 'violence'], \n",
    " [54, 78, 246, 339, 'sex'], \n",
    " [100, 171, 220, 345, 'violence'], \n",
    " [101, 250, 207, 343, 'violence'], \n",
    " [2, 19, 308, 353, 'sex'], \n",
    " [66, 47, 212, 192, 'violence'], \n",
    " [31, 35, 248, 254, 'violence']]\n",
    "bbox2 = [[317.0, 479.0, 6.0, 168.0, 'Promiscuity '],\n",
    " [93.0, 355.0, 230.0, 474.0, 'sexual promiscuity '],\n",
    " [80.0, 335.0, 240.0, 479.0, 'well traveled'],\n",
    " [106.0, 347.0, 228.0, 491.0, 'use condoms']]"
   ]
  },
  {
   "cell_type": "code",
   "execution_count": 88,
   "metadata": {},
   "outputs": [],
   "source": [
    "#from https://stackoverflow.com/questions/25349178/calculating-percentage-of-bounding-box-overlap-for-image-detector-evaluation#:~:text=You%27re%20calculating%20the%20area,%2F%20(union_area%20-%20intersection_area)%20.\n",
    "#there are other methods i just picked this for now because it made the most sense\n",
    "#more methods are available from the same link, below the main answer\n",
    "\n",
    "def box_area(arr):\n",
    "    width = arr[:, 2] - arr[:, 0]\n",
    "    height = arr[:, 3] - arr[:, 1]\n",
    "    return width * height\n",
    "\n",
    "def _box_inter_union(arr1, arr2):\n",
    "    # arr1 of [N, 4]\n",
    "    # arr2 of [N, 4]\n",
    "    area1 = box_area(arr1)\n",
    "    area2 = box_area(arr2)\n",
    "\n",
    "    # Intersection\n",
    "    bottom_right = np.maximum(arr1[:, :2], arr2[:, :2]) # [[x, y]]\n",
    "    top_left = np.minimum(arr1[:, 2:], arr2[:, 2:]) # [[x, y]]\n",
    "    #print(top_left, bottom_right)\n",
    "    wh = bottom_right - top_left\n",
    "    # clip: if boxes not overlap then make it zero\n",
    "    intersection = wh[:, 0].clip(0) * wh[:, 1].clip(0)\n",
    "\n",
    "    #union \n",
    "    union = area1 + area2 - intersection\n",
    "    return intersection, union\n",
    "\n",
    "def box_iou(arr1, arr2):\n",
    "    arr1= np.array([[int(x) for x in arr1]])\n",
    "    arr2= np.array([[int(x) for x in arr2]])\n",
    "    # N = number of bounding boxes\n",
    "    # try:\n",
    "    #     assert(arr1[:, 2:] < arr2[:, :2]).all()\n",
    "    #     assert(arr2[:, 2:] < arr2[:, :2]).all()\n",
    "    # except:\n",
    "    #     pass\n",
    "    \n",
    "    inter, union = _box_inter_union(arr1, arr2)\n",
    "    iou = inter / union\n",
    "    if iou > 1:\n",
    "        iou = 1\n",
    "    return float(iou)\n",
    "# box1 = np.array([[10, 10, 80, 80]])\n",
    "# box2 = np.array([[20, 20, 100, 100]])\n",
    "# box_iou(box1, box2)"
   ]
  },
  {
   "cell_type": "code",
   "execution_count": 91,
   "metadata": {},
   "outputs": [],
   "source": [
    "#%%Get total iou, precision, recall\n",
    "#https://jonathan-hui.medium.com/map-mean-average-precision-for-object-detection-45c121a31173\n",
    "\n",
    "def get_total_iou(true, pred):\n",
    "    df = pd.read_csv('predres.csv')\n",
    "    df = pd.DataFrame(df)\n",
    "    for t in true:\n",
    "        predlabels = []\n",
    "        truelabels = []\n",
    "        ious = []\n",
    "        corrects = []\n",
    "        for p in pred:\n",
    "            iou = box_iou(t[:4],p[:4])\n",
    "            ious.append(iou)\n",
    "            corrects.append(iou>=0.5)\n",
    "            predlabels.append(p[4])\n",
    "            truelabels.append(t[4])\n",
    "        df2 = pd.DataFrame({\n",
    "                    \"iou\": ious,\n",
    "                    \"correct?\" : corrects,\n",
    "                    \"pred labels\": predlabels,\n",
    "                    \"true labels\": truelabels})\n",
    "        df = df.append(df2, ignore_index = True)\n",
    "    #print(df)\n",
    "    df.to_csv(\"predres.csv\")"
   ]
  },
  {
   "cell_type": "code",
   "execution_count": 9,
   "metadata": {},
   "outputs": [],
   "source": [
    "def draw_bboxes(true, pred):\n",
    "    \"\"\"\n",
    "    true: truths from Symbols.json\n",
    "    pred: predicted values from model\n",
    "    \"\"\"\n",
    "    bg_img = np.zeros([512,512,3],dtype=np.uint8)\n",
    "    bg_img.fill(255)\n",
    "\n",
    "    for t in true:\n",
    "        cv2.rectangle(\n",
    "                bg_img,\n",
    "                (int(t[0]), int(t[1])),\n",
    "                (int(t[2]), int(t[3])),\n",
    "                (0,255,0),\n",
    "                2,)\n",
    "        draw_text(\n",
    "                        img=bg_img,\n",
    "                        text=t[4],\n",
    "                        pos=(int(t[0]), int(t[1])),\n",
    "                        text_color_bg=(0,255,0),\n",
    "                        text_color = (0,0,0)\n",
    "                    )\n",
    "\n",
    "    for p in pred:\n",
    "        cv2.rectangle(\n",
    "                    bg_img,\n",
    "                    (int(p[0]), int(p[1])),\n",
    "                    (int(p[2]), int(p[3])),\n",
    "                    (255,0,0),\n",
    "                    2,)\n",
    "        draw_text(\n",
    "                        img=bg_img,\n",
    "                        text=p[4],\n",
    "                        pos=(int(p[0]), int(p[1])),\n",
    "                        text_color_bg=(255,0,0),\n",
    "                        text_color = (0,0,0)\n",
    "                    )\n",
    "    \n",
    "    return bg_img"
   ]
  },
  {
   "cell_type": "code",
   "execution_count": 92,
   "metadata": {},
   "outputs": [
    {
     "name": "stdout",
     "output_type": "stream",
     "text": [
      "        iou  correct? pred labels          true labels\n",
      "0  1.000000      True    violence         Promiscuity \n",
      "1  1.000000      True    violence         Promiscuity \n",
      "2  1.000000      True         sex         Promiscuity \n",
      "3  1.000000      True    violence         Promiscuity \n",
      "4  1.000000      True    violence         Promiscuity \n",
      "5  0.946352      True         sex         Promiscuity \n",
      "6  1.000000      True    violence         Promiscuity \n",
      "7  1.000000      True    violence         Promiscuity \n",
      "8  0.000000     False    violence  sexual promiscuity \n",
      "9  0.000000     False    violence  sexual promiscuity \n"
     ]
    }
   ],
   "source": [
    "#uncomment to do new stuff\n",
    "get_total_iou(bbox2, bbox1)\n",
    "df = pd.read_csv(\"predres.csv\", index_col=0)\n",
    "print(df.head(10))"
   ]
  },
  {
   "cell_type": "code",
   "execution_count": 11,
   "metadata": {},
   "outputs": [],
   "source": [
    "from matplotlib import pyplot as plt"
   ]
  },
  {
   "cell_type": "code",
   "execution_count": 94,
   "metadata": {},
   "outputs": [
    {
     "data": {
      "text/plain": [
       "<matplotlib.image.AxesImage at 0x1592088faf0>"
      ]
     },
     "execution_count": 94,
     "metadata": {},
     "output_type": "execute_result"
    },
    {
     "data": {
      "image/png": "[encoded data removed]",
      "text/plain": [
       "<Figure size 576x576 with 1 Axes>"
      ]
     },
     "metadata": {
      "needs_background": "light"
     },
     "output_type": "display_data"
    }
   ],
   "source": [
    "img = draw_bboxes(bbox2, bbox1)\n",
    "plt.figure(figsize = (8,8))\n",
    "plt.imshow(img)"
   ]
  }
 ],
 "metadata": {
  "interpreter": {
   "hash": "cc362976f714a5406ef1dab4bc1ccc119a248b0d7d9e3daa0a26c67a8f3d8194"
  },
  "kernelspec": {
   "display_name": "Python 3.9.7 ('FIT3163Project')",
   "language": "python",
   "name": "python3"
  },
  "language_info": {
   "codemirror_mode": {
    "name": "ipython",
    "version": 3
   },
   "file_extension": ".py",
   "mimetype": "text/x-python",
   "name": "python",
   "nbconvert_exporter": "python",
   "pygments_lexer": "ipython3",
   "version": "3.9.7"
  },
  "orig_nbformat": 4
 },
 "nbformat": 4,
 "nbformat_minor": 2
}
