{
 "cells": [
  {
   "cell_type": "markdown",
   "metadata": {},
   "source": [
    "my understanding is that i can take the boxes output and compare with the boxes values given by the data.<br>\n",
    "Final report says IOU not good enough, need to know if the symbol is detected correctly so that means we'll need to get the word from the back and compare to the topic we detected and see how similar they are? WordEmbedModel??\n",
    "\n",
    "I think the evaluation can just do with the IOU first at least for the week 8 meeting.\n",
    "Ms Sailaja said we shld do precision, recall, and accuracy\n",
    "precision = true positive/ all positive predictions\n",
    "recall = true positive/ actual positive\n",
    "accuracy is accuracy\n",
    "\n",
    "but they have coco_eval and evaluate??? - ask abt this ig\n",
    "\n",
    "Seniors Suggested\n",
    "- add SentenceEmbreddeinModel to be able to handle Q&A + Slogans\n",
    "- k-clustering for labels (they have a file /preprocess/clustered_symbol_lists)"
   ]
  },
  {
   "cell_type": "markdown",
   "metadata": {},
   "source": [
    "### Triplet Loss Experiment"
   ]
  },
  {
   "cell_type": "code",
   "execution_count": 1,
   "metadata": {},
   "outputs": [],
   "source": [
    "import torch"
   ]
  },
  {
   "cell_type": "code",
   "execution_count": 4,
   "metadata": {},
   "outputs": [],
   "source": [
    "import torch.nn.functional as F"
   ]
  },
  {
   "cell_type": "code",
   "execution_count": 13,
   "metadata": {},
   "outputs": [],
   "source": [
    "ok = torch.tensor([1,0,1,1])"
   ]
  },
  {
   "cell_type": "code",
   "execution_count": 26,
   "metadata": {},
   "outputs": [],
   "source": [
    "import numpy as np"
   ]
  },
  {
   "cell_type": "code",
   "execution_count": 32,
   "metadata": {},
   "outputs": [
    {
     "name": "stdout",
     "output_type": "stream",
     "text": [
      "tensor([1., 5.]) [0, 2]\n"
     ]
    }
   ],
   "source": [
    "maxi, inds = torch.max(ok, dim=1)\n",
    "print(maxi, list(np.asarray(inds)))"
   ]
  },
  {
   "cell_type": "code",
   "execution_count": 11,
   "metadata": {},
   "outputs": [
    {
     "data": {
      "text/plain": [
       "4"
      ]
     },
     "execution_count": 11,
     "metadata": {},
     "output_type": "execute_result"
    }
   ],
   "source": [
    "ok.size()[0]"
   ]
  },
  {
   "cell_type": "code",
   "execution_count": 15,
   "metadata": {},
   "outputs": [
    {
     "data": {
      "text/plain": [
       "tensor([0., 1., 0., 0.])"
      ]
     },
     "execution_count": 15,
     "metadata": {},
     "output_type": "execute_result"
    }
   ],
   "source": [
    "torch.logical_not(ok, out=torch.empty(ok.size()[0]))"
   ]
  },
  {
   "cell_type": "markdown",
   "metadata": {},
   "source": [
    "### Ideas to improve mAP"
   ]
  },
  {
   "cell_type": "markdown",
   "metadata": {},
   "source": [
    "- Use Adelta optimizer instead of SGD https://www.koreascience.or.kr/article/JAKO201905653789024.pdf\n",
    "- Find optimal learning rate for the optimizer https://www.jeremyjordan.me/nn-learning-rate/\n",
    "- Paper that tests different methods https://arxiv.org/pdf/1812.01187.pdf\n",
    "    - \"By stacking cosine decay, label smoothing and mixup\" (p. 7) - i'm trying this w/o mixup bc i dont understand it yet\n",
    "    - label smoothing = 0.1 #don't use it doesn't work for us :(\n",
    "    - torch LambdaLR with  cosine function from the paper\n",
    "    - mixup https://github.com/facebookresearch/mixup-cifar10/blob/main/train.py (the paper refs this paper)"
   ]
  },
  {
   "cell_type": "markdown",
   "metadata": {},
   "source": [
    "### Importing and Dataset Initialisation"
   ]
  },
  {
   "cell_type": "code",
   "execution_count": 1,
   "metadata": {},
   "outputs": [
    {
     "name": "stderr",
     "output_type": "stream",
     "text": [
      "[nltk_data] Downloading package stopwords to\n",
      "[nltk_data]     C:\\Users\\Userr\\AppData\\Roaming\\nltk_data...\n",
      "[nltk_data]   Package stopwords is already up-to-date!\n"
     ]
    }
   ],
   "source": [
    "from fasterrcnn_train import create_train_test_dataset\n",
    "import cv2\n",
    "import numpy as np\n",
    "import pandas as pd\n",
    "from matplotlib import pyplot as plt\n",
    "import torch\n"
   ]
  },
  {
   "cell_type": "code",
   "execution_count": 2,
   "metadata": {},
   "outputs": [],
   "source": [
    "from dataset import AdsDataset\n",
    "from detect import detect, draw_text\n",
    "from preprocess.boxes import load_symbols_annotation\n",
    "from preprocess.descriptors import TextEmbedModel, load_annotation_json, SentimentPreProcessor, StrategiesPreProcessor, TopicsPreProcessor, SlogansPreProcessor, QAPreProcessor\n",
    "from textblob import TextBlob"
   ]
  },
  {
   "cell_type": "code",
   "execution_count": 3,
   "metadata": {},
   "outputs": [],
   "source": [
    "ads_dataset = AdsDataset(\"qa\") #Change string to get the descriptor\n",
    "train, test = create_train_test_dataset(ads_dataset, \"qa\")"
   ]
  },
  {
   "cell_type": "markdown",
   "metadata": {},
   "source": [
    "### Running Model"
   ]
  },
  {
   "cell_type": "code",
   "execution_count": 3,
   "metadata": {},
   "outputs": [],
   "source": [
    "device = torch.device(\"cuda\") if torch.cuda.is_available() else torch.device(\"cpu\")"
   ]
  },
  {
   "cell_type": "code",
   "execution_count": 4,
   "metadata": {},
   "outputs": [],
   "source": [
    "# Load model\n",
    "model = torch.load(\"outputs/cp_qa_roberta_tfasterrcnn_10ep.pth.tar\")[\"model\"]\n",
    "#model = torchvision.models.detection.fasterrcnn_resnet50_fpn(pretrained=True)\n",
    "model = model.to(device)"
   ]
  },
  {
   "cell_type": "code",
   "execution_count": 5,
   "metadata": {},
   "outputs": [
    {
     "data": {
      "text/plain": [
       "TextFasterRCNN(\n",
       "  (faster_rcnn): FasterRCNN(\n",
       "    (transform): GeneralizedRCNNTransform(\n",
       "        Normalize(mean=[0.485, 0.456, 0.406], std=[0.229, 0.224, 0.225])\n",
       "        Resize(min_size=(800,), max_size=1333, mode='bilinear')\n",
       "    )\n",
       "    (backbone): BackboneWithFPN(\n",
       "      (body): IntermediateLayerGetter(\n",
       "        (conv1): Conv2d(3, 64, kernel_size=(7, 7), stride=(2, 2), padding=(3, 3), bias=False)\n",
       "        (bn1): FrozenBatchNorm2d(64, eps=0.0)\n",
       "        (relu): ReLU(inplace=True)\n",
       "        (maxpool): MaxPool2d(kernel_size=3, stride=2, padding=1, dilation=1, ceil_mode=False)\n",
       "        (layer1): Sequential(\n",
       "          (0): Bottleneck(\n",
       "            (conv1): Conv2d(64, 64, kernel_size=(1, 1), stride=(1, 1), bias=False)\n",
       "            (bn1): FrozenBatchNorm2d(64, eps=0.0)\n",
       "            (conv2): Conv2d(64, 64, kernel_size=(3, 3), stride=(1, 1), padding=(1, 1), bias=False)\n",
       "            (bn2): FrozenBatchNorm2d(64, eps=0.0)\n",
       "            (conv3): Conv2d(64, 256, kernel_size=(1, 1), stride=(1, 1), bias=False)\n",
       "            (bn3): FrozenBatchNorm2d(256, eps=0.0)\n",
       "            (relu): ReLU(inplace=True)\n",
       "            (downsample): Sequential(\n",
       "              (0): Conv2d(64, 256, kernel_size=(1, 1), stride=(1, 1), bias=False)\n",
       "              (1): FrozenBatchNorm2d(256, eps=0.0)\n",
       "            )\n",
       "          )\n",
       "          (1): Bottleneck(\n",
       "            (conv1): Conv2d(256, 64, kernel_size=(1, 1), stride=(1, 1), bias=False)\n",
       "            (bn1): FrozenBatchNorm2d(64, eps=0.0)\n",
       "            (conv2): Conv2d(64, 64, kernel_size=(3, 3), stride=(1, 1), padding=(1, 1), bias=False)\n",
       "            (bn2): FrozenBatchNorm2d(64, eps=0.0)\n",
       "            (conv3): Conv2d(64, 256, kernel_size=(1, 1), stride=(1, 1), bias=False)\n",
       "            (bn3): FrozenBatchNorm2d(256, eps=0.0)\n",
       "            (relu): ReLU(inplace=True)\n",
       "          )\n",
       "          (2): Bottleneck(\n",
       "            (conv1): Conv2d(256, 64, kernel_size=(1, 1), stride=(1, 1), bias=False)\n",
       "            (bn1): FrozenBatchNorm2d(64, eps=0.0)\n",
       "            (conv2): Conv2d(64, 64, kernel_size=(3, 3), stride=(1, 1), padding=(1, 1), bias=False)\n",
       "            (bn2): FrozenBatchNorm2d(64, eps=0.0)\n",
       "            (conv3): Conv2d(64, 256, kernel_size=(1, 1), stride=(1, 1), bias=False)\n",
       "            (bn3): FrozenBatchNorm2d(256, eps=0.0)\n",
       "            (relu): ReLU(inplace=True)\n",
       "          )\n",
       "        )\n",
       "        (layer2): Sequential(\n",
       "          (0): Bottleneck(\n",
       "            (conv1): Conv2d(256, 128, kernel_size=(1, 1), stride=(1, 1), bias=False)\n",
       "            (bn1): FrozenBatchNorm2d(128, eps=0.0)\n",
       "            (conv2): Conv2d(128, 128, kernel_size=(3, 3), stride=(2, 2), padding=(1, 1), bias=False)\n",
       "            (bn2): FrozenBatchNorm2d(128, eps=0.0)\n",
       "            (conv3): Conv2d(128, 512, kernel_size=(1, 1), stride=(1, 1), bias=False)\n",
       "            (bn3): FrozenBatchNorm2d(512, eps=0.0)\n",
       "            (relu): ReLU(inplace=True)\n",
       "            (downsample): Sequential(\n",
       "              (0): Conv2d(256, 512, kernel_size=(1, 1), stride=(2, 2), bias=False)\n",
       "              (1): FrozenBatchNorm2d(512, eps=0.0)\n",
       "            )\n",
       "          )\n",
       "          (1): Bottleneck(\n",
       "            (conv1): Conv2d(512, 128, kernel_size=(1, 1), stride=(1, 1), bias=False)\n",
       "            (bn1): FrozenBatchNorm2d(128, eps=0.0)\n",
       "            (conv2): Conv2d(128, 128, kernel_size=(3, 3), stride=(1, 1), padding=(1, 1), bias=False)\n",
       "            (bn2): FrozenBatchNorm2d(128, eps=0.0)\n",
       "            (conv3): Conv2d(128, 512, kernel_size=(1, 1), stride=(1, 1), bias=False)\n",
       "            (bn3): FrozenBatchNorm2d(512, eps=0.0)\n",
       "            (relu): ReLU(inplace=True)\n",
       "          )\n",
       "          (2): Bottleneck(\n",
       "            (conv1): Conv2d(512, 128, kernel_size=(1, 1), stride=(1, 1), bias=False)\n",
       "            (bn1): FrozenBatchNorm2d(128, eps=0.0)\n",
       "            (conv2): Conv2d(128, 128, kernel_size=(3, 3), stride=(1, 1), padding=(1, 1), bias=False)\n",
       "            (bn2): FrozenBatchNorm2d(128, eps=0.0)\n",
       "            (conv3): Conv2d(128, 512, kernel_size=(1, 1), stride=(1, 1), bias=False)\n",
       "            (bn3): FrozenBatchNorm2d(512, eps=0.0)\n",
       "            (relu): ReLU(inplace=True)\n",
       "          )\n",
       "          (3): Bottleneck(\n",
       "            (conv1): Conv2d(512, 128, kernel_size=(1, 1), stride=(1, 1), bias=False)\n",
       "            (bn1): FrozenBatchNorm2d(128, eps=0.0)\n",
       "            (conv2): Conv2d(128, 128, kernel_size=(3, 3), stride=(1, 1), padding=(1, 1), bias=False)\n",
       "            (bn2): FrozenBatchNorm2d(128, eps=0.0)\n",
       "            (conv3): Conv2d(128, 512, kernel_size=(1, 1), stride=(1, 1), bias=False)\n",
       "            (bn3): FrozenBatchNorm2d(512, eps=0.0)\n",
       "            (relu): ReLU(inplace=True)\n",
       "          )\n",
       "        )\n",
       "        (layer3): Sequential(\n",
       "          (0): Bottleneck(\n",
       "            (conv1): Conv2d(512, 256, kernel_size=(1, 1), stride=(1, 1), bias=False)\n",
       "            (bn1): FrozenBatchNorm2d(256, eps=0.0)\n",
       "            (conv2): Conv2d(256, 256, kernel_size=(3, 3), stride=(2, 2), padding=(1, 1), bias=False)\n",
       "            (bn2): FrozenBatchNorm2d(256, eps=0.0)\n",
       "            (conv3): Conv2d(256, 1024, kernel_size=(1, 1), stride=(1, 1), bias=False)\n",
       "            (bn3): FrozenBatchNorm2d(1024, eps=0.0)\n",
       "            (relu): ReLU(inplace=True)\n",
       "            (downsample): Sequential(\n",
       "              (0): Conv2d(512, 1024, kernel_size=(1, 1), stride=(2, 2), bias=False)\n",
       "              (1): FrozenBatchNorm2d(1024, eps=0.0)\n",
       "            )\n",
       "          )\n",
       "          (1): Bottleneck(\n",
       "            (conv1): Conv2d(1024, 256, kernel_size=(1, 1), stride=(1, 1), bias=False)\n",
       "            (bn1): FrozenBatchNorm2d(256, eps=0.0)\n",
       "            (conv2): Conv2d(256, 256, kernel_size=(3, 3), stride=(1, 1), padding=(1, 1), bias=False)\n",
       "            (bn2): FrozenBatchNorm2d(256, eps=0.0)\n",
       "            (conv3): Conv2d(256, 1024, kernel_size=(1, 1), stride=(1, 1), bias=False)\n",
       "            (bn3): FrozenBatchNorm2d(1024, eps=0.0)\n",
       "            (relu): ReLU(inplace=True)\n",
       "          )\n",
       "          (2): Bottleneck(\n",
       "            (conv1): Conv2d(1024, 256, kernel_size=(1, 1), stride=(1, 1), bias=False)\n",
       "            (bn1): FrozenBatchNorm2d(256, eps=0.0)\n",
       "            (conv2): Conv2d(256, 256, kernel_size=(3, 3), stride=(1, 1), padding=(1, 1), bias=False)\n",
       "            (bn2): FrozenBatchNorm2d(256, eps=0.0)\n",
       "            (conv3): Conv2d(256, 1024, kernel_size=(1, 1), stride=(1, 1), bias=False)\n",
       "            (bn3): FrozenBatchNorm2d(1024, eps=0.0)\n",
       "            (relu): ReLU(inplace=True)\n",
       "          )\n",
       "          (3): Bottleneck(\n",
       "            (conv1): Conv2d(1024, 256, kernel_size=(1, 1), stride=(1, 1), bias=False)\n",
       "            (bn1): FrozenBatchNorm2d(256, eps=0.0)\n",
       "            (conv2): Conv2d(256, 256, kernel_size=(3, 3), stride=(1, 1), padding=(1, 1), bias=False)\n",
       "            (bn2): FrozenBatchNorm2d(256, eps=0.0)\n",
       "            (conv3): Conv2d(256, 1024, kernel_size=(1, 1), stride=(1, 1), bias=False)\n",
       "            (bn3): FrozenBatchNorm2d(1024, eps=0.0)\n",
       "            (relu): ReLU(inplace=True)\n",
       "          )\n",
       "          (4): Bottleneck(\n",
       "            (conv1): Conv2d(1024, 256, kernel_size=(1, 1), stride=(1, 1), bias=False)\n",
       "            (bn1): FrozenBatchNorm2d(256, eps=0.0)\n",
       "            (conv2): Conv2d(256, 256, kernel_size=(3, 3), stride=(1, 1), padding=(1, 1), bias=False)\n",
       "            (bn2): FrozenBatchNorm2d(256, eps=0.0)\n",
       "            (conv3): Conv2d(256, 1024, kernel_size=(1, 1), stride=(1, 1), bias=False)\n",
       "            (bn3): FrozenBatchNorm2d(1024, eps=0.0)\n",
       "            (relu): ReLU(inplace=True)\n",
       "          )\n",
       "          (5): Bottleneck(\n",
       "            (conv1): Conv2d(1024, 256, kernel_size=(1, 1), stride=(1, 1), bias=False)\n",
       "            (bn1): FrozenBatchNorm2d(256, eps=0.0)\n",
       "            (conv2): Conv2d(256, 256, kernel_size=(3, 3), stride=(1, 1), padding=(1, 1), bias=False)\n",
       "            (bn2): FrozenBatchNorm2d(256, eps=0.0)\n",
       "            (conv3): Conv2d(256, 1024, kernel_size=(1, 1), stride=(1, 1), bias=False)\n",
       "            (bn3): FrozenBatchNorm2d(1024, eps=0.0)\n",
       "            (relu): ReLU(inplace=True)\n",
       "          )\n",
       "        )\n",
       "        (layer4): Sequential(\n",
       "          (0): Bottleneck(\n",
       "            (conv1): Conv2d(1024, 512, kernel_size=(1, 1), stride=(1, 1), bias=False)\n",
       "            (bn1): FrozenBatchNorm2d(512, eps=0.0)\n",
       "            (conv2): Conv2d(512, 512, kernel_size=(3, 3), stride=(2, 2), padding=(1, 1), bias=False)\n",
       "            (bn2): FrozenBatchNorm2d(512, eps=0.0)\n",
       "            (conv3): Conv2d(512, 2048, kernel_size=(1, 1), stride=(1, 1), bias=False)\n",
       "            (bn3): FrozenBatchNorm2d(2048, eps=0.0)\n",
       "            (relu): ReLU(inplace=True)\n",
       "            (downsample): Sequential(\n",
       "              (0): Conv2d(1024, 2048, kernel_size=(1, 1), stride=(2, 2), bias=False)\n",
       "              (1): FrozenBatchNorm2d(2048, eps=0.0)\n",
       "            )\n",
       "          )\n",
       "          (1): Bottleneck(\n",
       "            (conv1): Conv2d(2048, 512, kernel_size=(1, 1), stride=(1, 1), bias=False)\n",
       "            (bn1): FrozenBatchNorm2d(512, eps=0.0)\n",
       "            (conv2): Conv2d(512, 512, kernel_size=(3, 3), stride=(1, 1), padding=(1, 1), bias=False)\n",
       "            (bn2): FrozenBatchNorm2d(512, eps=0.0)\n",
       "            (conv3): Conv2d(512, 2048, kernel_size=(1, 1), stride=(1, 1), bias=False)\n",
       "            (bn3): FrozenBatchNorm2d(2048, eps=0.0)\n",
       "            (relu): ReLU(inplace=True)\n",
       "          )\n",
       "          (2): Bottleneck(\n",
       "            (conv1): Conv2d(2048, 512, kernel_size=(1, 1), stride=(1, 1), bias=False)\n",
       "            (bn1): FrozenBatchNorm2d(512, eps=0.0)\n",
       "            (conv2): Conv2d(512, 512, kernel_size=(3, 3), stride=(1, 1), padding=(1, 1), bias=False)\n",
       "            (bn2): FrozenBatchNorm2d(512, eps=0.0)\n",
       "            (conv3): Conv2d(512, 2048, kernel_size=(1, 1), stride=(1, 1), bias=False)\n",
       "            (bn3): FrozenBatchNorm2d(2048, eps=0.0)\n",
       "            (relu): ReLU(inplace=True)\n",
       "          )\n",
       "        )\n",
       "      )\n",
       "      (fpn): FeaturePyramidNetwork(\n",
       "        (inner_blocks): ModuleList(\n",
       "          (0): Conv2d(256, 256, kernel_size=(1, 1), stride=(1, 1))\n",
       "          (1): Conv2d(512, 256, kernel_size=(1, 1), stride=(1, 1))\n",
       "          (2): Conv2d(1024, 256, kernel_size=(1, 1), stride=(1, 1))\n",
       "          (3): Conv2d(2048, 256, kernel_size=(1, 1), stride=(1, 1))\n",
       "        )\n",
       "        (layer_blocks): ModuleList(\n",
       "          (0): Conv2d(256, 256, kernel_size=(3, 3), stride=(1, 1), padding=(1, 1))\n",
       "          (1): Conv2d(256, 256, kernel_size=(3, 3), stride=(1, 1), padding=(1, 1))\n",
       "          (2): Conv2d(256, 256, kernel_size=(3, 3), stride=(1, 1), padding=(1, 1))\n",
       "          (3): Conv2d(256, 256, kernel_size=(3, 3), stride=(1, 1), padding=(1, 1))\n",
       "        )\n",
       "        (extra_blocks): LastLevelMaxPool()\n",
       "      )\n",
       "    )\n",
       "    (rpn): RegionProposalNetwork(\n",
       "      (anchor_generator): AnchorGenerator()\n",
       "      (head): RPNHead(\n",
       "        (conv): Conv2d(256, 256, kernel_size=(3, 3), stride=(1, 1), padding=(1, 1))\n",
       "        (cls_logits): Conv2d(256, 3, kernel_size=(1, 1), stride=(1, 1))\n",
       "        (bbox_pred): Conv2d(256, 12, kernel_size=(1, 1), stride=(1, 1))\n",
       "      )\n",
       "    )\n",
       "    (roi_heads): RoIHeads(\n",
       "      (box_roi_pool): MultiScaleRoIAlign(featmap_names=['0', '1', '2', '3'], output_size=(7, 7), sampling_ratio=2)\n",
       "      (box_head): TwoMLPHead(\n",
       "        (fc6): Linear(in_features=12544, out_features=1024, bias=True)\n",
       "        (fc7): Linear(in_features=1024, out_features=1024, bias=True)\n",
       "      )\n",
       "      (box_predictor): FastRCNNPredictor(\n",
       "        (cls_score): Linear(in_features=1024, out_features=12719, bias=True)\n",
       "        (bbox_pred): Linear(in_features=1024, out_features=50876, bias=True)\n",
       "      )\n",
       "    )\n",
       "  )\n",
       "  (transform): GeneralizedRCNNTransform(\n",
       "      Normalize(mean=[0.485, 0.456, 0.406], std=[0.229, 0.224, 0.225])\n",
       "      Resize(min_size=(800,), max_size=1333, mode='bilinear')\n",
       "  )\n",
       "  (box_head): TFRCNNBoxHead(\n",
       "    (fc6): Linear(in_features=13312, out_features=1024, bias=True)\n",
       "    (fc7): Linear(in_features=1024, out_features=1024, bias=True)\n",
       "  )\n",
       "  (roi_heads): TFRCNNRoIHeads(\n",
       "    (box_roi_pool): MultiScaleRoIAlign(featmap_names=['0', '1', '2', '3'], output_size=(7, 7), sampling_ratio=2)\n",
       "    (box_head): TFRCNNBoxHead(\n",
       "      (fc6): Linear(in_features=13312, out_features=1024, bias=True)\n",
       "      (fc7): Linear(in_features=1024, out_features=1024, bias=True)\n",
       "    )\n",
       "    (box_predictor): FastRCNNPredictor(\n",
       "      (cls_score): Linear(in_features=1024, out_features=12719, bias=True)\n",
       "      (bbox_pred): Linear(in_features=1024, out_features=50876, bias=True)\n",
       "    )\n",
       "  )\n",
       ")"
      ]
     },
     "execution_count": 5,
     "metadata": {},
     "output_type": "execute_result"
    }
   ],
   "source": [
    "model.eval()"
   ]
  },
  {
   "cell_type": "code",
   "execution_count": null,
   "metadata": {},
   "outputs": [],
   "source": []
  },
  {
   "cell_type": "markdown",
   "metadata": {},
   "source": [
    "### Random Detect"
   ]
  },
  {
   "cell_type": "code",
   "execution_count": 1,
   "metadata": {},
   "outputs": [
    {
     "name": "stderr",
     "output_type": "stream",
     "text": [
      "[nltk_data] Downloading package stopwords to\n",
      "[nltk_data]     C:\\Users\\Userr\\AppData\\Roaming\\nltk_data...\n",
      "[nltk_data]   Package stopwords is already up-to-date!\n"
     ]
    }
   ],
   "source": [
    "from detect import detect"
   ]
  },
  {
   "cell_type": "code",
   "execution_count": 3,
   "metadata": {},
   "outputs": [
    {
     "name": "stdout",
     "output_type": "stream",
     "text": [
      "Time Taken: 0.9089910984039307\n",
      "Writing joTest.jpg to file...\n",
      "Image 1: joTest.jpg done...\n",
      "--------------------------------------------------\n",
      "TEST PREDICTIONS COMPLETE\n"
     ]
    }
   ],
   "source": [
    "detect([\"detect_input/joTest.jpg\"],  \"death\", \"sentiments\", \"0\", False)"
   ]
  },
  {
   "cell_type": "code",
   "execution_count": 4,
   "metadata": {},
   "outputs": [
    {
     "name": "stdout",
     "output_type": "stream",
     "text": [
      "Time Taken: 0.8590161800384521\n",
      "Writing joTest2.jpg to file...\n",
      "Image 1: joTest2.jpg done...\n",
      "--------------------------------------------------\n",
      "TEST PREDICTIONS COMPLETE\n"
     ]
    }
   ],
   "source": [
    "detect([\"detect_input/joTest2.jpg\"],  \"death\", \"sentiments\", \"0\", False)"
   ]
  },
  {
   "cell_type": "code",
   "execution_count": 12,
   "metadata": {},
   "outputs": [
    {
     "name": "stdout",
     "output_type": "stream",
     "text": [
      "Time Taken: 0.6650376319885254\n",
      "Writing joTest2.jpg to file...\n",
      "Image 1: joTest2.jpg done...\n",
      "--------------------------------------------------\n",
      "TEST PREDICTIONS COMPLETE\n"
     ]
    }
   ],
   "source": [
    "detect([\"detect_input/joTest2.jpg\"],  \"I should not text and drive because I could die\", \"qa\", \"0\", False)"
   ]
  },
  {
   "cell_type": "code",
   "execution_count": 26,
   "metadata": {},
   "outputs": [
    {
     "name": "stdout",
     "output_type": "stream",
     "text": [
      "Time Taken: 0.6645498275756836\n",
      "Writing joTest3.png to file...\n",
      "Image 1: joTest3.png done...\n",
      "--------------------------------------------------\n",
      "TEST PREDICTIONS COMPLETE\n"
     ]
    }
   ],
   "source": [
    "detect([\"detect_input/joTest3.png\"],  \"I should use condoms because it is safe\", \"qa\", \"0.105\", False)"
   ]
  },
  {
   "cell_type": "markdown",
   "metadata": {},
   "source": [
    "### Extracting Adjectives for QA"
   ]
  },
  {
   "cell_type": "code",
   "execution_count": 1,
   "metadata": {},
   "outputs": [],
   "source": [
    "import nltk"
   ]
  },
  {
   "cell_type": "code",
   "execution_count": 2,
   "metadata": {},
   "outputs": [
    {
     "name": "stdout",
     "output_type": "stream",
     "text": [
      "[('I', 'PRP'), ('should', 'MD'), ('buy', 'VB'), ('this', 'DT'), ('product', 'NN'), ('because', 'IN'), ('it', 'PRP'), (\"'s\", 'VBZ'), ('40', 'CD'), ('%', 'NN'), ('off', 'IN'), ('and', 'CC'), ('it', 'PRP'), (\"'s\", 'VBZ'), ('fashionable', 'JJ'), ('.', '.')]\n",
      "[('I', 'PRP'), ('should', 'MD'), ('buy', 'VB'), ('this', 'DT'), ('product', 'NN'), ('because', 'IN'), ('it', 'PRP'), ('is', 'VBZ'), ('fun', 'JJ'), ('and', 'CC'), ('youthful', 'JJ')]\n",
      "[('I', 'PRP'), ('should', 'MD'), ('buy', 'VB'), ('American', 'NNP'), ('Eagle', 'NNP'), ('because', 'IN'), ('I', 'PRP'), ('will', 'MD'), ('be', 'VB'), ('happy', 'JJ'), ('.', '.')]\n"
     ]
    }
   ],
   "source": [
    "lst =  [\"I should buy this product because it's 40% off and it's fashionable.\", \"I should buy this product because it is fun and youthful\", \"I should buy American Eagle because I will be happy.\"]\n",
    "for sentence in lst:\n",
    "    parsed = nltk.pos_tag(nltk.word_tokenize(sentence))\n",
    "    res = [elem for elem in parsed if elem[1] == \"JJ\"] #change to [:2] = JJ / [:2] == NN for nouns\n",
    "    print(parsed)"
   ]
  },
  {
   "cell_type": "markdown",
   "metadata": {},
   "source": [
    "### QA Model Stop Words Testing"
   ]
  },
  {
   "cell_type": "code",
   "execution_count": 5,
   "metadata": {},
   "outputs": [
    {
     "name": "stderr",
     "output_type": "stream",
     "text": [
      "[nltk_data] Downloading package stopwords to\n",
      "[nltk_data]     C:\\Users\\Userr\\AppData\\Roaming\\nltk_data...\n",
      "[nltk_data]   Unzipping corpora\\stopwords.zip.\n"
     ]
    },
    {
     "data": {
      "text/plain": [
       "True"
      ]
     },
     "execution_count": 5,
     "metadata": {},
     "output_type": "execute_result"
    }
   ],
   "source": [
    "import nltk\n",
    "nltk.download(\"stopwords\")"
   ]
  },
  {
   "cell_type": "code",
   "execution_count": 6,
   "metadata": {},
   "outputs": [],
   "source": [
    "from nltk.corpus import stopwords\n",
    "from nltk.tokenize import word_tokenize"
   ]
  },
  {
   "cell_type": "code",
   "execution_count": 17,
   "metadata": {},
   "outputs": [
    {
     "name": "stdout",
     "output_type": "stream",
     "text": [
      "['I', 'should', 'buy', 'this', 'product', 'because', 'it', 'is', 'fun', 'and', 'youthful']\n",
      "['fun', 'youthful']\n"
     ]
    }
   ],
   "source": [
    "example_sent = \"I should buy this product because it is fun and youthful\"\n",
    "\n",
    "stop_words = set(stopwords.words('english'))\n",
    "\n",
    "stop_words.add(\"product\")\n",
    "\n",
    "word_tokens = word_tokenize(example_sent)\n",
    "\n",
    "tagged_word_tokens = nltk.pos_tag(word_tokens)\n",
    "\n",
    "#filtered_sentence = [w[0] for w in tagged_word_tokens if not w[0].lower() in stop_words and w[1][:2] == \"JJ\"]\n",
    "\n",
    "filtered_sentence = []\n",
    "\n",
    "for w in tagged_word_tokens:\n",
    "\tif w[0] not in stop_words and (w[1][:2] == \"JJ\" or w[1][:2] == \"NN\"):\n",
    "\t\tfiltered_sentence.append(w[0])\n",
    "\n",
    "print(word_tokens)\n",
    "print(filtered_sentence)\n"
   ]
  },
  {
   "cell_type": "markdown",
   "metadata": {},
   "source": [
    "### Autocorrect"
   ]
  },
  {
   "cell_type": "code",
   "execution_count": 1,
   "metadata": {},
   "outputs": [],
   "source": [
    "from textblob import TextBlob"
   ]
  },
  {
   "cell_type": "code",
   "execution_count": 6,
   "metadata": {},
   "outputs": [
    {
     "name": "stdout",
     "output_type": "stream",
     "text": [
      "girl\n"
     ]
    }
   ],
   "source": [
    "word = \"gurl\"\n",
    "new_word = TextBlob(word)\n",
    "res = new_word.correct()\n",
    "print(res)"
   ]
  },
  {
   "cell_type": "code",
   "execution_count": 7,
   "metadata": {},
   "outputs": [
    {
     "data": {
      "text/plain": [
       "True"
      ]
     },
     "execution_count": 7,
     "metadata": {},
     "output_type": "execute_result"
    }
   ],
   "source": [
    "res == \"girl\""
   ]
  },
  {
   "cell_type": "markdown",
   "metadata": {},
   "source": [
    "### Context Aware Sentence Embeddings"
   ]
  },
  {
   "cell_type": "code",
   "execution_count": 1,
   "metadata": {},
   "outputs": [
    {
     "name": "stderr",
     "output_type": "stream",
     "text": [
      "Downloading: 100%|██████████| 4.61M/4.61M [00:11<00:00, 391kB/s] \n",
      "Downloading: 100%|██████████| 164/164 [00:00<00:00, 82.0kB/s]\n",
      "Downloading: 100%|██████████| 190/190 [00:00<00:00, 184kB/s]\n",
      "Downloading: 100%|██████████| 2.15k/2.15k [00:00<00:00, 2.15MB/s]\n",
      "Downloading: 100%|██████████| 122/122 [00:00<00:00, 61.0kB/s]\n",
      "Downloading: 100%|██████████| 248/248 [00:00<00:00, 238kB/s]\n"
     ]
    },
    {
     "name": "stdout",
     "output_type": "stream",
     "text": [
      "[[-2.64665008e-01 -2.26674005e-01 -3.47996980e-01 -2.62654990e-01\n",
      "   1.97190508e-01 -9.14949998e-02  2.47254997e-01 -4.24465001e-01\n",
      "  -2.78364986e-01 -1.52365005e+00  1.21467993e-01  1.36302505e-02\n",
      "  -3.94914985e-01  1.76838502e-01 -3.47050056e-02 -2.98945010e-01\n",
      "  -1.14455998e-01 -2.27650031e-02 -1.51705846e-01 -4.99460012e-01\n",
      "   1.65081993e-01 -1.47114992e-01  1.13208249e-01  2.10548490e-01\n",
      "  -1.52712509e-01 -3.78019989e-01  4.16520014e-02 -3.06959987e-01\n",
      "  -1.23482503e-01 -2.67659992e-01 -3.69657487e-01  5.36225021e-01\n",
      "  -4.02254999e-01  1.31069988e-01 -7.51799941e-02 -2.85070002e-01\n",
      "  -1.03549957e-02 -4.88460004e-01 -3.78574997e-01  2.42608503e-01\n",
      "   4.61874485e-01  3.69210020e-02 -3.33090007e-01  1.46139994e-01\n",
      "  -1.51894510e-01 -1.09146953e-01 -4.75178987e-01  5.64700007e-01\n",
      "   3.96899953e-02 -6.06149994e-02 -2.58730024e-01 -1.20144993e-01\n",
      "   2.95935005e-01  2.06270009e-01  1.00895002e-01 -1.57559980e-02\n",
      "  -1.20039999e-01 -3.19000006e-01  1.16341501e-01 -1.28049999e-02\n",
      "   5.83079994e-01  1.31840006e-01  3.21864992e-01 -4.45869982e-01\n",
      "  -4.33210015e-01 -4.73766983e-01 -4.52820003e-01 -1.21910006e-01\n",
      "   2.10775003e-01  4.60765004e-01 -6.07950017e-02 -3.44088495e-01\n",
      "   3.00825015e-02 -1.03496000e-01  9.82149988e-02  1.87954992e-01\n",
      "  -7.72975013e-02  2.82344997e-01 -7.39244446e-02  3.19325000e-01\n",
      "  -5.64992428e-04 -4.09979485e-02  5.53129986e-02 -1.55180007e-01\n",
      "  -6.74750060e-02 -1.27594993e-01 -7.00419992e-02  3.82250011e-01\n",
      "   8.63584951e-02  5.60883999e-01 -6.61905050e-01  2.07169250e-01\n",
      "  -5.31029999e-01 -3.01312476e-01  6.58499449e-03  9.62550044e-02\n",
      "  -1.72519982e-02 -8.25770050e-02  3.75259995e-01 -3.35865021e-01\n",
      "  -1.26523003e-01  6.19684979e-02  2.78160006e-01  4.09973502e-01\n",
      "  -2.31380016e-02 -1.11887500e-01  1.11706994e-01  1.15050003e-02\n",
      "   5.27080037e-02 -8.91500041e-02  1.09753199e-01  1.78154990e-01\n",
      "   1.89304993e-01  5.27600050e-02  4.86725003e-01  3.45082998e-01\n",
      "  -2.68099979e-02  4.25199941e-02 -3.88970017e-01  1.05190501e-01\n",
      "  -2.35234991e-01  7.61495009e-02  2.18050003e-01  1.93100050e-03\n",
      "  -6.12005033e-02 -9.32999998e-02  3.69967997e-01 -3.99399996e-02\n",
      "   5.98409995e-02  3.41085494e-01  5.81799485e-02  5.69749996e-02\n",
      "  -2.56202012e-01 -1.30910501e-01  8.22500139e-03 -9.86874998e-02\n",
      "  -8.05304945e-02  2.02500001e-02 -1.99210010e-02  1.75029501e-01\n",
      "  -6.72165006e-02  2.29724512e-01 -5.12659997e-02  2.02308998e-01\n",
      "  -9.95804965e-02 -3.98255020e-01  2.01195002e-01 -4.51700017e-02\n",
      "   3.77222002e-01  3.93499993e-02  7.19999894e-04 -2.34339997e-01\n",
      "  -5.07850051e-02 -1.32204995e-01  1.07882999e-01 -1.77494898e-01\n",
      "  -1.08781494e-01  6.81799948e-02 -3.69785011e-01 -5.21350019e-02\n",
      "   1.59899965e-02  2.02226996e-01  5.60010001e-02  1.67473987e-01\n",
      "  -2.86463499e-01  3.45595002e-01 -1.90229997e-01 -8.07604939e-02\n",
      "  -2.53999978e-03  8.79000127e-03  5.09119987e-01 -7.25969002e-02\n",
      "  -6.64340019e-01  5.38000166e-02 -1.34857506e-01  1.23010002e-01\n",
      "  -3.42154987e-02 -1.01894997e-02  8.09749961e-02  1.61165491e-01\n",
      "   1.98205009e-01  4.90804985e-02  6.15359992e-02 -3.27030003e-01\n",
      "  -3.65890205e-01 -2.47615010e-01 -3.93975019e-01  1.44060001e-01\n",
      "   2.19025001e-01  2.93475002e-01 -2.79530019e-01  3.44799981e-02\n",
      "   3.38304996e-01  7.60000199e-03 -2.25850001e-01 -5.59460044e-01\n",
      "   6.45879954e-02 -5.31699955e-02 -3.27669978e-01 -3.77680004e-01\n",
      "   3.65985006e-01 -6.72505051e-02  6.44569993e-02  1.55809999e-01\n",
      "  -1.08180009e-01  2.20270008e-01 -1.34805501e-01  2.43385002e-01\n",
      "  -3.16125005e-02  4.26679999e-02  2.98152506e-01 -2.63539493e-01\n",
      "  -1.31445006e-01  6.05400056e-02  1.80717990e-01  4.31670010e-01\n",
      "  -3.58597517e-01  3.35980020e-02 -2.06349999e-01 -1.52545005e-01\n",
      "  -1.92414999e-01  3.44624996e-01 -9.53680053e-02  3.65698993e-01\n",
      "   1.48464993e-01  7.84284994e-02  3.60560000e-01 -7.04600066e-02\n",
      "   7.90285021e-02 -2.23496497e-01 -5.90499938e-02  8.50449950e-02\n",
      "  -1.37696505e-01  1.41703993e-01  7.55489022e-02  3.77129972e-01\n",
      "  -2.81794995e-01 -7.46205002e-02  2.12300003e-01  8.27200040e-02\n",
      "  -2.69405007e-01 -1.98109999e-01  1.23043500e-01 -2.10566506e-01\n",
      "  -3.95165026e-01  8.48255008e-02  2.69992977e-01  3.27265024e-01\n",
      "  -3.65639985e-01 -2.20923498e-01 -2.51507521e-01  3.31274986e-01\n",
      "   1.89680010e-01 -2.43530005e-01  4.49897498e-01  3.60635012e-01\n",
      "  -1.55344993e-01  2.98960984e-01 -5.38494959e-02 -3.48345011e-01\n",
      "  -3.35295498e-01  1.43618703e-01 -8.25100020e-02 -1.06968999e-01\n",
      "   3.76290008e-02 -1.41364992e-01  2.30255008e-01  1.88900009e-02\n",
      "  -2.42450088e-02  3.58279981e-02  4.84764993e-01 -2.27673501e-01\n",
      "   3.02559525e-01  2.76634008e-01 -9.81039926e-02  2.69760013e-01\n",
      "  -1.76985002e+00 -1.37954995e-01  4.46624994e-01  1.11016497e-01\n",
      "  -2.05514997e-01 -5.71049973e-02 -1.27637506e-01 -1.74174502e-01\n",
      "   4.83559966e-02  5.26250005e-01 -1.74976885e-05 -1.87930003e-01\n",
      "  -2.80945003e-01  2.21534491e-01  1.52298495e-01  8.87973011e-02\n",
      "   1.27519995e-01 -1.65999681e-03  3.81850004e-01 -4.84660044e-02\n",
      "   4.85190004e-02 -6.73479959e-02 -1.40215009e-01  3.81610021e-02]\n",
      " [-1.45467490e-01 -1.44154996e-01 -7.59114981e-01 -1.29632995e-01\n",
      "   2.40685001e-01 -3.66095006e-01  3.50620002e-01 -2.62205005e-01\n",
      "  -7.52549917e-02 -1.09649003e+00  2.76274979e-01 -2.43830740e-01\n",
      "   1.06395006e-01  2.58960009e-01 -1.46353945e-01 -4.07810003e-01\n",
      "  -1.29455000e-01  4.82079983e-02 -1.47783995e-01 -2.96779990e-01\n",
      "  -1.09700114e-02 -4.41825002e-01  8.44882503e-02  4.45785001e-02\n",
      "  -7.03200027e-02 -2.45764807e-01  1.09982505e-01 -3.19724977e-01\n",
      "   1.59669995e-01  8.33900124e-02 -2.22669989e-01  4.52419996e-01\n",
      "   4.72950041e-02  3.88594985e-01 -5.45649976e-02 -2.42558494e-01\n",
      "  -1.02981493e-01 -4.06706512e-01 -1.32840008e-01  4.77265000e-01\n",
      "   2.90664971e-01  2.02190012e-01 -4.58845019e-01  1.03369996e-01\n",
      "   3.76535505e-01  2.15815492e-02 -2.38940001e-01  4.72784996e-01\n",
      "   1.13350488e-01 -3.11304986e-01 -6.65279984e-01 -2.84384973e-02\n",
      "   3.30799967e-02  2.38440007e-01  1.40716493e-01 -4.03928012e-01\n",
      "   2.32325017e-01 -3.22059989e-01 -1.33459985e-01 -2.28260010e-01\n",
      "   3.74855518e-01  2.87644982e-01 -2.53349990e-02 -6.48975015e-01\n",
      "  -4.98504996e-01 -5.32119989e-01 -3.86242509e-01 -3.04350019e-01\n",
      "   1.46343499e-01  2.96996474e-01  1.76265001e-01 -2.59454995e-01\n",
      "  -5.33699989e-02  2.32054994e-01  3.12673509e-01  1.98125988e-01\n",
      "   5.40000051e-02  5.34599945e-02  1.33965552e-01  1.71625003e-01\n",
      "   2.79900014e-01  1.51314542e-01  1.48994997e-01 -1.08465001e-01\n",
      "  -2.15410009e-01 -2.72579998e-01  7.72479996e-02  1.85686499e-01\n",
      "   2.70630002e-01  6.98679984e-01 -2.50060022e-01 -7.18857497e-02\n",
      "  -2.25825012e-01 -2.68685997e-01 -2.12265000e-01 -1.28080010e-01\n",
      "   1.93523988e-01  5.30750006e-02  3.19189996e-01 -2.56320000e-01\n",
      "  -3.95414978e-01 -2.99921513e-01  4.40465003e-01  4.91519988e-01\n",
      "   4.69602793e-02  5.60750067e-02  2.17830002e-01 -1.33405000e-01\n",
      "  -1.27534986e-01  1.95499957e-02 -1.51556805e-01  1.57349989e-01\n",
      "   3.08404982e-01  3.08700055e-02  1.69735000e-01  4.22985017e-01\n",
      "  -1.77120000e-01 -3.65480036e-02 -2.52700001e-02  4.01769996e-01\n",
      "  -3.40515494e-01  1.16466999e-01  1.70607492e-01 -2.03304999e-02\n",
      "  -8.38225037e-02 -3.15100029e-02  3.60358506e-01 -3.29780012e-01\n",
      "   2.09990013e-02  4.59114999e-01  3.69080007e-01 -5.68755493e-02\n",
      "  -2.22296000e-01 -2.01784000e-01  2.86339998e-01  6.41500112e-04\n",
      "   2.73054510e-01 -1.68515012e-01 -3.56102496e-01 -8.28905031e-02\n",
      "   2.62499973e-02  2.73279995e-01 -8.31710026e-02  5.84584951e-01\n",
      "  -2.70105004e-01 -3.12252998e-01  2.95334995e-01 -2.37250030e-02\n",
      "   2.88458526e-01 -1.06770001e-01  6.22224994e-02 -1.59125000e-01\n",
      "  -3.50425005e-01 -1.10080004e-01  2.08294988e-01  2.28029996e-01\n",
      "  -1.84499994e-01 -1.99589998e-01 -3.19384992e-01 -6.45350069e-02\n",
      "   2.79300004e-01  5.10900021e-02  4.05100018e-01  3.18170011e-01\n",
      "  -4.44175005e-01  1.95530504e-01 -1.73059493e-01  6.00100011e-02\n",
      "   1.12740003e-01  2.74340004e-01  3.69782001e-01 -2.48469003e-02\n",
      "  -3.92930984e-01 -1.45814985e-01 -2.10529998e-01  3.97750020e-01\n",
      "  -2.42800504e-01 -1.16670020e-02  4.41799998e-01  2.94905007e-01\n",
      "   4.09364998e-01  3.71859998e-01  3.12549993e-02  3.19250077e-02\n",
      "  -4.43134993e-01 -3.85500044e-02 -4.64044988e-01  3.53569984e-01\n",
      "   5.18375039e-01  5.66630006e-01 -2.33700126e-02  8.67149979e-02\n",
      "   1.45190001e-01 -2.05464989e-01 -2.19219998e-01 -7.27609992e-01\n",
      "  -2.36677498e-01 -9.10999998e-02 -1.63149983e-02 -1.68850005e-01\n",
      "   2.17765003e-01 -2.08130509e-01 -1.64217994e-01 -8.54850113e-02\n",
      "   1.60980001e-01  9.74525064e-02 -1.75475508e-01  4.38629985e-01\n",
      "  -3.12783480e-01  2.10952997e-01  5.39160013e-01 -2.82522500e-01\n",
      "  -6.22014999e-01  4.14725006e-01  3.22714984e-01  5.17695010e-01\n",
      "  -4.14665014e-01 -1.45704988e-02 -1.21627197e-01  2.54980028e-01\n",
      "   6.58200085e-02  4.94250059e-02 -1.90230012e-01  1.68899998e-01\n",
      "   2.37320006e-01  7.11850002e-02  4.98374999e-01  1.59700006e-01\n",
      "   3.08820009e-01  6.93949908e-02  1.26247510e-01 -2.39960030e-02\n",
      "  -1.16483502e-01  2.64948994e-01  1.50200017e-02  4.28974986e-01\n",
      "  -3.83660495e-01  1.39734998e-01  4.89349961e-02  6.56565011e-01\n",
      "  -3.27859998e-01 -2.50174999e-01  3.82639989e-02 -1.83926508e-01\n",
      "  -2.45114997e-01  2.24549957e-02  6.13934994e-01  6.91890001e-01\n",
      "  -4.89600003e-01 -3.01160991e-01 -3.05461526e-01  1.49929985e-01\n",
      "   1.21330008e-01 -2.01669991e-01  4.11966503e-01  3.17152500e-01\n",
      "  -2.04640001e-01  3.35574985e-01  2.39520013e-01 -4.50850010e-01\n",
      "  -5.77570021e-01  2.61545002e-01 -1.01987503e-01  3.72859985e-02\n",
      "   7.04779923e-02 -5.56280017e-01  2.43715018e-01 -8.60529989e-02\n",
      "  -3.09500098e-03 -2.40502000e-01  3.23149979e-01 -2.98357487e-01\n",
      "   1.82300016e-01  4.62520003e-01 -1.24469005e-01 -6.98750168e-02\n",
      "  -1.43989992e+00  1.62699968e-02  5.41200042e-02  2.53170013e-01\n",
      "  -5.12799978e-01  3.32029998e-01 -2.85995007e-01 -1.43382043e-01\n",
      "   2.95224994e-01  6.02324963e-01 -2.33707994e-01 -1.62759706e-01\n",
      "  -4.57489997e-01  3.87740016e-01  1.17084995e-01  1.04193002e-01\n",
      "   6.81549981e-02  5.52550033e-02  2.17691004e-01  5.55844977e-02\n",
      "   1.42989997e-02 -4.64938015e-01  6.74349964e-02 -8.20645019e-02]]\n"
     ]
    }
   ],
   "source": [
    "from sentence_transformers import SentenceTransformer\n",
    "sentences = [\"This is an example sentence\", \"Each sentence is converted\"]\n",
    "\n",
    "model = SentenceTransformer('sentence-transformers/average_word_embeddings_glove.6B.300d')\n",
    "embeddings = model.encode(sentences)\n",
    "print(embeddings)"
   ]
  },
  {
   "cell_type": "code",
   "execution_count": 27,
   "metadata": {},
   "outputs": [],
   "source": [
    "#save model to a file in directory, look at descriptors SentenceEmbedModel to see what I did\n",
    "model.save(\"./testSave\")"
   ]
  },
  {
   "cell_type": "code",
   "execution_count": 2,
   "metadata": {},
   "outputs": [
    {
     "name": "stdout",
     "output_type": "stream",
     "text": [
      "2\n"
     ]
    }
   ],
   "source": [
    "#embeddings = model.encode(sentences)\n",
    "print(len(embeddings))"
   ]
  },
  {
   "cell_type": "code",
   "execution_count": 24,
   "metadata": {},
   "outputs": [
    {
     "data": {
      "text/plain": [
       "array([-9.41374898e-02, -2.00204998e-01, -2.03927755e-01, -1.73813254e-01,\n",
       "       -4.08210233e-02,  9.51259956e-02, -6.00514784e-02, -2.76796758e-01,\n",
       "       -1.07202474e-02, -6.90227568e-01,  9.08112451e-02,  1.65187508e-01,\n",
       "       -1.48761198e-01, -4.37655002e-02,  1.19177505e-01, -1.71916261e-01,\n",
       "        2.76014000e-01, -2.85710007e-01, -1.53565004e-01,  9.27124918e-02,\n",
       "       -3.55350040e-02,  4.04159993e-01, -2.44080752e-01,  1.59776241e-01,\n",
       "       -5.92642426e-02,  2.35174999e-01,  6.94392622e-02, -1.71130002e-01,\n",
       "        3.90718788e-01,  2.12295994e-01, -5.49149923e-02,  6.52915016e-02,\n",
       "       -2.37583011e-01, -2.67986745e-01, -5.29957533e-01,  3.70280027e-01,\n",
       "       -1.20119244e-01,  1.48472503e-01,  9.03245062e-02,  1.09300748e-01,\n",
       "        5.97152710e-01, -2.71880001e-01,  3.43824923e-03, -3.22356015e-01,\n",
       "       -3.09404731e-01,  9.11167562e-02,  2.30930056e-02, -4.24074978e-02,\n",
       "       -3.19848247e-02,  1.71765745e-01,  2.11399496e-01,  1.09480023e-02,\n",
       "        2.66652524e-01, -5.88001311e-03, -1.11526005e-01, -1.26609989e-02,\n",
       "        9.72940028e-02, -1.63494989e-01,  3.74749005e-01,  2.74682492e-01,\n",
       "        1.46829993e-01,  7.73622468e-02, -1.27247535e-02,  4.64587510e-02,\n",
       "       -2.85830528e-01, -3.58475000e-02, -1.12642497e-01,  1.44749239e-01,\n",
       "       -4.19104993e-02,  1.47982985e-01, -2.51768500e-01, -2.95346230e-01,\n",
       "        1.92518476e-02,  7.89008960e-02,  3.05908710e-01,  7.14282542e-02,\n",
       "        1.31547004e-01, -1.06937751e-01, -8.90100002e-02, -2.05808252e-01,\n",
       "       -2.73812473e-01, -2.79731005e-01,  1.58643991e-01, -8.77900124e-02,\n",
       "       -2.19337493e-01, -3.87817472e-02,  9.69949961e-02,  6.14050031e-02,\n",
       "        8.61982554e-02,  9.70079973e-02, -5.08272529e-01, -1.72642499e-01,\n",
       "        8.81422609e-02,  1.98134989e-01, -4.14957479e-02, -1.04491003e-01,\n",
       "       -2.01734751e-01, -2.67012492e-02,  1.03260756e-01, -1.42859980e-01,\n",
       "        2.50472516e-01,  1.65000558e-04, -6.97312504e-02, -1.72347501e-01,\n",
       "        1.96028501e-01,  2.89705008e-01,  2.66027004e-01, -1.77230000e-01,\n",
       "        1.23592511e-01, -4.80284989e-02,  3.48302990e-01,  3.53355259e-01,\n",
       "       -6.25042468e-02, -3.44989970e-02,  2.97017246e-01,  4.85497504e-01,\n",
       "        5.36499977e-01,  1.23326249e-01, -4.03342545e-02,  5.12990057e-02,\n",
       "        8.47650021e-02,  1.94524512e-01,  7.89175034e-02,  1.98006496e-01,\n",
       "       -8.56399983e-02, -3.79575044e-02,  1.73669502e-01,  7.82384276e-02,\n",
       "        2.08624974e-02, -1.22139245e-01,  2.43787512e-01, -4.00993764e-01,\n",
       "        1.40401244e-01,  3.86325747e-01, -3.10552478e-01, -1.05652004e-01,\n",
       "       -3.89559984e-01, -4.61709015e-02, -2.07851246e-01,  1.93397760e-01,\n",
       "       -1.37088001e-01, -6.25669286e-02, -4.97732423e-02,  9.77924913e-02,\n",
       "        1.35544986e-01, -1.04091972e-01, -5.54625019e-02,  4.20762241e-01,\n",
       "        4.78635021e-02,  3.17999244e-01, -1.01844490e-01, -1.81885645e-01,\n",
       "        3.04678261e-01,  6.75772503e-02, -1.99663818e-01, -5.31485006e-02,\n",
       "       -1.86990023e-01, -2.01670244e-01, -6.20032549e-02,  2.70272523e-01,\n",
       "        2.61105001e-01, -1.07028998e-01,  2.27687493e-01, -7.21790045e-02,\n",
       "       -1.58389986e-01,  3.16195004e-02, -1.89974993e-01,  4.59539980e-01,\n",
       "       -3.00225019e-02, -1.18164495e-01,  4.94024996e-03, -2.01530501e-01,\n",
       "       -2.55163401e-01, -1.17164500e-01,  3.62921238e-01, -2.35409379e-01,\n",
       "       -2.27120027e-01, -1.81173742e-01, -3.45500022e-01,  3.59014988e-01,\n",
       "       -5.78751788e-04,  9.48192477e-02,  2.08452508e-01, -6.49206266e-02,\n",
       "        1.69017002e-01,  3.76150012e-02, -1.51487524e-02,  8.31749663e-03,\n",
       "       -7.16639981e-02, -5.57719991e-02, -1.40394494e-01, -9.52992439e-02,\n",
       "        4.29627486e-02, -2.89699994e-02, -3.70284975e-01,  3.21983516e-01,\n",
       "       -3.18307757e-01, -1.28578246e-01, -3.07468504e-01, -5.66600040e-02,\n",
       "        7.54914284e-01, -1.89423263e-01,  6.22375011e-02, -8.88974965e-02,\n",
       "       -2.66699996e-02, -3.31139937e-02, -2.79870015e-02,  4.32072520e-01,\n",
       "        3.52142453e-02,  2.91229993e-01,  6.02344796e-03, -2.43987758e-02,\n",
       "        8.17072541e-02,  9.82304960e-02, -1.04944989e-01,  3.71350050e-02,\n",
       "        3.21312509e-02,  8.65474939e-02,  2.32911736e-01,  2.63954997e-01,\n",
       "       -4.75160003e-01,  2.90374994e-01,  2.20206261e-01, -1.56168506e-01,\n",
       "        8.35875049e-02, -1.15944490e-01, -9.17150006e-02, -1.33923262e-01,\n",
       "       -2.01415002e-01,  1.90032005e-01,  2.17657506e-01,  4.63587493e-02,\n",
       "       -1.25111252e-01, -1.51118994e-01, -2.24085018e-01,  2.98392504e-01,\n",
       "        1.16735026e-02,  1.26495004e-01, -1.07562751e-01, -5.07925078e-02,\n",
       "        3.03257495e-01,  9.79899988e-02,  1.93450779e-01,  1.37647495e-01,\n",
       "       -6.48417473e-01,  2.27064744e-01, -1.13305256e-01, -7.90770054e-02,\n",
       "        4.09590006e-01,  2.81944990e-01, -2.39317507e-01, -1.90620497e-01,\n",
       "       -3.13520253e-01, -1.30322501e-02, -2.09737271e-02, -1.74614996e-01,\n",
       "        4.68414724e-02, -4.08975035e-02,  8.71240050e-02, -4.93112318e-02,\n",
       "        1.45587504e-01, -3.45248014e-01,  5.18925022e-03, -1.16173096e-01,\n",
       "       -3.07159990e-01,  1.34660244e-01,  9.62065011e-02,  1.41779989e-01,\n",
       "       -1.47936746e-01,  2.02372491e-01, -2.30425000e-01, -2.23352492e-01,\n",
       "        2.42816240e-01, -5.27352542e-02,  2.01057494e-01,  1.48130000e-01,\n",
       "       -9.92155015e-01,  1.52867258e-01,  3.84615600e-01, -6.24107495e-02,\n",
       "       -1.24943003e-01, -2.95627490e-02, -6.14099950e-03,  1.73235014e-02,\n",
       "        1.39667496e-01,  2.80420005e-01, -1.90443754e-01,  1.93887264e-01,\n",
       "       -1.21725008e-01,  1.91312525e-02,  9.85112563e-02, -1.94891751e-01,\n",
       "       -1.46750495e-01,  2.95372993e-01,  9.56750065e-02, -3.07370007e-01,\n",
       "       -1.87920988e-01,  1.25532493e-01, -1.68844014e-01,  5.55940032e-01],\n",
       "      dtype=float32)"
      ]
     },
     "execution_count": 24,
     "metadata": {},
     "output_type": "execute_result"
    }
   ],
   "source": [
    "model.encode(\"Wonder Woman is gender transformative\")"
   ]
  },
  {
   "cell_type": "markdown",
   "metadata": {},
   "source": [
    "### BERT model experiments"
   ]
  },
  {
   "cell_type": "code",
   "execution_count": 13,
   "metadata": {},
   "outputs": [
    {
     "name": "stderr",
     "output_type": "stream",
     "text": [
      "No model was supplied, defaulted to distilbert-base-uncased-finetuned-sst-2-english (https://huggingface.co/distilbert-base-uncased-finetuned-sst-2-english)\n",
      "Downloading:   4%|▍         | 198k/4.61M [05:11<1:55:51, 634B/s]\n",
      "Downloading:   4%|▎         | 171k/4.61M [01:19<34:26, 2.15kB/s]\n"
     ]
    },
    {
     "ename": "KeyboardInterrupt",
     "evalue": "",
     "output_type": "error",
     "traceback": [
      "\u001b[1;31m---------------------------------------------------------------------------\u001b[0m",
      "\u001b[1;31mKeyboardInterrupt\u001b[0m                         Traceback (most recent call last)",
      "\u001b[1;32m~\\AppData\\Local\\Temp/ipykernel_21688/1214792798.py\u001b[0m in \u001b[0;36m<module>\u001b[1;34m\u001b[0m\n\u001b[1;32m----> 1\u001b[1;33m \u001b[0mclassifier\u001b[0m \u001b[1;33m=\u001b[0m \u001b[0mpipeline\u001b[0m\u001b[1;33m(\u001b[0m\u001b[1;34m\"sentiment-analysis\"\u001b[0m\u001b[1;33m)\u001b[0m\u001b[1;33m\u001b[0m\u001b[1;33m\u001b[0m\u001b[0m\n\u001b[0m",
      "\u001b[1;32mc:\\Users\\Userr\\anaconda3\\envs\\FIT3163Project\\lib\\site-packages\\transformers\\pipelines\\__init__.py\u001b[0m in \u001b[0;36mpipeline\u001b[1;34m(task, model, config, tokenizer, feature_extractor, framework, revision, use_fast, use_auth_token, model_kwargs, pipeline_class, **kwargs)\u001b[0m\n\u001b[0;32m    596\u001b[0m                 \u001b[0mtokenizer_kwargs\u001b[0m \u001b[1;33m=\u001b[0m \u001b[0mmodel_kwargs\u001b[0m\u001b[1;33m\u001b[0m\u001b[1;33m\u001b[0m\u001b[0m\n\u001b[0;32m    597\u001b[0m \u001b[1;33m\u001b[0m\u001b[0m\n\u001b[1;32m--> 598\u001b[1;33m             tokenizer = AutoTokenizer.from_pretrained(\n\u001b[0m\u001b[0;32m    599\u001b[0m                 \u001b[0mtokenizer_identifier\u001b[0m\u001b[1;33m,\u001b[0m \u001b[0mrevision\u001b[0m\u001b[1;33m=\u001b[0m\u001b[0mrevision\u001b[0m\u001b[1;33m,\u001b[0m \u001b[0muse_fast\u001b[0m\u001b[1;33m=\u001b[0m\u001b[0muse_fast\u001b[0m\u001b[1;33m,\u001b[0m \u001b[0m_from_pipeline\u001b[0m\u001b[1;33m=\u001b[0m\u001b[0mtask\u001b[0m\u001b[1;33m,\u001b[0m \u001b[1;33m**\u001b[0m\u001b[0mtokenizer_kwargs\u001b[0m\u001b[1;33m\u001b[0m\u001b[1;33m\u001b[0m\u001b[0m\n\u001b[0;32m    600\u001b[0m             )\n",
      "\u001b[1;32mc:\\Users\\Userr\\anaconda3\\envs\\FIT3163Project\\lib\\site-packages\\transformers\\models\\auto\\tokenization_auto.py\u001b[0m in \u001b[0;36mfrom_pretrained\u001b[1;34m(cls, pretrained_model_name_or_path, *inputs, **kwargs)\u001b[0m\n\u001b[0;32m    571\u001b[0m             \u001b[0mtokenizer_class_py\u001b[0m\u001b[1;33m,\u001b[0m \u001b[0mtokenizer_class_fast\u001b[0m \u001b[1;33m=\u001b[0m \u001b[0mTOKENIZER_MAPPING\u001b[0m\u001b[1;33m[\u001b[0m\u001b[0mtype\u001b[0m\u001b[1;33m(\u001b[0m\u001b[0mconfig\u001b[0m\u001b[1;33m)\u001b[0m\u001b[1;33m]\u001b[0m\u001b[1;33m\u001b[0m\u001b[1;33m\u001b[0m\u001b[0m\n\u001b[0;32m    572\u001b[0m             \u001b[1;32mif\u001b[0m \u001b[0mtokenizer_class_fast\u001b[0m \u001b[1;32mand\u001b[0m \u001b[1;33m(\u001b[0m\u001b[0muse_fast\u001b[0m \u001b[1;32mor\u001b[0m \u001b[0mtokenizer_class_py\u001b[0m \u001b[1;32mis\u001b[0m \u001b[1;32mNone\u001b[0m\u001b[1;33m)\u001b[0m\u001b[1;33m:\u001b[0m\u001b[1;33m\u001b[0m\u001b[1;33m\u001b[0m\u001b[0m\n\u001b[1;32m--> 573\u001b[1;33m                 \u001b[1;32mreturn\u001b[0m \u001b[0mtokenizer_class_fast\u001b[0m\u001b[1;33m.\u001b[0m\u001b[0mfrom_pretrained\u001b[0m\u001b[1;33m(\u001b[0m\u001b[0mpretrained_model_name_or_path\u001b[0m\u001b[1;33m,\u001b[0m \u001b[1;33m*\u001b[0m\u001b[0minputs\u001b[0m\u001b[1;33m,\u001b[0m \u001b[1;33m**\u001b[0m\u001b[0mkwargs\u001b[0m\u001b[1;33m)\u001b[0m\u001b[1;33m\u001b[0m\u001b[1;33m\u001b[0m\u001b[0m\n\u001b[0m\u001b[0;32m    574\u001b[0m             \u001b[1;32melse\u001b[0m\u001b[1;33m:\u001b[0m\u001b[1;33m\u001b[0m\u001b[1;33m\u001b[0m\u001b[0m\n\u001b[0;32m    575\u001b[0m                 \u001b[1;32mif\u001b[0m \u001b[0mtokenizer_class_py\u001b[0m \u001b[1;32mis\u001b[0m \u001b[1;32mnot\u001b[0m \u001b[1;32mNone\u001b[0m\u001b[1;33m:\u001b[0m\u001b[1;33m\u001b[0m\u001b[1;33m\u001b[0m\u001b[0m\n",
      "\u001b[1;32mc:\\Users\\Userr\\anaconda3\\envs\\FIT3163Project\\lib\\site-packages\\transformers\\tokenization_utils_base.py\u001b[0m in \u001b[0;36mfrom_pretrained\u001b[1;34m(cls, pretrained_model_name_or_path, *init_inputs, **kwargs)\u001b[0m\n\u001b[0;32m   1721\u001b[0m             \u001b[1;32melse\u001b[0m\u001b[1;33m:\u001b[0m\u001b[1;33m\u001b[0m\u001b[1;33m\u001b[0m\u001b[0m\n\u001b[0;32m   1722\u001b[0m                 \u001b[1;32mtry\u001b[0m\u001b[1;33m:\u001b[0m\u001b[1;33m\u001b[0m\u001b[1;33m\u001b[0m\u001b[0m\n\u001b[1;32m-> 1723\u001b[1;33m                     resolved_vocab_files[file_id] = cached_path(\n\u001b[0m\u001b[0;32m   1724\u001b[0m                         \u001b[0mfile_path\u001b[0m\u001b[1;33m,\u001b[0m\u001b[1;33m\u001b[0m\u001b[1;33m\u001b[0m\u001b[0m\n\u001b[0;32m   1725\u001b[0m                         \u001b[0mcache_dir\u001b[0m\u001b[1;33m=\u001b[0m\u001b[0mcache_dir\u001b[0m\u001b[1;33m,\u001b[0m\u001b[1;33m\u001b[0m\u001b[1;33m\u001b[0m\u001b[0m\n",
      "\u001b[1;32mc:\\Users\\Userr\\anaconda3\\envs\\FIT3163Project\\lib\\site-packages\\transformers\\utils\\hub.py\u001b[0m in \u001b[0;36mcached_path\u001b[1;34m(url_or_filename, cache_dir, force_download, proxies, resume_download, user_agent, extract_compressed_file, force_extract, use_auth_token, local_files_only)\u001b[0m\n\u001b[0;32m    280\u001b[0m     \u001b[1;32mif\u001b[0m \u001b[0mis_remote_url\u001b[0m\u001b[1;33m(\u001b[0m\u001b[0murl_or_filename\u001b[0m\u001b[1;33m)\u001b[0m\u001b[1;33m:\u001b[0m\u001b[1;33m\u001b[0m\u001b[1;33m\u001b[0m\u001b[0m\n\u001b[0;32m    281\u001b[0m         \u001b[1;31m# URL, so get it from the cache (downloading if necessary)\u001b[0m\u001b[1;33m\u001b[0m\u001b[1;33m\u001b[0m\u001b[0m\n\u001b[1;32m--> 282\u001b[1;33m         output_path = get_from_cache(\n\u001b[0m\u001b[0;32m    283\u001b[0m             \u001b[0murl_or_filename\u001b[0m\u001b[1;33m,\u001b[0m\u001b[1;33m\u001b[0m\u001b[1;33m\u001b[0m\u001b[0m\n\u001b[0;32m    284\u001b[0m             \u001b[0mcache_dir\u001b[0m\u001b[1;33m=\u001b[0m\u001b[0mcache_dir\u001b[0m\u001b[1;33m,\u001b[0m\u001b[1;33m\u001b[0m\u001b[1;33m\u001b[0m\u001b[0m\n",
      "\u001b[1;32mc:\\Users\\Userr\\anaconda3\\envs\\FIT3163Project\\lib\\site-packages\\transformers\\utils\\hub.py\u001b[0m in \u001b[0;36mget_from_cache\u001b[1;34m(url, cache_dir, force_download, proxies, etag_timeout, resume_download, user_agent, use_auth_token, local_files_only)\u001b[0m\n\u001b[0;32m    483\u001b[0m     \u001b[1;32mif\u001b[0m \u001b[1;32mnot\u001b[0m \u001b[0mlocal_files_only\u001b[0m\u001b[1;33m:\u001b[0m\u001b[1;33m\u001b[0m\u001b[1;33m\u001b[0m\u001b[0m\n\u001b[0;32m    484\u001b[0m         \u001b[1;32mtry\u001b[0m\u001b[1;33m:\u001b[0m\u001b[1;33m\u001b[0m\u001b[1;33m\u001b[0m\u001b[0m\n\u001b[1;32m--> 485\u001b[1;33m             \u001b[0mr\u001b[0m \u001b[1;33m=\u001b[0m \u001b[0mrequests\u001b[0m\u001b[1;33m.\u001b[0m\u001b[0mhead\u001b[0m\u001b[1;33m(\u001b[0m\u001b[0murl\u001b[0m\u001b[1;33m,\u001b[0m \u001b[0mheaders\u001b[0m\u001b[1;33m=\u001b[0m\u001b[0mheaders\u001b[0m\u001b[1;33m,\u001b[0m \u001b[0mallow_redirects\u001b[0m\u001b[1;33m=\u001b[0m\u001b[1;32mFalse\u001b[0m\u001b[1;33m,\u001b[0m \u001b[0mproxies\u001b[0m\u001b[1;33m=\u001b[0m\u001b[0mproxies\u001b[0m\u001b[1;33m,\u001b[0m \u001b[0mtimeout\u001b[0m\u001b[1;33m=\u001b[0m\u001b[0metag_timeout\u001b[0m\u001b[1;33m)\u001b[0m\u001b[1;33m\u001b[0m\u001b[1;33m\u001b[0m\u001b[0m\n\u001b[0m\u001b[0;32m    486\u001b[0m             \u001b[0m_raise_for_status\u001b[0m\u001b[1;33m(\u001b[0m\u001b[0mr\u001b[0m\u001b[1;33m)\u001b[0m\u001b[1;33m\u001b[0m\u001b[1;33m\u001b[0m\u001b[0m\n\u001b[0;32m    487\u001b[0m             \u001b[0metag\u001b[0m \u001b[1;33m=\u001b[0m \u001b[0mr\u001b[0m\u001b[1;33m.\u001b[0m\u001b[0mheaders\u001b[0m\u001b[1;33m.\u001b[0m\u001b[0mget\u001b[0m\u001b[1;33m(\u001b[0m\u001b[1;34m\"X-Linked-Etag\"\u001b[0m\u001b[1;33m)\u001b[0m \u001b[1;32mor\u001b[0m \u001b[0mr\u001b[0m\u001b[1;33m.\u001b[0m\u001b[0mheaders\u001b[0m\u001b[1;33m.\u001b[0m\u001b[0mget\u001b[0m\u001b[1;33m(\u001b[0m\u001b[1;34m\"ETag\"\u001b[0m\u001b[1;33m)\u001b[0m\u001b[1;33m\u001b[0m\u001b[1;33m\u001b[0m\u001b[0m\n",
      "\u001b[1;32mc:\\Users\\Userr\\anaconda3\\envs\\FIT3163Project\\lib\\site-packages\\requests\\api.py\u001b[0m in \u001b[0;36mhead\u001b[1;34m(url, **kwargs)\u001b[0m\n\u001b[0;32m    100\u001b[0m \u001b[1;33m\u001b[0m\u001b[0m\n\u001b[0;32m    101\u001b[0m     \u001b[0mkwargs\u001b[0m\u001b[1;33m.\u001b[0m\u001b[0msetdefault\u001b[0m\u001b[1;33m(\u001b[0m\u001b[1;34m'allow_redirects'\u001b[0m\u001b[1;33m,\u001b[0m \u001b[1;32mFalse\u001b[0m\u001b[1;33m)\u001b[0m\u001b[1;33m\u001b[0m\u001b[1;33m\u001b[0m\u001b[0m\n\u001b[1;32m--> 102\u001b[1;33m     \u001b[1;32mreturn\u001b[0m \u001b[0mrequest\u001b[0m\u001b[1;33m(\u001b[0m\u001b[1;34m'head'\u001b[0m\u001b[1;33m,\u001b[0m \u001b[0murl\u001b[0m\u001b[1;33m,\u001b[0m \u001b[1;33m**\u001b[0m\u001b[0mkwargs\u001b[0m\u001b[1;33m)\u001b[0m\u001b[1;33m\u001b[0m\u001b[1;33m\u001b[0m\u001b[0m\n\u001b[0m\u001b[0;32m    103\u001b[0m \u001b[1;33m\u001b[0m\u001b[0m\n\u001b[0;32m    104\u001b[0m \u001b[1;33m\u001b[0m\u001b[0m\n",
      "\u001b[1;32mc:\\Users\\Userr\\anaconda3\\envs\\FIT3163Project\\lib\\site-packages\\requests\\api.py\u001b[0m in \u001b[0;36mrequest\u001b[1;34m(method, url, **kwargs)\u001b[0m\n\u001b[0;32m     59\u001b[0m     \u001b[1;31m# cases, and look like a memory leak in others.\u001b[0m\u001b[1;33m\u001b[0m\u001b[1;33m\u001b[0m\u001b[0m\n\u001b[0;32m     60\u001b[0m     \u001b[1;32mwith\u001b[0m \u001b[0msessions\u001b[0m\u001b[1;33m.\u001b[0m\u001b[0mSession\u001b[0m\u001b[1;33m(\u001b[0m\u001b[1;33m)\u001b[0m \u001b[1;32mas\u001b[0m \u001b[0msession\u001b[0m\u001b[1;33m:\u001b[0m\u001b[1;33m\u001b[0m\u001b[1;33m\u001b[0m\u001b[0m\n\u001b[1;32m---> 61\u001b[1;33m         \u001b[1;32mreturn\u001b[0m \u001b[0msession\u001b[0m\u001b[1;33m.\u001b[0m\u001b[0mrequest\u001b[0m\u001b[1;33m(\u001b[0m\u001b[0mmethod\u001b[0m\u001b[1;33m=\u001b[0m\u001b[0mmethod\u001b[0m\u001b[1;33m,\u001b[0m \u001b[0murl\u001b[0m\u001b[1;33m=\u001b[0m\u001b[0murl\u001b[0m\u001b[1;33m,\u001b[0m \u001b[1;33m**\u001b[0m\u001b[0mkwargs\u001b[0m\u001b[1;33m)\u001b[0m\u001b[1;33m\u001b[0m\u001b[1;33m\u001b[0m\u001b[0m\n\u001b[0m\u001b[0;32m     62\u001b[0m \u001b[1;33m\u001b[0m\u001b[0m\n\u001b[0;32m     63\u001b[0m \u001b[1;33m\u001b[0m\u001b[0m\n",
      "\u001b[1;32mc:\\Users\\Userr\\anaconda3\\envs\\FIT3163Project\\lib\\site-packages\\requests\\sessions.py\u001b[0m in \u001b[0;36mrequest\u001b[1;34m(self, method, url, params, data, headers, cookies, files, auth, timeout, allow_redirects, proxies, hooks, stream, verify, cert, json)\u001b[0m\n\u001b[0;32m    540\u001b[0m         }\n\u001b[0;32m    541\u001b[0m         \u001b[0msend_kwargs\u001b[0m\u001b[1;33m.\u001b[0m\u001b[0mupdate\u001b[0m\u001b[1;33m(\u001b[0m\u001b[0msettings\u001b[0m\u001b[1;33m)\u001b[0m\u001b[1;33m\u001b[0m\u001b[1;33m\u001b[0m\u001b[0m\n\u001b[1;32m--> 542\u001b[1;33m         \u001b[0mresp\u001b[0m \u001b[1;33m=\u001b[0m \u001b[0mself\u001b[0m\u001b[1;33m.\u001b[0m\u001b[0msend\u001b[0m\u001b[1;33m(\u001b[0m\u001b[0mprep\u001b[0m\u001b[1;33m,\u001b[0m \u001b[1;33m**\u001b[0m\u001b[0msend_kwargs\u001b[0m\u001b[1;33m)\u001b[0m\u001b[1;33m\u001b[0m\u001b[1;33m\u001b[0m\u001b[0m\n\u001b[0m\u001b[0;32m    543\u001b[0m \u001b[1;33m\u001b[0m\u001b[0m\n\u001b[0;32m    544\u001b[0m         \u001b[1;32mreturn\u001b[0m \u001b[0mresp\u001b[0m\u001b[1;33m\u001b[0m\u001b[1;33m\u001b[0m\u001b[0m\n",
      "\u001b[1;32mc:\\Users\\Userr\\anaconda3\\envs\\FIT3163Project\\lib\\site-packages\\requests\\sessions.py\u001b[0m in \u001b[0;36msend\u001b[1;34m(self, request, **kwargs)\u001b[0m\n\u001b[0;32m    653\u001b[0m \u001b[1;33m\u001b[0m\u001b[0m\n\u001b[0;32m    654\u001b[0m         \u001b[1;31m# Send the request\u001b[0m\u001b[1;33m\u001b[0m\u001b[1;33m\u001b[0m\u001b[0m\n\u001b[1;32m--> 655\u001b[1;33m         \u001b[0mr\u001b[0m \u001b[1;33m=\u001b[0m \u001b[0madapter\u001b[0m\u001b[1;33m.\u001b[0m\u001b[0msend\u001b[0m\u001b[1;33m(\u001b[0m\u001b[0mrequest\u001b[0m\u001b[1;33m,\u001b[0m \u001b[1;33m**\u001b[0m\u001b[0mkwargs\u001b[0m\u001b[1;33m)\u001b[0m\u001b[1;33m\u001b[0m\u001b[1;33m\u001b[0m\u001b[0m\n\u001b[0m\u001b[0;32m    656\u001b[0m \u001b[1;33m\u001b[0m\u001b[0m\n\u001b[0;32m    657\u001b[0m         \u001b[1;31m# Total elapsed time of the request (approximately)\u001b[0m\u001b[1;33m\u001b[0m\u001b[1;33m\u001b[0m\u001b[0m\n",
      "\u001b[1;32mc:\\Users\\Userr\\anaconda3\\envs\\FIT3163Project\\lib\\site-packages\\requests\\adapters.py\u001b[0m in \u001b[0;36msend\u001b[1;34m(self, request, stream, timeout, verify, cert, proxies)\u001b[0m\n\u001b[0;32m    437\u001b[0m         \u001b[1;32mtry\u001b[0m\u001b[1;33m:\u001b[0m\u001b[1;33m\u001b[0m\u001b[1;33m\u001b[0m\u001b[0m\n\u001b[0;32m    438\u001b[0m             \u001b[1;32mif\u001b[0m \u001b[1;32mnot\u001b[0m \u001b[0mchunked\u001b[0m\u001b[1;33m:\u001b[0m\u001b[1;33m\u001b[0m\u001b[1;33m\u001b[0m\u001b[0m\n\u001b[1;32m--> 439\u001b[1;33m                 resp = conn.urlopen(\n\u001b[0m\u001b[0;32m    440\u001b[0m                     \u001b[0mmethod\u001b[0m\u001b[1;33m=\u001b[0m\u001b[0mrequest\u001b[0m\u001b[1;33m.\u001b[0m\u001b[0mmethod\u001b[0m\u001b[1;33m,\u001b[0m\u001b[1;33m\u001b[0m\u001b[1;33m\u001b[0m\u001b[0m\n\u001b[0;32m    441\u001b[0m                     \u001b[0murl\u001b[0m\u001b[1;33m=\u001b[0m\u001b[0murl\u001b[0m\u001b[1;33m,\u001b[0m\u001b[1;33m\u001b[0m\u001b[1;33m\u001b[0m\u001b[0m\n",
      "\u001b[1;32mc:\\Users\\Userr\\anaconda3\\envs\\FIT3163Project\\lib\\site-packages\\urllib3\\connectionpool.py\u001b[0m in \u001b[0;36murlopen\u001b[1;34m(self, method, url, body, headers, retries, redirect, assert_same_host, timeout, pool_timeout, release_conn, chunked, body_pos, **response_kw)\u001b[0m\n\u001b[0;32m    697\u001b[0m \u001b[1;33m\u001b[0m\u001b[0m\n\u001b[0;32m    698\u001b[0m             \u001b[1;31m# Make the request on the httplib connection object.\u001b[0m\u001b[1;33m\u001b[0m\u001b[1;33m\u001b[0m\u001b[0m\n\u001b[1;32m--> 699\u001b[1;33m             httplib_response = self._make_request(\n\u001b[0m\u001b[0;32m    700\u001b[0m                 \u001b[0mconn\u001b[0m\u001b[1;33m,\u001b[0m\u001b[1;33m\u001b[0m\u001b[1;33m\u001b[0m\u001b[0m\n\u001b[0;32m    701\u001b[0m                 \u001b[0mmethod\u001b[0m\u001b[1;33m,\u001b[0m\u001b[1;33m\u001b[0m\u001b[1;33m\u001b[0m\u001b[0m\n",
      "\u001b[1;32mc:\\Users\\Userr\\anaconda3\\envs\\FIT3163Project\\lib\\site-packages\\urllib3\\connectionpool.py\u001b[0m in \u001b[0;36m_make_request\u001b[1;34m(self, conn, method, url, timeout, chunked, **httplib_request_kw)\u001b[0m\n\u001b[0;32m    380\u001b[0m         \u001b[1;31m# Trigger any extra validation we need to do.\u001b[0m\u001b[1;33m\u001b[0m\u001b[1;33m\u001b[0m\u001b[0m\n\u001b[0;32m    381\u001b[0m         \u001b[1;32mtry\u001b[0m\u001b[1;33m:\u001b[0m\u001b[1;33m\u001b[0m\u001b[1;33m\u001b[0m\u001b[0m\n\u001b[1;32m--> 382\u001b[1;33m             \u001b[0mself\u001b[0m\u001b[1;33m.\u001b[0m\u001b[0m_validate_conn\u001b[0m\u001b[1;33m(\u001b[0m\u001b[0mconn\u001b[0m\u001b[1;33m)\u001b[0m\u001b[1;33m\u001b[0m\u001b[1;33m\u001b[0m\u001b[0m\n\u001b[0m\u001b[0;32m    383\u001b[0m         \u001b[1;32mexcept\u001b[0m \u001b[1;33m(\u001b[0m\u001b[0mSocketTimeout\u001b[0m\u001b[1;33m,\u001b[0m \u001b[0mBaseSSLError\u001b[0m\u001b[1;33m)\u001b[0m \u001b[1;32mas\u001b[0m \u001b[0me\u001b[0m\u001b[1;33m:\u001b[0m\u001b[1;33m\u001b[0m\u001b[1;33m\u001b[0m\u001b[0m\n\u001b[0;32m    384\u001b[0m             \u001b[1;31m# Py2 raises this as a BaseSSLError, Py3 raises it as socket timeout.\u001b[0m\u001b[1;33m\u001b[0m\u001b[1;33m\u001b[0m\u001b[0m\n",
      "\u001b[1;32mc:\\Users\\Userr\\anaconda3\\envs\\FIT3163Project\\lib\\site-packages\\urllib3\\connectionpool.py\u001b[0m in \u001b[0;36m_validate_conn\u001b[1;34m(self, conn)\u001b[0m\n\u001b[0;32m   1008\u001b[0m         \u001b[1;31m# Force connect early to allow us to validate the connection.\u001b[0m\u001b[1;33m\u001b[0m\u001b[1;33m\u001b[0m\u001b[0m\n\u001b[0;32m   1009\u001b[0m         \u001b[1;32mif\u001b[0m \u001b[1;32mnot\u001b[0m \u001b[0mgetattr\u001b[0m\u001b[1;33m(\u001b[0m\u001b[0mconn\u001b[0m\u001b[1;33m,\u001b[0m \u001b[1;34m\"sock\"\u001b[0m\u001b[1;33m,\u001b[0m \u001b[1;32mNone\u001b[0m\u001b[1;33m)\u001b[0m\u001b[1;33m:\u001b[0m  \u001b[1;31m# AppEngine might not have  `.sock`\u001b[0m\u001b[1;33m\u001b[0m\u001b[1;33m\u001b[0m\u001b[0m\n\u001b[1;32m-> 1010\u001b[1;33m             \u001b[0mconn\u001b[0m\u001b[1;33m.\u001b[0m\u001b[0mconnect\u001b[0m\u001b[1;33m(\u001b[0m\u001b[1;33m)\u001b[0m\u001b[1;33m\u001b[0m\u001b[1;33m\u001b[0m\u001b[0m\n\u001b[0m\u001b[0;32m   1011\u001b[0m \u001b[1;33m\u001b[0m\u001b[0m\n\u001b[0;32m   1012\u001b[0m         \u001b[1;32mif\u001b[0m \u001b[1;32mnot\u001b[0m \u001b[0mconn\u001b[0m\u001b[1;33m.\u001b[0m\u001b[0mis_verified\u001b[0m\u001b[1;33m:\u001b[0m\u001b[1;33m\u001b[0m\u001b[1;33m\u001b[0m\u001b[0m\n",
      "\u001b[1;32mc:\\Users\\Userr\\anaconda3\\envs\\FIT3163Project\\lib\\site-packages\\urllib3\\connection.py\u001b[0m in \u001b[0;36mconnect\u001b[1;34m(self)\u001b[0m\n\u001b[0;32m    414\u001b[0m             \u001b[0mcontext\u001b[0m\u001b[1;33m.\u001b[0m\u001b[0mload_default_certs\u001b[0m\u001b[1;33m(\u001b[0m\u001b[1;33m)\u001b[0m\u001b[1;33m\u001b[0m\u001b[1;33m\u001b[0m\u001b[0m\n\u001b[0;32m    415\u001b[0m \u001b[1;33m\u001b[0m\u001b[0m\n\u001b[1;32m--> 416\u001b[1;33m         self.sock = ssl_wrap_socket(\n\u001b[0m\u001b[0;32m    417\u001b[0m             \u001b[0msock\u001b[0m\u001b[1;33m=\u001b[0m\u001b[0mconn\u001b[0m\u001b[1;33m,\u001b[0m\u001b[1;33m\u001b[0m\u001b[1;33m\u001b[0m\u001b[0m\n\u001b[0;32m    418\u001b[0m             \u001b[0mkeyfile\u001b[0m\u001b[1;33m=\u001b[0m\u001b[0mself\u001b[0m\u001b[1;33m.\u001b[0m\u001b[0mkey_file\u001b[0m\u001b[1;33m,\u001b[0m\u001b[1;33m\u001b[0m\u001b[1;33m\u001b[0m\u001b[0m\n",
      "\u001b[1;32mc:\\Users\\Userr\\anaconda3\\envs\\FIT3163Project\\lib\\site-packages\\urllib3\\util\\ssl_.py\u001b[0m in \u001b[0;36mssl_wrap_socket\u001b[1;34m(sock, keyfile, certfile, cert_reqs, ca_certs, server_hostname, ssl_version, ciphers, ssl_context, ca_cert_dir, key_password, ca_cert_data, tls_in_tls)\u001b[0m\n\u001b[0;32m    447\u001b[0m \u001b[1;33m\u001b[0m\u001b[0m\n\u001b[0;32m    448\u001b[0m     \u001b[1;32mif\u001b[0m \u001b[0msend_sni\u001b[0m\u001b[1;33m:\u001b[0m\u001b[1;33m\u001b[0m\u001b[1;33m\u001b[0m\u001b[0m\n\u001b[1;32m--> 449\u001b[1;33m         ssl_sock = _ssl_wrap_socket_impl(\n\u001b[0m\u001b[0;32m    450\u001b[0m             \u001b[0msock\u001b[0m\u001b[1;33m,\u001b[0m \u001b[0mcontext\u001b[0m\u001b[1;33m,\u001b[0m \u001b[0mtls_in_tls\u001b[0m\u001b[1;33m,\u001b[0m \u001b[0mserver_hostname\u001b[0m\u001b[1;33m=\u001b[0m\u001b[0mserver_hostname\u001b[0m\u001b[1;33m\u001b[0m\u001b[1;33m\u001b[0m\u001b[0m\n\u001b[0;32m    451\u001b[0m         )\n",
      "\u001b[1;32mc:\\Users\\Userr\\anaconda3\\envs\\FIT3163Project\\lib\\site-packages\\urllib3\\util\\ssl_.py\u001b[0m in \u001b[0;36m_ssl_wrap_socket_impl\u001b[1;34m(sock, ssl_context, tls_in_tls, server_hostname)\u001b[0m\n\u001b[0;32m    491\u001b[0m \u001b[1;33m\u001b[0m\u001b[0m\n\u001b[0;32m    492\u001b[0m     \u001b[1;32mif\u001b[0m \u001b[0mserver_hostname\u001b[0m\u001b[1;33m:\u001b[0m\u001b[1;33m\u001b[0m\u001b[1;33m\u001b[0m\u001b[0m\n\u001b[1;32m--> 493\u001b[1;33m         \u001b[1;32mreturn\u001b[0m \u001b[0mssl_context\u001b[0m\u001b[1;33m.\u001b[0m\u001b[0mwrap_socket\u001b[0m\u001b[1;33m(\u001b[0m\u001b[0msock\u001b[0m\u001b[1;33m,\u001b[0m \u001b[0mserver_hostname\u001b[0m\u001b[1;33m=\u001b[0m\u001b[0mserver_hostname\u001b[0m\u001b[1;33m)\u001b[0m\u001b[1;33m\u001b[0m\u001b[1;33m\u001b[0m\u001b[0m\n\u001b[0m\u001b[0;32m    494\u001b[0m     \u001b[1;32melse\u001b[0m\u001b[1;33m:\u001b[0m\u001b[1;33m\u001b[0m\u001b[1;33m\u001b[0m\u001b[0m\n\u001b[0;32m    495\u001b[0m         \u001b[1;32mreturn\u001b[0m \u001b[0mssl_context\u001b[0m\u001b[1;33m.\u001b[0m\u001b[0mwrap_socket\u001b[0m\u001b[1;33m(\u001b[0m\u001b[0msock\u001b[0m\u001b[1;33m)\u001b[0m\u001b[1;33m\u001b[0m\u001b[1;33m\u001b[0m\u001b[0m\n",
      "\u001b[1;32mc:\\Users\\Userr\\anaconda3\\envs\\FIT3163Project\\lib\\ssl.py\u001b[0m in \u001b[0;36mwrap_socket\u001b[1;34m(self, sock, server_side, do_handshake_on_connect, suppress_ragged_eofs, server_hostname, session)\u001b[0m\n\u001b[0;32m    498\u001b[0m         \u001b[1;31m# SSLSocket class handles server_hostname encoding before it calls\u001b[0m\u001b[1;33m\u001b[0m\u001b[1;33m\u001b[0m\u001b[0m\n\u001b[0;32m    499\u001b[0m         \u001b[1;31m# ctx._wrap_socket()\u001b[0m\u001b[1;33m\u001b[0m\u001b[1;33m\u001b[0m\u001b[0m\n\u001b[1;32m--> 500\u001b[1;33m         return self.sslsocket_class._create(\n\u001b[0m\u001b[0;32m    501\u001b[0m             \u001b[0msock\u001b[0m\u001b[1;33m=\u001b[0m\u001b[0msock\u001b[0m\u001b[1;33m,\u001b[0m\u001b[1;33m\u001b[0m\u001b[1;33m\u001b[0m\u001b[0m\n\u001b[0;32m    502\u001b[0m             \u001b[0mserver_side\u001b[0m\u001b[1;33m=\u001b[0m\u001b[0mserver_side\u001b[0m\u001b[1;33m,\u001b[0m\u001b[1;33m\u001b[0m\u001b[1;33m\u001b[0m\u001b[0m\n",
      "\u001b[1;32mc:\\Users\\Userr\\anaconda3\\envs\\FIT3163Project\\lib\\ssl.py\u001b[0m in \u001b[0;36m_create\u001b[1;34m(cls, sock, server_side, do_handshake_on_connect, suppress_ragged_eofs, server_hostname, context, session)\u001b[0m\n\u001b[0;32m   1038\u001b[0m                         \u001b[1;31m# non-blocking\u001b[0m\u001b[1;33m\u001b[0m\u001b[1;33m\u001b[0m\u001b[0m\n\u001b[0;32m   1039\u001b[0m                         \u001b[1;32mraise\u001b[0m \u001b[0mValueError\u001b[0m\u001b[1;33m(\u001b[0m\u001b[1;34m\"do_handshake_on_connect should not be specified for non-blocking sockets\"\u001b[0m\u001b[1;33m)\u001b[0m\u001b[1;33m\u001b[0m\u001b[1;33m\u001b[0m\u001b[0m\n\u001b[1;32m-> 1040\u001b[1;33m                     \u001b[0mself\u001b[0m\u001b[1;33m.\u001b[0m\u001b[0mdo_handshake\u001b[0m\u001b[1;33m(\u001b[0m\u001b[1;33m)\u001b[0m\u001b[1;33m\u001b[0m\u001b[1;33m\u001b[0m\u001b[0m\n\u001b[0m\u001b[0;32m   1041\u001b[0m             \u001b[1;32mexcept\u001b[0m \u001b[1;33m(\u001b[0m\u001b[0mOSError\u001b[0m\u001b[1;33m,\u001b[0m \u001b[0mValueError\u001b[0m\u001b[1;33m)\u001b[0m\u001b[1;33m:\u001b[0m\u001b[1;33m\u001b[0m\u001b[1;33m\u001b[0m\u001b[0m\n\u001b[0;32m   1042\u001b[0m                 \u001b[0mself\u001b[0m\u001b[1;33m.\u001b[0m\u001b[0mclose\u001b[0m\u001b[1;33m(\u001b[0m\u001b[1;33m)\u001b[0m\u001b[1;33m\u001b[0m\u001b[1;33m\u001b[0m\u001b[0m\n",
      "\u001b[1;32mc:\\Users\\Userr\\anaconda3\\envs\\FIT3163Project\\lib\\ssl.py\u001b[0m in \u001b[0;36mdo_handshake\u001b[1;34m(self, block)\u001b[0m\n\u001b[0;32m   1307\u001b[0m             \u001b[1;32mif\u001b[0m \u001b[0mtimeout\u001b[0m \u001b[1;33m==\u001b[0m \u001b[1;36m0.0\u001b[0m \u001b[1;32mand\u001b[0m \u001b[0mblock\u001b[0m\u001b[1;33m:\u001b[0m\u001b[1;33m\u001b[0m\u001b[1;33m\u001b[0m\u001b[0m\n\u001b[0;32m   1308\u001b[0m                 \u001b[0mself\u001b[0m\u001b[1;33m.\u001b[0m\u001b[0msettimeout\u001b[0m\u001b[1;33m(\u001b[0m\u001b[1;32mNone\u001b[0m\u001b[1;33m)\u001b[0m\u001b[1;33m\u001b[0m\u001b[1;33m\u001b[0m\u001b[0m\n\u001b[1;32m-> 1309\u001b[1;33m             \u001b[0mself\u001b[0m\u001b[1;33m.\u001b[0m\u001b[0m_sslobj\u001b[0m\u001b[1;33m.\u001b[0m\u001b[0mdo_handshake\u001b[0m\u001b[1;33m(\u001b[0m\u001b[1;33m)\u001b[0m\u001b[1;33m\u001b[0m\u001b[1;33m\u001b[0m\u001b[0m\n\u001b[0m\u001b[0;32m   1310\u001b[0m         \u001b[1;32mfinally\u001b[0m\u001b[1;33m:\u001b[0m\u001b[1;33m\u001b[0m\u001b[1;33m\u001b[0m\u001b[0m\n\u001b[0;32m   1311\u001b[0m             \u001b[0mself\u001b[0m\u001b[1;33m.\u001b[0m\u001b[0msettimeout\u001b[0m\u001b[1;33m(\u001b[0m\u001b[0mtimeout\u001b[0m\u001b[1;33m)\u001b[0m\u001b[1;33m\u001b[0m\u001b[1;33m\u001b[0m\u001b[0m\n",
      "\u001b[1;31mKeyboardInterrupt\u001b[0m: "
     ]
    }
   ],
   "source": [
    "classifier = pipeline(\"sentiment-analysis\")"
   ]
  },
  {
   "cell_type": "code",
   "execution_count": 4,
   "metadata": {},
   "outputs": [
    {
     "data": {
      "text/plain": [
       "[{'label': 'POSITIVE', 'score': 0.9997795224189758}]"
      ]
     },
     "execution_count": 4,
     "metadata": {},
     "output_type": "execute_result"
    }
   ],
   "source": [
    "classifier(\"We are very happy to show you the 🤗 Transformers library.\")"
   ]
  },
  {
   "cell_type": "code",
   "execution_count": 34,
   "metadata": {},
   "outputs": [],
   "source": [
    "from transformers import AutoTokenizer"
   ]
  },
  {
   "cell_type": "code",
   "execution_count": 35,
   "metadata": {},
   "outputs": [
    {
     "ename": "KeyboardInterrupt",
     "evalue": "",
     "output_type": "error",
     "traceback": [
      "\u001b[1;31m---------------------------------------------------------------------------\u001b[0m",
      "\u001b[1;31mKeyboardInterrupt\u001b[0m                         Traceback (most recent call last)",
      "\u001b[1;32m~\\AppData\\Local\\Temp/ipykernel_21688/2528513372.py\u001b[0m in \u001b[0;36m<module>\u001b[1;34m\u001b[0m\n\u001b[1;32m----> 1\u001b[1;33m \u001b[0mtokenizer\u001b[0m \u001b[1;33m=\u001b[0m \u001b[0mAutoTokenizer\u001b[0m\u001b[1;33m.\u001b[0m\u001b[0mfrom_pretrained\u001b[0m\u001b[1;33m(\u001b[0m\u001b[1;34m\"nlptown/bert-base-multilingual-uncased-sentiment\"\u001b[0m\u001b[1;33m)\u001b[0m\u001b[1;33m\u001b[0m\u001b[1;33m\u001b[0m\u001b[0m\n\u001b[0m",
      "\u001b[1;32mc:\\Users\\Userr\\anaconda3\\envs\\FIT3163Project\\lib\\site-packages\\transformers\\models\\auto\\tokenization_auto.py\u001b[0m in \u001b[0;36mfrom_pretrained\u001b[1;34m(cls, pretrained_model_name_or_path, *inputs, **kwargs)\u001b[0m\n\u001b[0;32m    571\u001b[0m             \u001b[0mtokenizer_class_py\u001b[0m\u001b[1;33m,\u001b[0m \u001b[0mtokenizer_class_fast\u001b[0m \u001b[1;33m=\u001b[0m \u001b[0mTOKENIZER_MAPPING\u001b[0m\u001b[1;33m[\u001b[0m\u001b[0mtype\u001b[0m\u001b[1;33m(\u001b[0m\u001b[0mconfig\u001b[0m\u001b[1;33m)\u001b[0m\u001b[1;33m]\u001b[0m\u001b[1;33m\u001b[0m\u001b[1;33m\u001b[0m\u001b[0m\n\u001b[0;32m    572\u001b[0m             \u001b[1;32mif\u001b[0m \u001b[0mtokenizer_class_fast\u001b[0m \u001b[1;32mand\u001b[0m \u001b[1;33m(\u001b[0m\u001b[0muse_fast\u001b[0m \u001b[1;32mor\u001b[0m \u001b[0mtokenizer_class_py\u001b[0m \u001b[1;32mis\u001b[0m \u001b[1;32mNone\u001b[0m\u001b[1;33m)\u001b[0m\u001b[1;33m:\u001b[0m\u001b[1;33m\u001b[0m\u001b[1;33m\u001b[0m\u001b[0m\n\u001b[1;32m--> 573\u001b[1;33m                 \u001b[1;32mreturn\u001b[0m \u001b[0mtokenizer_class_fast\u001b[0m\u001b[1;33m.\u001b[0m\u001b[0mfrom_pretrained\u001b[0m\u001b[1;33m(\u001b[0m\u001b[0mpretrained_model_name_or_path\u001b[0m\u001b[1;33m,\u001b[0m \u001b[1;33m*\u001b[0m\u001b[0minputs\u001b[0m\u001b[1;33m,\u001b[0m \u001b[1;33m**\u001b[0m\u001b[0mkwargs\u001b[0m\u001b[1;33m)\u001b[0m\u001b[1;33m\u001b[0m\u001b[1;33m\u001b[0m\u001b[0m\n\u001b[0m\u001b[0;32m    574\u001b[0m             \u001b[1;32melse\u001b[0m\u001b[1;33m:\u001b[0m\u001b[1;33m\u001b[0m\u001b[1;33m\u001b[0m\u001b[0m\n\u001b[0;32m    575\u001b[0m                 \u001b[1;32mif\u001b[0m \u001b[0mtokenizer_class_py\u001b[0m \u001b[1;32mis\u001b[0m \u001b[1;32mnot\u001b[0m \u001b[1;32mNone\u001b[0m\u001b[1;33m:\u001b[0m\u001b[1;33m\u001b[0m\u001b[1;33m\u001b[0m\u001b[0m\n",
      "\u001b[1;32mc:\\Users\\Userr\\anaconda3\\envs\\FIT3163Project\\lib\\site-packages\\transformers\\tokenization_utils_base.py\u001b[0m in \u001b[0;36mfrom_pretrained\u001b[1;34m(cls, pretrained_model_name_or_path, *init_inputs, **kwargs)\u001b[0m\n\u001b[0;32m   1721\u001b[0m             \u001b[1;32melse\u001b[0m\u001b[1;33m:\u001b[0m\u001b[1;33m\u001b[0m\u001b[1;33m\u001b[0m\u001b[0m\n\u001b[0;32m   1722\u001b[0m                 \u001b[1;32mtry\u001b[0m\u001b[1;33m:\u001b[0m\u001b[1;33m\u001b[0m\u001b[1;33m\u001b[0m\u001b[0m\n\u001b[1;32m-> 1723\u001b[1;33m                     resolved_vocab_files[file_id] = cached_path(\n\u001b[0m\u001b[0;32m   1724\u001b[0m                         \u001b[0mfile_path\u001b[0m\u001b[1;33m,\u001b[0m\u001b[1;33m\u001b[0m\u001b[1;33m\u001b[0m\u001b[0m\n\u001b[0;32m   1725\u001b[0m                         \u001b[0mcache_dir\u001b[0m\u001b[1;33m=\u001b[0m\u001b[0mcache_dir\u001b[0m\u001b[1;33m,\u001b[0m\u001b[1;33m\u001b[0m\u001b[1;33m\u001b[0m\u001b[0m\n",
      "\u001b[1;32mc:\\Users\\Userr\\anaconda3\\envs\\FIT3163Project\\lib\\site-packages\\transformers\\utils\\hub.py\u001b[0m in \u001b[0;36mcached_path\u001b[1;34m(url_or_filename, cache_dir, force_download, proxies, resume_download, user_agent, extract_compressed_file, force_extract, use_auth_token, local_files_only)\u001b[0m\n\u001b[0;32m    280\u001b[0m     \u001b[1;32mif\u001b[0m \u001b[0mis_remote_url\u001b[0m\u001b[1;33m(\u001b[0m\u001b[0murl_or_filename\u001b[0m\u001b[1;33m)\u001b[0m\u001b[1;33m:\u001b[0m\u001b[1;33m\u001b[0m\u001b[1;33m\u001b[0m\u001b[0m\n\u001b[0;32m    281\u001b[0m         \u001b[1;31m# URL, so get it from the cache (downloading if necessary)\u001b[0m\u001b[1;33m\u001b[0m\u001b[1;33m\u001b[0m\u001b[0m\n\u001b[1;32m--> 282\u001b[1;33m         output_path = get_from_cache(\n\u001b[0m\u001b[0;32m    283\u001b[0m             \u001b[0murl_or_filename\u001b[0m\u001b[1;33m,\u001b[0m\u001b[1;33m\u001b[0m\u001b[1;33m\u001b[0m\u001b[0m\n\u001b[0;32m    284\u001b[0m             \u001b[0mcache_dir\u001b[0m\u001b[1;33m=\u001b[0m\u001b[0mcache_dir\u001b[0m\u001b[1;33m,\u001b[0m\u001b[1;33m\u001b[0m\u001b[1;33m\u001b[0m\u001b[0m\n",
      "\u001b[1;32mc:\\Users\\Userr\\anaconda3\\envs\\FIT3163Project\\lib\\site-packages\\transformers\\utils\\hub.py\u001b[0m in \u001b[0;36mget_from_cache\u001b[1;34m(url, cache_dir, force_download, proxies, etag_timeout, resume_download, user_agent, use_auth_token, local_files_only)\u001b[0m\n\u001b[0;32m    483\u001b[0m     \u001b[1;32mif\u001b[0m \u001b[1;32mnot\u001b[0m \u001b[0mlocal_files_only\u001b[0m\u001b[1;33m:\u001b[0m\u001b[1;33m\u001b[0m\u001b[1;33m\u001b[0m\u001b[0m\n\u001b[0;32m    484\u001b[0m         \u001b[1;32mtry\u001b[0m\u001b[1;33m:\u001b[0m\u001b[1;33m\u001b[0m\u001b[1;33m\u001b[0m\u001b[0m\n\u001b[1;32m--> 485\u001b[1;33m             \u001b[0mr\u001b[0m \u001b[1;33m=\u001b[0m \u001b[0mrequests\u001b[0m\u001b[1;33m.\u001b[0m\u001b[0mhead\u001b[0m\u001b[1;33m(\u001b[0m\u001b[0murl\u001b[0m\u001b[1;33m,\u001b[0m \u001b[0mheaders\u001b[0m\u001b[1;33m=\u001b[0m\u001b[0mheaders\u001b[0m\u001b[1;33m,\u001b[0m \u001b[0mallow_redirects\u001b[0m\u001b[1;33m=\u001b[0m\u001b[1;32mFalse\u001b[0m\u001b[1;33m,\u001b[0m \u001b[0mproxies\u001b[0m\u001b[1;33m=\u001b[0m\u001b[0mproxies\u001b[0m\u001b[1;33m,\u001b[0m \u001b[0mtimeout\u001b[0m\u001b[1;33m=\u001b[0m\u001b[0metag_timeout\u001b[0m\u001b[1;33m)\u001b[0m\u001b[1;33m\u001b[0m\u001b[1;33m\u001b[0m\u001b[0m\n\u001b[0m\u001b[0;32m    486\u001b[0m             \u001b[0m_raise_for_status\u001b[0m\u001b[1;33m(\u001b[0m\u001b[0mr\u001b[0m\u001b[1;33m)\u001b[0m\u001b[1;33m\u001b[0m\u001b[1;33m\u001b[0m\u001b[0m\n\u001b[0;32m    487\u001b[0m             \u001b[0metag\u001b[0m \u001b[1;33m=\u001b[0m \u001b[0mr\u001b[0m\u001b[1;33m.\u001b[0m\u001b[0mheaders\u001b[0m\u001b[1;33m.\u001b[0m\u001b[0mget\u001b[0m\u001b[1;33m(\u001b[0m\u001b[1;34m\"X-Linked-Etag\"\u001b[0m\u001b[1;33m)\u001b[0m \u001b[1;32mor\u001b[0m \u001b[0mr\u001b[0m\u001b[1;33m.\u001b[0m\u001b[0mheaders\u001b[0m\u001b[1;33m.\u001b[0m\u001b[0mget\u001b[0m\u001b[1;33m(\u001b[0m\u001b[1;34m\"ETag\"\u001b[0m\u001b[1;33m)\u001b[0m\u001b[1;33m\u001b[0m\u001b[1;33m\u001b[0m\u001b[0m\n",
      "\u001b[1;32mc:\\Users\\Userr\\anaconda3\\envs\\FIT3163Project\\lib\\site-packages\\requests\\api.py\u001b[0m in \u001b[0;36mhead\u001b[1;34m(url, **kwargs)\u001b[0m\n\u001b[0;32m    100\u001b[0m \u001b[1;33m\u001b[0m\u001b[0m\n\u001b[0;32m    101\u001b[0m     \u001b[0mkwargs\u001b[0m\u001b[1;33m.\u001b[0m\u001b[0msetdefault\u001b[0m\u001b[1;33m(\u001b[0m\u001b[1;34m'allow_redirects'\u001b[0m\u001b[1;33m,\u001b[0m \u001b[1;32mFalse\u001b[0m\u001b[1;33m)\u001b[0m\u001b[1;33m\u001b[0m\u001b[1;33m\u001b[0m\u001b[0m\n\u001b[1;32m--> 102\u001b[1;33m     \u001b[1;32mreturn\u001b[0m \u001b[0mrequest\u001b[0m\u001b[1;33m(\u001b[0m\u001b[1;34m'head'\u001b[0m\u001b[1;33m,\u001b[0m \u001b[0murl\u001b[0m\u001b[1;33m,\u001b[0m \u001b[1;33m**\u001b[0m\u001b[0mkwargs\u001b[0m\u001b[1;33m)\u001b[0m\u001b[1;33m\u001b[0m\u001b[1;33m\u001b[0m\u001b[0m\n\u001b[0m\u001b[0;32m    103\u001b[0m \u001b[1;33m\u001b[0m\u001b[0m\n\u001b[0;32m    104\u001b[0m \u001b[1;33m\u001b[0m\u001b[0m\n",
      "\u001b[1;32mc:\\Users\\Userr\\anaconda3\\envs\\FIT3163Project\\lib\\site-packages\\requests\\api.py\u001b[0m in \u001b[0;36mrequest\u001b[1;34m(method, url, **kwargs)\u001b[0m\n\u001b[0;32m     59\u001b[0m     \u001b[1;31m# cases, and look like a memory leak in others.\u001b[0m\u001b[1;33m\u001b[0m\u001b[1;33m\u001b[0m\u001b[0m\n\u001b[0;32m     60\u001b[0m     \u001b[1;32mwith\u001b[0m \u001b[0msessions\u001b[0m\u001b[1;33m.\u001b[0m\u001b[0mSession\u001b[0m\u001b[1;33m(\u001b[0m\u001b[1;33m)\u001b[0m \u001b[1;32mas\u001b[0m \u001b[0msession\u001b[0m\u001b[1;33m:\u001b[0m\u001b[1;33m\u001b[0m\u001b[1;33m\u001b[0m\u001b[0m\n\u001b[1;32m---> 61\u001b[1;33m         \u001b[1;32mreturn\u001b[0m \u001b[0msession\u001b[0m\u001b[1;33m.\u001b[0m\u001b[0mrequest\u001b[0m\u001b[1;33m(\u001b[0m\u001b[0mmethod\u001b[0m\u001b[1;33m=\u001b[0m\u001b[0mmethod\u001b[0m\u001b[1;33m,\u001b[0m \u001b[0murl\u001b[0m\u001b[1;33m=\u001b[0m\u001b[0murl\u001b[0m\u001b[1;33m,\u001b[0m \u001b[1;33m**\u001b[0m\u001b[0mkwargs\u001b[0m\u001b[1;33m)\u001b[0m\u001b[1;33m\u001b[0m\u001b[1;33m\u001b[0m\u001b[0m\n\u001b[0m\u001b[0;32m     62\u001b[0m \u001b[1;33m\u001b[0m\u001b[0m\n\u001b[0;32m     63\u001b[0m \u001b[1;33m\u001b[0m\u001b[0m\n",
      "\u001b[1;32mc:\\Users\\Userr\\anaconda3\\envs\\FIT3163Project\\lib\\site-packages\\requests\\sessions.py\u001b[0m in \u001b[0;36mrequest\u001b[1;34m(self, method, url, params, data, headers, cookies, files, auth, timeout, allow_redirects, proxies, hooks, stream, verify, cert, json)\u001b[0m\n\u001b[0;32m    540\u001b[0m         }\n\u001b[0;32m    541\u001b[0m         \u001b[0msend_kwargs\u001b[0m\u001b[1;33m.\u001b[0m\u001b[0mupdate\u001b[0m\u001b[1;33m(\u001b[0m\u001b[0msettings\u001b[0m\u001b[1;33m)\u001b[0m\u001b[1;33m\u001b[0m\u001b[1;33m\u001b[0m\u001b[0m\n\u001b[1;32m--> 542\u001b[1;33m         \u001b[0mresp\u001b[0m \u001b[1;33m=\u001b[0m \u001b[0mself\u001b[0m\u001b[1;33m.\u001b[0m\u001b[0msend\u001b[0m\u001b[1;33m(\u001b[0m\u001b[0mprep\u001b[0m\u001b[1;33m,\u001b[0m \u001b[1;33m**\u001b[0m\u001b[0msend_kwargs\u001b[0m\u001b[1;33m)\u001b[0m\u001b[1;33m\u001b[0m\u001b[1;33m\u001b[0m\u001b[0m\n\u001b[0m\u001b[0;32m    543\u001b[0m \u001b[1;33m\u001b[0m\u001b[0m\n\u001b[0;32m    544\u001b[0m         \u001b[1;32mreturn\u001b[0m \u001b[0mresp\u001b[0m\u001b[1;33m\u001b[0m\u001b[1;33m\u001b[0m\u001b[0m\n",
      "\u001b[1;32mc:\\Users\\Userr\\anaconda3\\envs\\FIT3163Project\\lib\\site-packages\\requests\\sessions.py\u001b[0m in \u001b[0;36msend\u001b[1;34m(self, request, **kwargs)\u001b[0m\n\u001b[0;32m    653\u001b[0m \u001b[1;33m\u001b[0m\u001b[0m\n\u001b[0;32m    654\u001b[0m         \u001b[1;31m# Send the request\u001b[0m\u001b[1;33m\u001b[0m\u001b[1;33m\u001b[0m\u001b[0m\n\u001b[1;32m--> 655\u001b[1;33m         \u001b[0mr\u001b[0m \u001b[1;33m=\u001b[0m \u001b[0madapter\u001b[0m\u001b[1;33m.\u001b[0m\u001b[0msend\u001b[0m\u001b[1;33m(\u001b[0m\u001b[0mrequest\u001b[0m\u001b[1;33m,\u001b[0m \u001b[1;33m**\u001b[0m\u001b[0mkwargs\u001b[0m\u001b[1;33m)\u001b[0m\u001b[1;33m\u001b[0m\u001b[1;33m\u001b[0m\u001b[0m\n\u001b[0m\u001b[0;32m    656\u001b[0m \u001b[1;33m\u001b[0m\u001b[0m\n\u001b[0;32m    657\u001b[0m         \u001b[1;31m# Total elapsed time of the request (approximately)\u001b[0m\u001b[1;33m\u001b[0m\u001b[1;33m\u001b[0m\u001b[0m\n",
      "\u001b[1;32mc:\\Users\\Userr\\anaconda3\\envs\\FIT3163Project\\lib\\site-packages\\requests\\adapters.py\u001b[0m in \u001b[0;36msend\u001b[1;34m(self, request, stream, timeout, verify, cert, proxies)\u001b[0m\n\u001b[0;32m    437\u001b[0m         \u001b[1;32mtry\u001b[0m\u001b[1;33m:\u001b[0m\u001b[1;33m\u001b[0m\u001b[1;33m\u001b[0m\u001b[0m\n\u001b[0;32m    438\u001b[0m             \u001b[1;32mif\u001b[0m \u001b[1;32mnot\u001b[0m \u001b[0mchunked\u001b[0m\u001b[1;33m:\u001b[0m\u001b[1;33m\u001b[0m\u001b[1;33m\u001b[0m\u001b[0m\n\u001b[1;32m--> 439\u001b[1;33m                 resp = conn.urlopen(\n\u001b[0m\u001b[0;32m    440\u001b[0m                     \u001b[0mmethod\u001b[0m\u001b[1;33m=\u001b[0m\u001b[0mrequest\u001b[0m\u001b[1;33m.\u001b[0m\u001b[0mmethod\u001b[0m\u001b[1;33m,\u001b[0m\u001b[1;33m\u001b[0m\u001b[1;33m\u001b[0m\u001b[0m\n\u001b[0;32m    441\u001b[0m                     \u001b[0murl\u001b[0m\u001b[1;33m=\u001b[0m\u001b[0murl\u001b[0m\u001b[1;33m,\u001b[0m\u001b[1;33m\u001b[0m\u001b[1;33m\u001b[0m\u001b[0m\n",
      "\u001b[1;32mc:\\Users\\Userr\\anaconda3\\envs\\FIT3163Project\\lib\\site-packages\\urllib3\\connectionpool.py\u001b[0m in \u001b[0;36murlopen\u001b[1;34m(self, method, url, body, headers, retries, redirect, assert_same_host, timeout, pool_timeout, release_conn, chunked, body_pos, **response_kw)\u001b[0m\n\u001b[0;32m    697\u001b[0m \u001b[1;33m\u001b[0m\u001b[0m\n\u001b[0;32m    698\u001b[0m             \u001b[1;31m# Make the request on the httplib connection object.\u001b[0m\u001b[1;33m\u001b[0m\u001b[1;33m\u001b[0m\u001b[0m\n\u001b[1;32m--> 699\u001b[1;33m             httplib_response = self._make_request(\n\u001b[0m\u001b[0;32m    700\u001b[0m                 \u001b[0mconn\u001b[0m\u001b[1;33m,\u001b[0m\u001b[1;33m\u001b[0m\u001b[1;33m\u001b[0m\u001b[0m\n\u001b[0;32m    701\u001b[0m                 \u001b[0mmethod\u001b[0m\u001b[1;33m,\u001b[0m\u001b[1;33m\u001b[0m\u001b[1;33m\u001b[0m\u001b[0m\n",
      "\u001b[1;32mc:\\Users\\Userr\\anaconda3\\envs\\FIT3163Project\\lib\\site-packages\\urllib3\\connectionpool.py\u001b[0m in \u001b[0;36m_make_request\u001b[1;34m(self, conn, method, url, timeout, chunked, **httplib_request_kw)\u001b[0m\n\u001b[0;32m    380\u001b[0m         \u001b[1;31m# Trigger any extra validation we need to do.\u001b[0m\u001b[1;33m\u001b[0m\u001b[1;33m\u001b[0m\u001b[0m\n\u001b[0;32m    381\u001b[0m         \u001b[1;32mtry\u001b[0m\u001b[1;33m:\u001b[0m\u001b[1;33m\u001b[0m\u001b[1;33m\u001b[0m\u001b[0m\n\u001b[1;32m--> 382\u001b[1;33m             \u001b[0mself\u001b[0m\u001b[1;33m.\u001b[0m\u001b[0m_validate_conn\u001b[0m\u001b[1;33m(\u001b[0m\u001b[0mconn\u001b[0m\u001b[1;33m)\u001b[0m\u001b[1;33m\u001b[0m\u001b[1;33m\u001b[0m\u001b[0m\n\u001b[0m\u001b[0;32m    383\u001b[0m         \u001b[1;32mexcept\u001b[0m \u001b[1;33m(\u001b[0m\u001b[0mSocketTimeout\u001b[0m\u001b[1;33m,\u001b[0m \u001b[0mBaseSSLError\u001b[0m\u001b[1;33m)\u001b[0m \u001b[1;32mas\u001b[0m \u001b[0me\u001b[0m\u001b[1;33m:\u001b[0m\u001b[1;33m\u001b[0m\u001b[1;33m\u001b[0m\u001b[0m\n\u001b[0;32m    384\u001b[0m             \u001b[1;31m# Py2 raises this as a BaseSSLError, Py3 raises it as socket timeout.\u001b[0m\u001b[1;33m\u001b[0m\u001b[1;33m\u001b[0m\u001b[0m\n",
      "\u001b[1;32mc:\\Users\\Userr\\anaconda3\\envs\\FIT3163Project\\lib\\site-packages\\urllib3\\connectionpool.py\u001b[0m in \u001b[0;36m_validate_conn\u001b[1;34m(self, conn)\u001b[0m\n\u001b[0;32m   1008\u001b[0m         \u001b[1;31m# Force connect early to allow us to validate the connection.\u001b[0m\u001b[1;33m\u001b[0m\u001b[1;33m\u001b[0m\u001b[0m\n\u001b[0;32m   1009\u001b[0m         \u001b[1;32mif\u001b[0m \u001b[1;32mnot\u001b[0m \u001b[0mgetattr\u001b[0m\u001b[1;33m(\u001b[0m\u001b[0mconn\u001b[0m\u001b[1;33m,\u001b[0m \u001b[1;34m\"sock\"\u001b[0m\u001b[1;33m,\u001b[0m \u001b[1;32mNone\u001b[0m\u001b[1;33m)\u001b[0m\u001b[1;33m:\u001b[0m  \u001b[1;31m# AppEngine might not have  `.sock`\u001b[0m\u001b[1;33m\u001b[0m\u001b[1;33m\u001b[0m\u001b[0m\n\u001b[1;32m-> 1010\u001b[1;33m             \u001b[0mconn\u001b[0m\u001b[1;33m.\u001b[0m\u001b[0mconnect\u001b[0m\u001b[1;33m(\u001b[0m\u001b[1;33m)\u001b[0m\u001b[1;33m\u001b[0m\u001b[1;33m\u001b[0m\u001b[0m\n\u001b[0m\u001b[0;32m   1011\u001b[0m \u001b[1;33m\u001b[0m\u001b[0m\n\u001b[0;32m   1012\u001b[0m         \u001b[1;32mif\u001b[0m \u001b[1;32mnot\u001b[0m \u001b[0mconn\u001b[0m\u001b[1;33m.\u001b[0m\u001b[0mis_verified\u001b[0m\u001b[1;33m:\u001b[0m\u001b[1;33m\u001b[0m\u001b[1;33m\u001b[0m\u001b[0m\n",
      "\u001b[1;32mc:\\Users\\Userr\\anaconda3\\envs\\FIT3163Project\\lib\\site-packages\\urllib3\\connection.py\u001b[0m in \u001b[0;36mconnect\u001b[1;34m(self)\u001b[0m\n\u001b[0;32m    414\u001b[0m             \u001b[0mcontext\u001b[0m\u001b[1;33m.\u001b[0m\u001b[0mload_default_certs\u001b[0m\u001b[1;33m(\u001b[0m\u001b[1;33m)\u001b[0m\u001b[1;33m\u001b[0m\u001b[1;33m\u001b[0m\u001b[0m\n\u001b[0;32m    415\u001b[0m \u001b[1;33m\u001b[0m\u001b[0m\n\u001b[1;32m--> 416\u001b[1;33m         self.sock = ssl_wrap_socket(\n\u001b[0m\u001b[0;32m    417\u001b[0m             \u001b[0msock\u001b[0m\u001b[1;33m=\u001b[0m\u001b[0mconn\u001b[0m\u001b[1;33m,\u001b[0m\u001b[1;33m\u001b[0m\u001b[1;33m\u001b[0m\u001b[0m\n\u001b[0;32m    418\u001b[0m             \u001b[0mkeyfile\u001b[0m\u001b[1;33m=\u001b[0m\u001b[0mself\u001b[0m\u001b[1;33m.\u001b[0m\u001b[0mkey_file\u001b[0m\u001b[1;33m,\u001b[0m\u001b[1;33m\u001b[0m\u001b[1;33m\u001b[0m\u001b[0m\n",
      "\u001b[1;32mc:\\Users\\Userr\\anaconda3\\envs\\FIT3163Project\\lib\\site-packages\\urllib3\\util\\ssl_.py\u001b[0m in \u001b[0;36mssl_wrap_socket\u001b[1;34m(sock, keyfile, certfile, cert_reqs, ca_certs, server_hostname, ssl_version, ciphers, ssl_context, ca_cert_dir, key_password, ca_cert_data, tls_in_tls)\u001b[0m\n\u001b[0;32m    447\u001b[0m \u001b[1;33m\u001b[0m\u001b[0m\n\u001b[0;32m    448\u001b[0m     \u001b[1;32mif\u001b[0m \u001b[0msend_sni\u001b[0m\u001b[1;33m:\u001b[0m\u001b[1;33m\u001b[0m\u001b[1;33m\u001b[0m\u001b[0m\n\u001b[1;32m--> 449\u001b[1;33m         ssl_sock = _ssl_wrap_socket_impl(\n\u001b[0m\u001b[0;32m    450\u001b[0m             \u001b[0msock\u001b[0m\u001b[1;33m,\u001b[0m \u001b[0mcontext\u001b[0m\u001b[1;33m,\u001b[0m \u001b[0mtls_in_tls\u001b[0m\u001b[1;33m,\u001b[0m \u001b[0mserver_hostname\u001b[0m\u001b[1;33m=\u001b[0m\u001b[0mserver_hostname\u001b[0m\u001b[1;33m\u001b[0m\u001b[1;33m\u001b[0m\u001b[0m\n\u001b[0;32m    451\u001b[0m         )\n",
      "\u001b[1;32mc:\\Users\\Userr\\anaconda3\\envs\\FIT3163Project\\lib\\site-packages\\urllib3\\util\\ssl_.py\u001b[0m in \u001b[0;36m_ssl_wrap_socket_impl\u001b[1;34m(sock, ssl_context, tls_in_tls, server_hostname)\u001b[0m\n\u001b[0;32m    491\u001b[0m \u001b[1;33m\u001b[0m\u001b[0m\n\u001b[0;32m    492\u001b[0m     \u001b[1;32mif\u001b[0m \u001b[0mserver_hostname\u001b[0m\u001b[1;33m:\u001b[0m\u001b[1;33m\u001b[0m\u001b[1;33m\u001b[0m\u001b[0m\n\u001b[1;32m--> 493\u001b[1;33m         \u001b[1;32mreturn\u001b[0m \u001b[0mssl_context\u001b[0m\u001b[1;33m.\u001b[0m\u001b[0mwrap_socket\u001b[0m\u001b[1;33m(\u001b[0m\u001b[0msock\u001b[0m\u001b[1;33m,\u001b[0m \u001b[0mserver_hostname\u001b[0m\u001b[1;33m=\u001b[0m\u001b[0mserver_hostname\u001b[0m\u001b[1;33m)\u001b[0m\u001b[1;33m\u001b[0m\u001b[1;33m\u001b[0m\u001b[0m\n\u001b[0m\u001b[0;32m    494\u001b[0m     \u001b[1;32melse\u001b[0m\u001b[1;33m:\u001b[0m\u001b[1;33m\u001b[0m\u001b[1;33m\u001b[0m\u001b[0m\n\u001b[0;32m    495\u001b[0m         \u001b[1;32mreturn\u001b[0m \u001b[0mssl_context\u001b[0m\u001b[1;33m.\u001b[0m\u001b[0mwrap_socket\u001b[0m\u001b[1;33m(\u001b[0m\u001b[0msock\u001b[0m\u001b[1;33m)\u001b[0m\u001b[1;33m\u001b[0m\u001b[1;33m\u001b[0m\u001b[0m\n",
      "\u001b[1;32mc:\\Users\\Userr\\anaconda3\\envs\\FIT3163Project\\lib\\ssl.py\u001b[0m in \u001b[0;36mwrap_socket\u001b[1;34m(self, sock, server_side, do_handshake_on_connect, suppress_ragged_eofs, server_hostname, session)\u001b[0m\n\u001b[0;32m    498\u001b[0m         \u001b[1;31m# SSLSocket class handles server_hostname encoding before it calls\u001b[0m\u001b[1;33m\u001b[0m\u001b[1;33m\u001b[0m\u001b[0m\n\u001b[0;32m    499\u001b[0m         \u001b[1;31m# ctx._wrap_socket()\u001b[0m\u001b[1;33m\u001b[0m\u001b[1;33m\u001b[0m\u001b[0m\n\u001b[1;32m--> 500\u001b[1;33m         return self.sslsocket_class._create(\n\u001b[0m\u001b[0;32m    501\u001b[0m             \u001b[0msock\u001b[0m\u001b[1;33m=\u001b[0m\u001b[0msock\u001b[0m\u001b[1;33m,\u001b[0m\u001b[1;33m\u001b[0m\u001b[1;33m\u001b[0m\u001b[0m\n\u001b[0;32m    502\u001b[0m             \u001b[0mserver_side\u001b[0m\u001b[1;33m=\u001b[0m\u001b[0mserver_side\u001b[0m\u001b[1;33m,\u001b[0m\u001b[1;33m\u001b[0m\u001b[1;33m\u001b[0m\u001b[0m\n",
      "\u001b[1;32mc:\\Users\\Userr\\anaconda3\\envs\\FIT3163Project\\lib\\ssl.py\u001b[0m in \u001b[0;36m_create\u001b[1;34m(cls, sock, server_side, do_handshake_on_connect, suppress_ragged_eofs, server_hostname, context, session)\u001b[0m\n\u001b[0;32m   1038\u001b[0m                         \u001b[1;31m# non-blocking\u001b[0m\u001b[1;33m\u001b[0m\u001b[1;33m\u001b[0m\u001b[0m\n\u001b[0;32m   1039\u001b[0m                         \u001b[1;32mraise\u001b[0m \u001b[0mValueError\u001b[0m\u001b[1;33m(\u001b[0m\u001b[1;34m\"do_handshake_on_connect should not be specified for non-blocking sockets\"\u001b[0m\u001b[1;33m)\u001b[0m\u001b[1;33m\u001b[0m\u001b[1;33m\u001b[0m\u001b[0m\n\u001b[1;32m-> 1040\u001b[1;33m                     \u001b[0mself\u001b[0m\u001b[1;33m.\u001b[0m\u001b[0mdo_handshake\u001b[0m\u001b[1;33m(\u001b[0m\u001b[1;33m)\u001b[0m\u001b[1;33m\u001b[0m\u001b[1;33m\u001b[0m\u001b[0m\n\u001b[0m\u001b[0;32m   1041\u001b[0m             \u001b[1;32mexcept\u001b[0m \u001b[1;33m(\u001b[0m\u001b[0mOSError\u001b[0m\u001b[1;33m,\u001b[0m \u001b[0mValueError\u001b[0m\u001b[1;33m)\u001b[0m\u001b[1;33m:\u001b[0m\u001b[1;33m\u001b[0m\u001b[1;33m\u001b[0m\u001b[0m\n\u001b[0;32m   1042\u001b[0m                 \u001b[0mself\u001b[0m\u001b[1;33m.\u001b[0m\u001b[0mclose\u001b[0m\u001b[1;33m(\u001b[0m\u001b[1;33m)\u001b[0m\u001b[1;33m\u001b[0m\u001b[1;33m\u001b[0m\u001b[0m\n",
      "\u001b[1;32mc:\\Users\\Userr\\anaconda3\\envs\\FIT3163Project\\lib\\ssl.py\u001b[0m in \u001b[0;36mdo_handshake\u001b[1;34m(self, block)\u001b[0m\n\u001b[0;32m   1307\u001b[0m             \u001b[1;32mif\u001b[0m \u001b[0mtimeout\u001b[0m \u001b[1;33m==\u001b[0m \u001b[1;36m0.0\u001b[0m \u001b[1;32mand\u001b[0m \u001b[0mblock\u001b[0m\u001b[1;33m:\u001b[0m\u001b[1;33m\u001b[0m\u001b[1;33m\u001b[0m\u001b[0m\n\u001b[0;32m   1308\u001b[0m                 \u001b[0mself\u001b[0m\u001b[1;33m.\u001b[0m\u001b[0msettimeout\u001b[0m\u001b[1;33m(\u001b[0m\u001b[1;32mNone\u001b[0m\u001b[1;33m)\u001b[0m\u001b[1;33m\u001b[0m\u001b[1;33m\u001b[0m\u001b[0m\n\u001b[1;32m-> 1309\u001b[1;33m             \u001b[0mself\u001b[0m\u001b[1;33m.\u001b[0m\u001b[0m_sslobj\u001b[0m\u001b[1;33m.\u001b[0m\u001b[0mdo_handshake\u001b[0m\u001b[1;33m(\u001b[0m\u001b[1;33m)\u001b[0m\u001b[1;33m\u001b[0m\u001b[1;33m\u001b[0m\u001b[0m\n\u001b[0m\u001b[0;32m   1310\u001b[0m         \u001b[1;32mfinally\u001b[0m\u001b[1;33m:\u001b[0m\u001b[1;33m\u001b[0m\u001b[1;33m\u001b[0m\u001b[0m\n\u001b[0;32m   1311\u001b[0m             \u001b[0mself\u001b[0m\u001b[1;33m.\u001b[0m\u001b[0msettimeout\u001b[0m\u001b[1;33m(\u001b[0m\u001b[0mtimeout\u001b[0m\u001b[1;33m)\u001b[0m\u001b[1;33m\u001b[0m\u001b[1;33m\u001b[0m\u001b[0m\n",
      "\u001b[1;31mKeyboardInterrupt\u001b[0m: "
     ]
    }
   ],
   "source": [
    "tokenizer = AutoTokenizer.from_pretrained(\"nlptown/bert-base-multilingual-uncased-sentiment\")"
   ]
  },
  {
   "cell_type": "code",
   "execution_count": 8,
   "metadata": {},
   "outputs": [
    {
     "name": "stdout",
     "output_type": "stream",
     "text": [
      "{'input_ids': [101, 11312, 10320, 12495, 19308, 10114, 11391, 10855, 10103, 100, 58263, 13299, 119, 102], 'token_type_ids': [0, 0, 0, 0, 0, 0, 0, 0, 0, 0, 0, 0, 0, 0], 'attention_mask': [1, 1, 1, 1, 1, 1, 1, 1, 1, 1, 1, 1, 1, 1]}\n"
     ]
    }
   ],
   "source": [
    "encoding = tokenizer(\"We are very happy to show you the 🤗 Transformers library.\")\n",
    "print(encoding)"
   ]
  },
  {
   "cell_type": "code",
   "execution_count": 9,
   "metadata": {},
   "outputs": [],
   "source": [
    "kfc = tokenizer(\"Finger Lickin  Good\")"
   ]
  },
  {
   "cell_type": "code",
   "execution_count": 10,
   "metadata": {},
   "outputs": [
    {
     "name": "stderr",
     "output_type": "stream",
     "text": [
      "Downloading: 100%|██████████| 1.13k/1.13k [00:00<00:00, 579kB/s]\n",
      "Downloading: 100%|██████████| 1.52G/1.52G [01:41<00:00, 16.0MB/s]\n",
      "Downloading: 100%|██████████| 26.0/26.0 [00:00<00:00, 6.50kB/s]\n",
      "Downloading: 100%|██████████| 878k/878k [00:02<00:00, 380kB/s]  \n",
      "Downloading: 100%|██████████| 446k/446k [00:01<00:00, 302kB/s]  \n",
      "Downloading: 100%|██████████| 1.29M/1.29M [00:03<00:00, 435kB/s] \n"
     ]
    }
   ],
   "source": [
    "fbclass = pipeline(\"zero-shot-classification\",\n",
    "                      model=\"facebook/bart-large-mnli\")"
   ]
  },
  {
   "cell_type": "code",
   "execution_count": 14,
   "metadata": {},
   "outputs": [
    {
     "data": {
      "text/plain": [
       "'baby'"
      ]
     },
     "execution_count": 14,
     "metadata": {},
     "output_type": "execute_result"
    }
   ],
   "source": [
    "sequence_to_classify = \"bee spit never felt so good\"\n",
    "candidate_labels = ['restaurant', 'chocolate', 'chips', 'seasoning', 'petfood', 'alcohol', 'coffee', 'soda', 'cars', \n",
    "'electronics','phone_tv_internet_providers', 'financial', 'education', 'security', 'software', 'other_service', 'beauty', 'healthcare', 'clothing', 'baby', 'game',\n",
    "'cleaning','home_improvement', 'home_appliance', 'travel', 'media', 'sports', 'shopping', 'gambling', 'environment', 'animal_right', 'human_right', 'safety', 'smoking_alcohol_abuse',\n",
    "'domestic_violence', 'self_esteem', 'charities', 'political', 'unclear']\n",
    "fbclass(sequence_to_classify, candidate_labels)[\"labels\"][0]\n",
    "#{'labels': ['travel', 'dancing', 'cooking'],\n",
    "# 'scores': [0.9938651323318481, 0.0032737774308770895, 0.002861034357920289],\n",
    "# 'sequence': 'one day I will see the world'}\n"
   ]
  },
  {
   "cell_type": "markdown",
   "metadata": {},
   "source": [
    "### Get weights list"
   ]
  },
  {
   "cell_type": "code",
   "execution_count": null,
   "metadata": {},
   "outputs": [
    {
     "name": "stdout",
     "output_type": "stream",
     "text": [
      "data/annotations/Sentiments.json\n"
     ]
    }
   ],
   "source": [
    "phrases = load_annotation_json() #loads the sentiments.json file\n",
    "prep = SentimentPreProcessor() #loads a dictionary for indexing phrase  "
   ]
  },
  {
   "cell_type": "code",
   "execution_count": null,
   "metadata": {},
   "outputs": [],
   "source": [
    "#https://gist.github.com/srikarplus/15d7263ae2c82e82fe194fc94321f34e\n",
    "def make_weights_for_balanced_classes(image_ind, image_path, nclasses=30):\n",
    "    phrases = load_annotation_json() #loads the sentiments.json file\n",
    "    prep = SentimentPreProcessor() #loads a dictionary for indexing phrase   \n",
    "    N = len(image_ind) #no of elems in the image_ind                                         \n",
    "    weight = [0] * len(image_path)                                        \n",
    "    for id, idx in enumerate(image_ind): \n",
    "        file = image_path[idx] \n",
    "        phrase_id = int(phrases[file][0][0])\n",
    "        phrase = prep.id_to_word[phrase_id]\n",
    "        count = classes[phrase]                                     \n",
    "        weight[id] = count/N      \n",
    "    samples_weight = [weight[t] for t in image_ind]        \n",
    "    return samples_weight"
   ]
  },
  {
   "cell_type": "code",
   "execution_count": null,
   "metadata": {},
   "outputs": [
    {
     "name": "stdout",
     "output_type": "stream",
     "text": [
      "615\n"
     ]
    }
   ],
   "source": [
    "file = train.dataset.image_path[6424] \n",
    "phrase_id = int(phrases[file][0][0])\n",
    "phrase = prep.id_to_word[phrase_id]\n",
    "count = classes[phrase]     \n",
    "print(count)"
   ]
  },
  {
   "cell_type": "code",
   "execution_count": null,
   "metadata": {},
   "outputs": [
    {
     "name": "stdout",
     "output_type": "stream",
     "text": [
      "data/annotations/Sentiments.json\n"
     ]
    }
   ],
   "source": [
    "file_writer = open(\"training_weights.txt\", \"w+\")\n",
    "weights = make_weights_for_balanced_classes(train.indices, train.dataset.image_path)\n",
    "str_weights = \",\".join(weights)\n",
    "file_writer.write(str_weights)\n",
    "file_writer.close()"
   ]
  },
  {
   "cell_type": "code",
   "execution_count": null,
   "metadata": {},
   "outputs": [
    {
     "data": {
      "text/plain": [
       "8499"
      ]
     },
     "execution_count": 24,
     "metadata": {},
     "output_type": "execute_result"
    }
   ],
   "source": [
    "len(train.indices)"
   ]
  },
  {
   "cell_type": "code",
   "execution_count": null,
   "metadata": {},
   "outputs": [],
   "source": [
    "read_weights = open(\"training_weights.txt\", \"r\")\n",
    "read_string = read_weights.read()\n",
    "weight_lst = [float(x) for x in read_string.split(\",\")]"
   ]
  },
  {
   "cell_type": "code",
   "execution_count": null,
   "metadata": {},
   "outputs": [],
   "source": [
    "train_weights = weight_lst\n",
    "train_weights = torch.DoubleTensor(train_weights)\n",
    "train_sampler = torch.utils.data.WeightedRandomSampler(train_weights, len(train_weights))"
   ]
  },
  {
   "cell_type": "markdown",
   "metadata": {},
   "source": [
    "### Plot Class Distribution"
   ]
  },
  {
   "cell_type": "code",
   "execution_count": null,
   "metadata": {},
   "outputs": [],
   "source": [
    "classes ={}"
   ]
  },
  {
   "cell_type": "code",
   "execution_count": null,
   "metadata": {},
   "outputs": [],
   "source": [
    "ds = train.dataset.image_path\n",
    "for i in train.indices:\n",
    "    file = ds[i]\n",
    "    phrase_id = int(phrases[file][0][0])\n",
    "    phrase = prep.id_to_word[phrase_id]\n",
    "    try:\n",
    "        check = classes[phrase]\n",
    "    except:\n",
    "        classes[phrase] = 0\n",
    "    classes[phrase] += 1\n",
    "        \n"
   ]
  },
  {
   "cell_type": "code",
   "execution_count": null,
   "metadata": {},
   "outputs": [],
   "source": [
    "D = classes.keys()"
   ]
  },
  {
   "cell_type": "code",
   "execution_count": null,
   "metadata": {},
   "outputs": [
    {
     "data": {
      "text/plain": [
       "30"
      ]
     },
     "execution_count": 20,
     "metadata": {},
     "output_type": "execute_result"
    }
   ],
   "source": [
    "len(D)"
   ]
  },
  {
   "cell_type": "code",
   "execution_count": null,
   "metadata": {},
   "outputs": [],
   "source": [
    "new_dict = {}\n",
    "for c in list(D):\n",
    "    new_dict[c] = 0"
   ]
  },
  {
   "cell_type": "code",
   "execution_count": null,
   "metadata": {},
   "outputs": [
    {
     "name": "stdout",
     "output_type": "stream",
     "text": [
      "8499\n"
     ]
    }
   ],
   "source": [
    "total = 0\n",
    "for i in list(D.values()):\n",
    "    total += i\n",
    "print(total)"
   ]
  },
  {
   "cell_type": "code",
   "execution_count": null,
   "metadata": {},
   "outputs": [
    {
     "data": {
      "image/png": "[encoded data removed]",
      "text/plain": [
       "<Figure size 432x288 with 1 Axes>"
      ]
     },
     "metadata": {
      "needs_background": "light"
     },
     "output_type": "display_data"
    }
   ],
   "source": [
    "plt.bar(range(len(D)), list(D.values()), align='center')\n",
    "#plt.xticks(range(len(D)), list(D.keys()))\n",
    "# # for python 2.x:\n",
    "# plt.bar(range(len(D)), D.values(), align='center')  # python 2.x\n",
    "# plt.xticks(range(len(D)), D.keys())  # in python 2.x\n",
    "\n",
    "plt.show()"
   ]
  },
  {
   "cell_type": "code",
   "execution_count": null,
   "metadata": {},
   "outputs": [
    {
     "data": {
      "text/plain": [
       "8499"
      ]
     },
     "execution_count": 4,
     "metadata": {},
     "output_type": "execute_result"
    }
   ],
   "source": [
    "len(train)"
   ]
  },
  {
   "cell_type": "markdown",
   "metadata": {},
   "source": [
    "### IOU Stats from Model"
   ]
  },
  {
   "cell_type": "code",
   "execution_count": 4,
   "metadata": {},
   "outputs": [],
   "source": [
    "def bb_intersection_over_union(boxA, boxB):\n",
    "    # determine the (x, y)-coordinates of the intersection rectangle\n",
    "    xA = max(boxA[0], boxB[0])\n",
    "    yA = max(boxA[1], boxB[1])\n",
    "    xB = min(boxA[2], boxB[2])\n",
    "    yB = min(boxA[3], boxB[3])\n",
    "\n",
    "    # compute the area of intersection rectangle\n",
    "    interArea = abs(max((xB - xA, 0)) * max((yB - yA), 0))\n",
    "    if interArea == 0:\n",
    "        return 0\n",
    "    # compute the area of both the prediction and ground-truth\n",
    "    # rectangles\n",
    "    boxAArea = abs((boxA[2] - boxA[0]) * (boxA[3] - boxA[1]))\n",
    "    boxBArea = abs((boxB[2] - boxB[0]) * (boxB[3] - boxB[1]))\n",
    "\n",
    "    # compute the intersection over union by taking the intersection\n",
    "    # area and dividing it by the sum of prediction + ground-truth\n",
    "    # areas - the interesection area\n",
    "    iou = interArea / float(boxAArea + boxBArea - interArea)\n",
    "\n",
    "    # return the intersection over union value\n",
    "    return iou"
   ]
  },
  {
   "cell_type": "code",
   "execution_count": 5,
   "metadata": {},
   "outputs": [],
   "source": [
    "def similarity_score(model, truth, pred):\n",
    "    best_score = 0\n",
    "    try:\n",
    "        sim_scores = []\n",
    "        truths = truth.split(\"/\")\n",
    "        pred_vec = model.get_vector_rep(pred.strip())\n",
    "        for t in truths:\n",
    "            true_vec = model.get_vector_rep(t.strip())\n",
    "            sim_scores.append(cosine_sim(true_vec, pred_vec))\n",
    "        best_score = max(sim_scores)\n",
    "    except:\n",
    "        pass\n",
    "    return best_score, (best_score>=0.1)"
   ]
  },
  {
   "cell_type": "code",
   "execution_count": 7,
   "metadata": {},
   "outputs": [],
   "source": [
    "def get_top3_preds(preds):\n",
    "    if len(preds) <= 3:\n",
    "        return preds\n",
    "    else:\n",
    "        preds.sort(key=lambda x:x[5], reverse=True)\n",
    "        return preds[:3]"
   ]
  },
  {
   "cell_type": "code",
   "execution_count": 8,
   "metadata": {},
   "outputs": [
    {
     "data": {
      "text/plain": [
       "[[-1, -1, -1, -1, -1, 22], [1, 1, 1, 2, 2, 11], [0, 0, 0, 0, 0, 10]]"
      ]
     },
     "execution_count": 8,
     "metadata": {},
     "output_type": "execute_result"
    }
   ],
   "source": [
    "one = [0,0,0,0,0,10]\n",
    "two = [1,1,1,1,1,5]\n",
    "three = [1,1,1,2,2,11]\n",
    "four = [-1,-1,-1,-1,-1,22]\n",
    "lst = [one, two, three, four]\n",
    "get_top3_preds(lst)"
   ]
  },
  {
   "cell_type": "code",
   "execution_count": 6,
   "metadata": {},
   "outputs": [],
   "source": [
    "#%%Get total iou, precision, recall\n",
    "#https://jonathan-hui.medium.com/map-mean-average-precision-for-object-detection-45c121a31173\n",
    "\n",
    "def write_stats(df, true, pred, filename):\n",
    "    df = pd.DataFrame(df)\n",
    "\n",
    "    #Define list for each column in df\n",
    "    predlabels, truelabels, ious, corrects, filenames,\\\n",
    "        conf_score, confidence, label_similarity, sames= [], [], [], [], [], [], [], [], []\n",
    "\n",
    "    #Load TextEmbedModel\n",
    "    similarity_model = TextEmbedModel()\n",
    "    \n",
    "    #For every ground truth, compare with every prediction\n",
    "    for t in true:\n",
    "        filenames.append(filename)\n",
    "        loc_max_iou = 0\n",
    "        loc_max_label = None\n",
    "        loc_max_score = 0\n",
    "        #to get prediction that maximises IOU with ground truth t\n",
    "        for p in pred:\n",
    "            iou = bb_intersection_over_union(p[:4], t[:4])\n",
    "            if iou >= loc_max_iou:\n",
    "                loc_max_iou = iou\n",
    "                loc_max_label = p[4]\n",
    "                loc_max_score = p[5]\n",
    "        \n",
    "        sim_score, same = similarity_score(similarity_model, t[4], loc_max_label)\n",
    "\n",
    "        #add correct info to the files\n",
    "        ious.append(loc_max_iou)\n",
    "        corrects.append(loc_max_iou>=0.5)\n",
    "        predlabels.append(loc_max_label)\n",
    "        truelabels.append(t[4])\n",
    "        conf_score.append(loc_max_score)\n",
    "        confidence.append(loc_max_score>=0.1)\n",
    "        label_similarity.append(sim_score)\n",
    "        sames.append(same)\n",
    "\n",
    "    #Make dataframe from the values above, append to dataframe\n",
    "    df2 = pd.DataFrame({\n",
    "                \"filename\":filenames,\n",
    "                \"iou\": ious,\n",
    "                \"correct?\" : corrects,\n",
    "                \"pred labels\": predlabels,\n",
    "                \"true labels\": truelabels,\n",
    "                \"class confidence\": conf_score,\n",
    "                \"confident?\":confidence,\n",
    "                \"similarity\":label_similarity,\n",
    "                \"label same?\":sames})\n",
    "    df = df.append(df2, ignore_index=True)\n",
    "    #Save Data to CSV\n",
    "    return df"
   ]
  },
  {
   "cell_type": "code",
   "execution_count": 8,
   "metadata": {},
   "outputs": [],
   "source": [
    "#%%Get average 3 iou, precision, recall\n",
    "#https://jonathan-hui.medium.com/map-mean-average-precision-for-object-detection-45c121a31173\n",
    "\n",
    "def write_stats_avg3(df, true, pred, filename):\n",
    "    df = pd.DataFrame(df)\n",
    "\n",
    "    #Define list for each column in df\n",
    "    filenames, prec, recall, f1 = [], [], [], []\n",
    "\n",
    "    #Load TextEmbedModel\n",
    "    similarity_model = TextEmbedModel()\n",
    "    \n",
    "    #For every ground truth, compare with every prediction\n",
    "    for t in true:\n",
    "        filenames.append(filename)\n",
    "        #to get prediction that maximises IOU with ground truth t\n",
    "        pred3 = get_top3_preds(pred)\n",
    "        tp = 0\n",
    "        fp = 0\n",
    "        fn = len(pred3)\n",
    "        for p in pred3:\n",
    "            iou = bb_intersection_over_union(p[:4], t[:4])\n",
    "            sim_score, same = similarity_score(similarity_model, t[4], p[4])\n",
    "            correct = iou >= 0.5\n",
    "            confident = p[5] >= 0.1\n",
    "            tp += int(correct and confident and same)\n",
    "            fp += int(confident and (not correct or not same))\n",
    "            fn -= int(not confident)\n",
    "        \n",
    "        avg_prec = (tp//(tp+fp))/len(pred3)\n",
    "        avg_recall = (tp//(tp+fn))/len(pred3)\n",
    "        avg_f1 = ((2*(tp*fp))//(tp+fp))/len(pred3)\n",
    "        #new\n",
    "        prec.append(avg_prec)\n",
    "        recall.append(avg_recall)\n",
    "        f1.append(avg_f1)\n",
    "\n",
    "\n",
    "    #Make dataframe from the values above, append to dataframe\n",
    "    df2 = pd.DataFrame({\n",
    "                \"filename\":filenames,\n",
    "                \"avg_precision\":prec,\n",
    "                \"avg_recall\":recall,\n",
    "                \"avg_f1\":f1})\n",
    "    df = df.append(df2, ignore_index=True)\n",
    "\n",
    "    #Save Data to CSV\n",
    "    return df"
   ]
  },
  {
   "cell_type": "code",
   "execution_count": 7,
   "metadata": {},
   "outputs": [],
   "source": [
    "#Factory Method for Data, Preprocessor\n",
    "def prep_factory(descriptor=\"sentiments\"):\n",
    "    data = load_symbols_annotation() #loads the symbols.json file\n",
    "    if descriptor == \"sentiments\":\n",
    "        phrases = load_annotation_json() #loads the sentiments.json file\n",
    "        prep = SentimentPreProcessor() #loads a dictionary for indexing phrase\n",
    "    elif descriptor == \"strategies\":\n",
    "        phrases = load_annotation_json(\"data/annotations/Strategies.json\") #loads the strategies.json file\n",
    "        prep = StrategiesPreProcessor() #loads a dictionary for indexing phrase\n",
    "    elif descriptor == \"topics\":\n",
    "        phrases = load_symbols_annotation(\"data/annotations/Topics.json\") #loads the symbols.json file\n",
    "        prep = TopicsPreProcessor() #loads a dictionary for indexing phrase\n",
    "    elif descriptor == \"slogans\":\n",
    "        phrases = load_symbols_annotation(\"data/annotations/Slogans.json\") #loads the symbols.json file\n",
    "        prep = SlogansPreProcessor() #loads a dictionary for indexing phrase\n",
    "    elif descriptor == \"qa\":\n",
    "        phrases = load_symbols_annotation(\"data/annotations/QA_Combined_Action_Reason.json\") #loads the symbols.json file\n",
    "        prep = QAPreProcessor() #loads a dictionary for indexing phrase\n",
    "    print(\"loaded\")\n",
    "    return data, phrases, prep"
   ]
  },
  {
   "cell_type": "code",
   "execution_count": 8,
   "metadata": {},
   "outputs": [],
   "source": [
    "# %% get the annotations for said files.\n",
    "def testing(files,res_file, descriptor = \"sentiments\"):\n",
    "   #load relevant files\n",
    "   data, phrases, prep = prep_factory(descriptor)\n",
    "   df = pd.read_csv(res_file, index_col = None)\n",
    "\n",
    "   #get phrase, truth, and predicted bbox for each file\n",
    "   i = 0\n",
    "   for file in files:\n",
    "      if (i%100)==0 and i!=0:\n",
    "         print(\"100 Done\")\n",
    "      \n",
    "      try:\n",
    "      #preprocess data for write_stats function\n",
    "         if descriptor == \"slogans\" or descriptor == \"qa\":\n",
    "            phrase = phrases[file][0]\n",
    "         else:\n",
    "            lst = [int(x[0]) for x in phrases[file]]\n",
    "            phrase = prep.id_to_word[max(lst, key=lst.count)]\n",
    "            #phrase_id = int(phrases[file][0][0])\n",
    "            #phrase = prep.id_to_word[most_common_descriptor]\n",
    "         filepath = \"data/\" + file\n",
    "         #bounding box and label of the objects (symbols) in that image\n",
    "         preds = detect([filepath],  phrase, descriptor, \"0\", True)\n",
    "         #bounding box and label of the symbols in that image\n",
    "         truth = data[file]\n",
    "         #get stats\n",
    "         df = write_stats(df, truth, preds, file)\n",
    "         i += 1\n",
    "      except:\n",
    "         i += 1\n",
    "         next\n",
    "\n",
    "      \n",
    "      if(i%20)==0:\n",
    "         torch.cuda.empty_cache()\n",
    "   \n",
    "   #Read results to csv\n",
    "   df.to_csv(res_file, index=False)\n",
    "   return \"DONE\"\n",
    "\n"
   ]
  },
  {
   "cell_type": "code",
   "execution_count": 9,
   "metadata": {},
   "outputs": [],
   "source": [
    "torch.cuda.empty_cache() #run to clear CUDA memory"
   ]
  },
  {
   "cell_type": "code",
   "execution_count": 10,
   "metadata": {},
   "outputs": [],
   "source": [
    "test_files = []\n",
    "ds = test.dataset.image_path"
   ]
  },
  {
   "cell_type": "code",
   "execution_count": 11,
   "metadata": {},
   "outputs": [],
   "source": [
    "for i in test.indices:\n",
    "    test_files.append(ds[i])"
   ]
  },
  {
   "cell_type": "code",
   "execution_count": 12,
   "metadata": {},
   "outputs": [
    {
     "data": {
      "text/plain": [
       "776"
      ]
     },
     "execution_count": 12,
     "metadata": {},
     "output_type": "execute_result"
    }
   ],
   "source": [
    "len(test_files)"
   ]
  },
  {
   "cell_type": "markdown",
   "metadata": {},
   "source": [
    "## Testing New QA Model"
   ]
  },
  {
   "cell_type": "code",
   "execution_count": 10,
   "metadata": {},
   "outputs": [],
   "source": [
    "i = 0\n",
    "filelist = test_files"
   ]
  },
  {
   "cell_type": "code",
   "execution_count": 18,
   "metadata": {},
   "outputs": [],
   "source": [
    "# get the image file name for saving output later on\n",
    "image_name = \"data/\" + filelist[i]\n",
    "image = cv2.imread(image_name)\n",
    "orig_image = image.copy()\n",
    "# BGR to RGB\n",
    "image = cv2.cvtColor(orig_image, cv2.COLOR_BGR2RGB).astype(np.float32)\n",
    "# make the pixel range between 0 and 1\n",
    "image /= 255.0\n",
    "# bring color channels to front\n",
    "image = np.transpose(image, (2, 0, 1)).astype(np.float64)\n",
    "# convert to tensor\n",
    "image = torch.tensor(image, dtype=torch.float)\n",
    "# add batch dimension\n",
    "image = image.unsqueeze_(0)"
   ]
  },
  {
   "cell_type": "code",
   "execution_count": 19,
   "metadata": {},
   "outputs": [
    {
     "name": "stdout",
     "output_type": "stream",
     "text": [
      "loaded\n"
     ]
    }
   ],
   "source": [
    "data, phrases, prep = prep_factory(\"qa\")"
   ]
  },
  {
   "cell_type": "code",
   "execution_count": 21,
   "metadata": {},
   "outputs": [],
   "source": [
    "phrase = phrases[filelist[i]][0]"
   ]
  },
  {
   "cell_type": "code",
   "execution_count": 27,
   "metadata": {},
   "outputs": [],
   "source": [
    "from preprocess.descriptors import SentenceEmbedModel\n",
    "\n",
    "embedmodel = SentenceEmbedModel(\"stsb-roberta-base\")"
   ]
  },
  {
   "cell_type": "code",
   "execution_count": 28,
   "metadata": {},
   "outputs": [],
   "source": [
    "phrase_embed = embedmodel.get_vector_rep(phrase)"
   ]
  },
  {
   "cell_type": "code",
   "execution_count": 30,
   "metadata": {},
   "outputs": [],
   "source": [
    "phrase_embed = [torch.from_numpy(phrase_embed).float()]"
   ]
  },
  {
   "cell_type": "code",
   "execution_count": 31,
   "metadata": {},
   "outputs": [],
   "source": [
    "#idk just test\n",
    "with torch.no_grad():\n",
    "    image_c = image.to(\"cuda\")\n",
    "    outputs = model(image_c, phrase_embed)"
   ]
  },
  {
   "cell_type": "markdown",
   "metadata": {},
   "source": [
    "## General Testing"
   ]
  },
  {
   "cell_type": "code",
   "execution_count": 13,
   "metadata": {},
   "outputs": [
    {
     "name": "stdout",
     "output_type": "stream",
     "text": [
      "loaded\n",
      "Time Taken: 4.920001745223999\n",
      "Time Taken: 0.6959891319274902\n",
      "Time Taken: 0.7500014305114746\n",
      "Time Taken: 0.817000150680542\n",
      "Time Taken: 0.7739946842193604\n",
      "Time Taken: 0.7130005359649658\n",
      "Time Taken: 0.6599979400634766\n",
      "Time Taken: 0.584000825881958\n",
      "Time Taken: 0.7769992351531982\n",
      "Time Taken: 0.7610018253326416\n",
      "Time Taken: 0.719989538192749\n",
      "Time Taken: 0.6989991664886475\n",
      "Time Taken: 0.7100028991699219\n",
      "Time Taken: 0.7269961833953857\n",
      "Time Taken: 0.6429986953735352\n",
      "Time Taken: 0.6560020446777344\n",
      "Time Taken: 0.628044843673706\n",
      "Time Taken: 0.6583352088928223\n",
      "Time Taken: 0.7050189971923828\n",
      "Time Taken: 0.675987720489502\n",
      "Time Taken: 0.6619992256164551\n",
      "Time Taken: 0.7840256690979004\n",
      "Time Taken: 0.66400146484375\n",
      "Time Taken: 0.7049999237060547\n",
      "DOES NOT EXIST refreshness\n",
      "Time Taken: 0.7010014057159424\n",
      "Time Taken: 0.7399921417236328\n",
      "Time Taken: 0.7389938831329346\n",
      "Time Taken: 0.610999345779419\n",
      "Time Taken: 0.6169877052307129\n",
      "Time Taken: 0.6209995746612549\n",
      "Time Taken: 0.6110005378723145\n",
      "Time Taken: 0.6520001888275146\n",
      "Time Taken: 0.6139874458312988\n",
      "Time Taken: 0.6500003337860107\n",
      "Time Taken: 0.6449987888336182\n",
      "Time Taken: 0.6340007781982422\n",
      "Time Taken: 0.6159982681274414\n",
      "Time Taken: 0.6110081672668457\n",
      "Time Taken: 0.6150014400482178\n",
      "Time Taken: 0.5970029830932617\n",
      "Time Taken: 0.6140062808990479\n",
      "Time Taken: 0.6010012626647949\n",
      "Time Taken: 0.6609959602355957\n",
      "Time Taken: 0.6260051727294922\n",
      "Time Taken: 0.6139988899230957\n",
      "Time Taken: 0.6200015544891357\n",
      "Time Taken: 0.6150000095367432\n",
      "Time Taken: 0.6090033054351807\n",
      "Time Taken: 0.6276540756225586\n",
      "DOES NOT EXIST flexable\n",
      "Time Taken: 0.5869994163513184\n",
      "Time Taken: 0.6080029010772705\n",
      "Time Taken: 0.652001142501831\n",
      "Time Taken: 0.6530032157897949\n",
      "Time Taken: 0.6380007266998291\n",
      "Time Taken: 0.6169960498809814\n",
      "Time Taken: 0.602008581161499\n",
      "Time Taken: 0.6180007457733154\n",
      "Time Taken: 0.6459980010986328\n",
      "Time Taken: 0.6429970264434814\n",
      "Time Taken: 0.6169915199279785\n",
      "Time Taken: 0.6445732116699219\n",
      "Time Taken: 0.6140017509460449\n",
      "Time Taken: 0.6470010280609131\n",
      "Time Taken: 0.6210017204284668\n",
      "Time Taken: 0.6089997291564941\n",
      "Time Taken: 0.6639876365661621\n",
      "Time Taken: 0.6670017242431641\n",
      "Time Taken: 0.6709952354431152\n",
      "Time Taken: 0.6200008392333984\n",
      "Time Taken: 0.6410045623779297\n",
      "Time Taken: 0.5800325870513916\n",
      "Time Taken: 0.5770022869110107\n",
      "Time Taken: 0.6361680030822754\n",
      "Time Taken: 0.6230106353759766\n",
      "Time Taken: 0.6360311508178711\n",
      "Time Taken: 0.6640019416809082\n",
      "DOES NOT EXIST shippment\n",
      "Time Taken: 0.6000003814697266\n",
      "Time Taken: 0.6269991397857666\n",
      "Time Taken: 0.6379942893981934\n",
      "Time Taken: 0.6230373382568359\n",
      "Time Taken: 0.6549468040466309\n",
      "Time Taken: 0.6030046939849854\n",
      "Time Taken: 0.53399658203125\n",
      "Time Taken: 0.6690022945404053\n",
      "Time Taken: 0.6390008926391602\n",
      "Time Taken: 0.6150023937225342\n",
      "DOES NOT EXIST cravable\n",
      "Time Taken: 0.6069989204406738\n",
      "Time Taken: 0.6409890651702881\n",
      "Time Taken: 0.6169955730438232\n",
      "Time Taken: 0.6420013904571533\n",
      "Time Taken: 0.6669807434082031\n",
      "Time Taken: 0.6479966640472412\n",
      "Time Taken: 0.6490020751953125\n",
      "Time Taken: 0.6379961967468262\n",
      "Time Taken: 0.6489934921264648\n",
      "Time Taken: 0.6350634098052979\n",
      "Time Taken: 0.6429998874664307\n",
      "Time Taken: 0.6769981384277344\n",
      "Time Taken: 0.6812379360198975\n",
      "Time Taken: 0.6260030269622803\n",
      "100 Done\n",
      "Time Taken: 0.6389968395233154\n",
      "Time Taken: 0.6950018405914307\n",
      "Time Taken: 0.6029949188232422\n",
      "Time Taken: 0.6622769832611084\n",
      "Time Taken: 0.6190028190612793\n",
      "Time Taken: 0.5700018405914307\n",
      "Time Taken: 0.5540015697479248\n",
      "Time Taken: 0.6320016384124756\n",
      "Time Taken: 0.5920000076293945\n",
      "Time Taken: 0.5910005569458008\n",
      "Time Taken: 0.6050009727478027\n",
      "Time Taken: 0.6479973793029785\n",
      "Time Taken: 0.6539967060089111\n",
      "Time Taken: 0.6519691944122314\n",
      "Time Taken: 0.6259913444519043\n",
      "Time Taken: 0.6189999580383301\n",
      "Time Taken: 0.59999680519104\n",
      "Time Taken: 0.6300010681152344\n",
      "Time Taken: 0.6260044574737549\n",
      "Time Taken: 0.5959992408752441\n",
      "Time Taken: 0.6480317115783691\n",
      "Time Taken: 0.6209993362426758\n",
      "Time Taken: 0.6040134429931641\n",
      "Time Taken: 0.6129939556121826\n",
      "Time Taken: 0.6139969825744629\n",
      "Time Taken: 0.6489980220794678\n",
      "Time Taken: 0.6140034198760986\n",
      "Time Taken: 0.5990004539489746\n",
      "Time Taken: 0.5390024185180664\n",
      "Time Taken: 0.6250019073486328\n",
      "Time Taken: 0.6290004253387451\n",
      "DOES NOT EXIST 'freshness\n",
      "Time Taken: 0.594027042388916\n",
      "Time Taken: 0.5970337390899658\n",
      "Time Taken: 0.6509947776794434\n",
      "DOES NOT EXIST fustration\n",
      "Time Taken: 0.6310005187988281\n",
      "Time Taken: 0.5869965553283691\n",
      "Time Taken: 0.6369979381561279\n",
      "Time Taken: 0.633995532989502\n",
      "Time Taken: 0.6199960708618164\n",
      "Time Taken: 0.5699830055236816\n",
      "Time Taken: 0.617992639541626\n",
      "DOES NOT EXIST homecooked\n",
      "Time Taken: 0.6010012626647949\n",
      "Time Taken: 0.6470019817352295\n",
      "Time Taken: 0.5799908638000488\n",
      "Time Taken: 0.594245433807373\n",
      "Time Taken: 0.6099984645843506\n",
      "Time Taken: 0.5440008640289307\n",
      "Time Taken: 0.616987943649292\n",
      "Time Taken: 0.6409988403320312\n",
      "Time Taken: 0.6180031299591064\n",
      "Time Taken: 0.632997989654541\n",
      "Time Taken: 0.6369876861572266\n",
      "DOES NOT EXIST dissapointment\n",
      "Time Taken: 0.6270005702972412\n",
      "DOES NOT EXIST weihgts\n",
      "Time Taken: 0.592003583908081\n",
      "Time Taken: 0.6210129261016846\n",
      "Time Taken: 0.617997407913208\n",
      "Time Taken: 0.6109952926635742\n",
      "Time Taken: 0.6180031299591064\n",
      "Time Taken: 0.6240067481994629\n",
      "Time Taken: 0.629011869430542\n",
      "Time Taken: 0.6280326843261719\n",
      "Time Taken: 0.6329982280731201\n",
      "Time Taken: 0.6249973773956299\n",
      "Time Taken: 0.6210088729858398\n",
      "Time Taken: 0.5850369930267334\n",
      "Time Taken: 0.569998025894165\n",
      "Time Taken: 0.6309993267059326\n",
      "Time Taken: 0.6420001983642578\n",
      "Time Taken: 0.6549992561340332\n",
      "Time Taken: 0.5959985256195068\n",
      "Time Taken: 0.645984411239624\n",
      "Time Taken: 0.6259860992431641\n",
      "Time Taken: 0.6429989337921143\n",
      "Time Taken: 0.6429851055145264\n",
      "Time Taken: 0.6209936141967773\n",
      "Time Taken: 0.6249988079071045\n",
      "Time Taken: 0.6460328102111816\n",
      "Time Taken: 0.6300008296966553\n",
      "DOES NOT EXIST beautytemptress\n",
      "Time Taken: 0.6460003852844238\n",
      "Time Taken: 0.6280009746551514\n",
      "Time Taken: 0.63800048828125\n",
      "Time Taken: 0.6030354499816895\n",
      "Time Taken: 0.640995979309082\n",
      "Time Taken: 0.6329982280731201\n",
      "Time Taken: 0.648000955581665\n",
      "Time Taken: 0.5959944725036621\n",
      "Time Taken: 0.6229941844940186\n",
      "Time Taken: 0.5960009098052979\n",
      "Time Taken: 0.6519982814788818\n",
      "Time Taken: 0.6049978733062744\n",
      "Time Taken: 0.5759983062744141\n",
      "DOES NOT EXIST valentienes\n",
      "Time Taken: 0.6570007801055908\n",
      "Time Taken: 0.6589879989624023\n",
      "Time Taken: 0.6290006637573242\n",
      "Time Taken: 0.6113052368164062\n",
      "DOES NOT EXIST fur-free\n",
      "Time Taken: 0.6660020351409912\n",
      "Time Taken: 0.6180005073547363\n",
      "Time Taken: 0.595008134841919\n",
      "Time Taken: 0.5879974365234375\n",
      "Time Taken: 0.5910089015960693\n",
      "100 Done\n",
      "Time Taken: 0.6169991493225098\n",
      "Time Taken: 0.7610015869140625\n",
      "Time Taken: 0.6139981746673584\n",
      "Time Taken: 0.6539902687072754\n",
      "Time Taken: 0.6670303344726562\n",
      "Time Taken: 0.6240005493164062\n",
      "Time Taken: 0.6739985942840576\n",
      "DOES NOT EXIST saddness\n",
      "Time Taken: 0.562999963760376\n",
      "Time Taken: 0.632002592086792\n",
      "Time Taken: 0.6570332050323486\n",
      "Time Taken: 0.6090054512023926\n",
      "Time Taken: 0.6520020961761475\n",
      "Time Taken: 0.5880370140075684\n",
      "Time Taken: 0.6269986629486084\n",
      "Time Taken: 0.5670287609100342\n",
      "Time Taken: 0.6540017127990723\n",
      "Time Taken: 0.6240003108978271\n",
      "Time Taken: 0.6080000400543213\n",
      "Time Taken: 0.556032657623291\n",
      "Time Taken: 0.6409971714019775\n",
      "Time Taken: 0.648000955581665\n",
      "Time Taken: 0.6010022163391113\n",
      "Time Taken: 0.6219995021820068\n",
      "Time Taken: 0.608034610748291\n",
      "Time Taken: 0.553992509841919\n",
      "Time Taken: 0.660001277923584\n",
      "DOES NOT EXIST advertisemnt\n",
      "Time Taken: 0.6569955348968506\n",
      "Time Taken: 0.6180388927459717\n",
      "Time Taken: 0.6169965267181396\n",
      "Time Taken: 0.6089904308319092\n",
      "Time Taken: 0.6560297012329102\n",
      "Time Taken: 0.5460085868835449\n",
      "Time Taken: 0.5420022010803223\n",
      "Time Taken: 0.6090118885040283\n",
      "Time Taken: 0.6080026626586914\n",
      "Time Taken: 0.5989973545074463\n",
      "Time Taken: 0.5940003395080566\n",
      "Time Taken: 0.5219981670379639\n",
      "Time Taken: 0.6649904251098633\n",
      "Time Taken: 0.6239984035491943\n",
      "Time Taken: 0.6379990577697754\n",
      "Time Taken: 0.7310011386871338\n",
      "Time Taken: 0.7230298519134521\n",
      "DOES NOT EXIST valentine'sday\n",
      "Time Taken: 0.780994176864624\n",
      "Time Taken: 0.6939990520477295\n",
      "Time Taken: 0.6569995880126953\n",
      "Time Taken: 0.6230077743530273\n",
      "Time Taken: 0.7199990749359131\n",
      "Time Taken: 0.6550025939941406\n",
      "Time Taken: 0.6934514045715332\n",
      "Time Taken: 0.6620008945465088\n",
      "Time Taken: 0.6790027618408203\n",
      "DOES NOT EXIST feminim\n",
      "Time Taken: 0.6410007476806641\n",
      "Time Taken: 0.6970300674438477\n",
      "Time Taken: 0.7729835510253906\n",
      "Time Taken: 0.7310006618499756\n",
      "Time Taken: 0.6949996948242188\n",
      "Time Taken: 0.6939980983734131\n",
      "Time Taken: 0.8480033874511719\n",
      "Time Taken: 0.801997184753418\n",
      "Time Taken: 0.8659999370574951\n",
      "Time Taken: 0.729999303817749\n",
      "Time Taken: 0.7699978351593018\n",
      "Time Taken: 0.7359974384307861\n",
      "Time Taken: 0.8536128997802734\n",
      "DOES NOT EXIST achievment\n",
      "Time Taken: 0.791048526763916\n",
      "Time Taken: 0.6559996604919434\n",
      "Time Taken: 0.5880005359649658\n",
      "Time Taken: 0.7810001373291016\n",
      "Time Taken: 0.6499996185302734\n",
      "Time Taken: 0.8659918308258057\n",
      "Time Taken: 0.7269964218139648\n",
      "Time Taken: 0.5579984188079834\n",
      "Time Taken: 0.5949110984802246\n",
      "Time Taken: 0.8949997425079346\n",
      "Time Taken: 0.7358741760253906\n",
      "Time Taken: 0.8649899959564209\n",
      "Time Taken: 0.8520033359527588\n",
      "Time Taken: 0.774005651473999\n",
      "Time Taken: 0.7100112438201904\n",
      "Time Taken: 0.6579830646514893\n",
      "Time Taken: 0.6660318374633789\n",
      "Time Taken: 0.5810022354125977\n",
      "Time Taken: 0.8369884490966797\n",
      "DOES NOT EXIST frolicfu\n",
      "Time Taken: 0.8470003604888916\n",
      "Time Taken: 0.732006311416626\n",
      "Time Taken: 0.6763513088226318\n",
      "Time Taken: 0.6129977703094482\n",
      "Time Taken: 0.6289973258972168\n",
      "Time Taken: 0.6049673557281494\n",
      "Time Taken: 0.6450004577636719\n",
      "Time Taken: 0.5909779071807861\n",
      "Time Taken: 0.6489996910095215\n",
      "Time Taken: 0.6050488948822021\n",
      "Time Taken: 0.5949983596801758\n",
      "Time Taken: 0.6088941097259521\n",
      "Time Taken: 0.5860002040863037\n",
      "Time Taken: 0.595003604888916\n",
      "Time Taken: 0.6050024032592773\n",
      "Time Taken: 0.5690248012542725\n",
      "100 Done\n",
      "Time Taken: 0.597989559173584\n",
      "Time Taken: 0.6133344173431396\n",
      "Time Taken: 0.6689968109130859\n",
      "Time Taken: 0.6699972152709961\n",
      "Time Taken: 0.7779912948608398\n",
      "Time Taken: 0.8359966278076172\n",
      "DOES NOT EXIST shippment\n",
      "Time Taken: 0.681999921798706\n",
      "Time Taken: 0.6417124271392822\n",
      "Time Taken: 0.6655082702636719\n",
      "Time Taken: 0.6680002212524414\n",
      "Time Taken: 0.6310019493103027\n",
      "Time Taken: 0.5660367012023926\n",
      "Time Taken: 0.6730010509490967\n",
      "Time Taken: 1.053999900817871\n",
      "Time Taken: 0.6350007057189941\n",
      "Time Taken: 0.7089927196502686\n",
      "Time Taken: 0.6399977207183838\n",
      "Time Taken: 0.6130015850067139\n",
      "Time Taken: 0.5979959964752197\n",
      "Time Taken: 0.615001916885376\n",
      "Time Taken: 0.6580004692077637\n",
      "Time Taken: 0.7280004024505615\n",
      "Time Taken: 0.6559996604919434\n",
      "Time Taken: 0.7019975185394287\n",
      "Time Taken: 0.6760592460632324\n",
      "DOES NOT EXIST seaming-fancy\n",
      "Time Taken: 0.729999303817749\n",
      "Time Taken: 0.7320003509521484\n",
      "Time Taken: 0.5800011157989502\n",
      "Time Taken: 0.6700003147125244\n",
      "Time Taken: 0.6379942893981934\n",
      "Time Taken: 0.8410317897796631\n",
      "Time Taken: 0.922022819519043\n",
      "Time Taken: 0.7809991836547852\n",
      "Time Taken: 0.5699992179870605\n",
      "Time Taken: 0.6829988956451416\n",
      "Time Taken: 0.7039923667907715\n",
      "Time Taken: 0.6400001049041748\n",
      "Time Taken: 0.764000415802002\n",
      "Time Taken: 0.5570316314697266\n",
      "Time Taken: 0.6540040969848633\n",
      "Time Taken: 0.7952578067779541\n",
      "Time Taken: 0.7710001468658447\n",
      "Time Taken: 0.8770010471343994\n",
      "Time Taken: 0.59200119972229\n",
      "Time Taken: 0.6060287952423096\n",
      "Time Taken: 0.6977274417877197\n",
      "Time Taken: 0.5630695819854736\n",
      "Time Taken: 0.6219966411590576\n",
      "Time Taken: 0.6290004253387451\n",
      "Time Taken: 0.6280052661895752\n",
      "Time Taken: 0.648000955581665\n",
      "Time Taken: 0.5770018100738525\n",
      "Time Taken: 0.5707075595855713\n",
      "Time Taken: 0.6089944839477539\n",
      "Time Taken: 0.6135215759277344\n",
      "Time Taken: 0.6975452899932861\n",
      "Time Taken: 0.6505246162414551\n",
      "Time Taken: 0.568579912185669\n",
      "Time Taken: 0.663956880569458\n",
      "Time Taken: 0.6199941635131836\n",
      "Time Taken: 0.6142921447753906\n",
      "Time Taken: 0.6440043449401855\n",
      "Time Taken: 0.596698522567749\n",
      "Time Taken: 0.573798418045044\n",
      "Time Taken: 0.5868039131164551\n",
      "Time Taken: 0.5851185321807861\n",
      "Time Taken: 0.6252121925354004\n",
      "Time Taken: 0.6620035171508789\n",
      "Time Taken: 0.6549994945526123\n",
      "Time Taken: 0.5780017375946045\n",
      "DOES NOT EXIST relaxatuib\n",
      "Time Taken: 0.6920042037963867\n",
      "Time Taken: 0.5999689102172852\n",
      "Time Taken: 0.6119997501373291\n",
      "Time Taken: 0.5530328750610352\n",
      "Time Taken: 0.5919997692108154\n",
      "Time Taken: 0.5719997882843018\n",
      "Time Taken: 0.5869860649108887\n",
      "Time Taken: 0.7240004539489746\n",
      "Time Taken: 0.6069474220275879\n",
      "Time Taken: 0.5179977416992188\n",
      "Time Taken: 0.6629981994628906\n",
      "Time Taken: 0.8139975070953369\n",
      "Time Taken: 0.7269904613494873\n",
      "Time Taken: 0.7050008773803711\n",
      "Time Taken: 0.5999977588653564\n",
      "Time Taken: 0.6390013694763184\n",
      "DOES NOT EXIST heavan\n",
      "Time Taken: 0.6088728904724121\n",
      "Time Taken: 0.6140010356903076\n",
      "Time Taken: 0.5990536212921143\n",
      "Time Taken: 0.6180083751678467\n",
      "DOES NOT EXIST classiness\n",
      "Time Taken: 0.5998921394348145\n",
      "Time Taken: 0.5679988861083984\n",
      "Time Taken: 0.5940005779266357\n",
      "Time Taken: 0.6179869174957275\n",
      "Time Taken: 0.6090335845947266\n",
      "Time Taken: 0.5910003185272217\n",
      "Time Taken: 0.5909993648529053\n",
      "Time Taken: 0.6239938735961914\n",
      "Time Taken: 0.6189854145050049\n",
      "Time Taken: 0.5480284690856934\n",
      "100 Done\n",
      "Time Taken: 0.5824286937713623\n",
      "Time Taken: 0.6210007667541504\n",
      "Time Taken: 0.6200013160705566\n",
      "Time Taken: 0.7240087985992432\n",
      "Time Taken: 0.6930277347564697\n",
      "Time Taken: 0.8089981079101562\n",
      "Time Taken: 0.8010282516479492\n",
      "Time Taken: 0.7709939479827881\n",
      "Time Taken: 0.6869943141937256\n",
      "Time Taken: 0.7050001621246338\n",
      "Time Taken: 0.6850395202636719\n",
      "Time Taken: 0.6259992122650146\n",
      "Time Taken: 0.7229838371276855\n",
      "Time Taken: 0.5970003604888916\n",
      "Time Taken: 0.7079973220825195\n",
      "Time Taken: 0.6440005302429199\n",
      "Time Taken: 0.6110544204711914\n",
      "Time Taken: 0.800001859664917\n",
      "DOES NOT EXIST eco-conscience\n",
      "Time Taken: 0.8078558444976807\n",
      "Time Taken: 0.7850000858306885\n",
      "Time Taken: 0.8879964351654053\n",
      "Time Taken: 0.7410128116607666\n",
      "Time Taken: 0.8080024719238281\n",
      "Time Taken: 0.6410021781921387\n",
      "Time Taken: 0.7539985179901123\n",
      "Time Taken: 0.7459931373596191\n",
      "DOES NOT EXIST short-sightedness\n",
      "Time Taken: 0.6449987888336182\n",
      "Time Taken: 0.6100611686706543\n",
      "Time Taken: 0.5729999542236328\n",
      "Time Taken: 0.5780007839202881\n",
      "Time Taken: 0.5940337181091309\n",
      "Time Taken: 0.6420028209686279\n",
      "Time Taken: 0.6150009632110596\n",
      "Time Taken: 0.5720005035400391\n",
      "Time Taken: 0.5809969902038574\n",
      "DOES NOT EXIST athletecism\n",
      "Time Taken: 0.560976505279541\n",
      "Time Taken: 0.6109983921051025\n",
      "Time Taken: 0.5810000896453857\n",
      "Time Taken: 0.5970003604888916\n",
      "Time Taken: 0.5380058288574219\n",
      "DOES NOT EXIST weightloss\n",
      "Time Taken: 0.5719969272613525\n",
      "Time Taken: 0.6419994831085205\n",
      "Time Taken: 0.6920011043548584\n",
      "Time Taken: 0.557070255279541\n",
      "Time Taken: 0.5810027122497559\n",
      "Time Taken: 0.5670006275177002\n",
      "DOES NOT EXIST bandaid\n",
      "Time Taken: 0.5820064544677734\n",
      "Time Taken: 0.5320003032684326\n",
      "Time Taken: 0.6070005893707275\n",
      "Time Taken: 0.5719990730285645\n",
      "Time Taken: 0.5929992198944092\n",
      "Time Taken: 0.620002031326294\n",
      "Time Taken: 0.6350045204162598\n",
      "DOES NOT EXIST shippment\n",
      "DOES NOT EXIST shippment\n",
      "DOES NOT EXIST shippment\n",
      "DOES NOT EXIST shippment\n",
      "Time Taken: 0.562002420425415\n",
      "Time Taken: 0.5349876880645752\n",
      "Time Taken: 0.5760006904602051\n",
      "Time Taken: 0.5539994239807129\n",
      "Time Taken: 0.588001012802124\n",
      "Time Taken: 0.5609965324401855\n",
      "Time Taken: 0.6469876766204834\n",
      "Time Taken: 0.5890023708343506\n",
      "Time Taken: 0.6990017890930176\n",
      "Time Taken: 0.8170020580291748\n",
      "Time Taken: 0.589022159576416\n",
      "Time Taken: 0.656003475189209\n",
      "Time Taken: 0.7170007228851318\n",
      "Time Taken: 0.7760083675384521\n",
      "Time Taken: 0.7330465316772461\n",
      "Time Taken: 0.7530009746551514\n",
      "Time Taken: 0.5880305767059326\n",
      "Time Taken: 0.577035665512085\n",
      "Time Taken: 0.6269998550415039\n",
      "Time Taken: 0.5829992294311523\n",
      "DOES NOT EXIST mnysterious\n",
      "Time Taken: 0.6299993991851807\n",
      "Time Taken: 0.644996166229248\n",
      "Time Taken: 0.804013729095459\n",
      "Time Taken: 0.704002857208252\n",
      "Time Taken: 0.6380026340484619\n",
      "Time Taken: 0.5860052108764648\n",
      "Time Taken: 0.6459989547729492\n",
      "Time Taken: 0.7342078685760498\n",
      "Time Taken: 0.7489876747131348\n",
      "Time Taken: 0.587038516998291\n",
      "Time Taken: 0.768000602722168\n",
      "Time Taken: 0.696995735168457\n",
      "Time Taken: 0.649451732635498\n",
      "Time Taken: 0.6179995536804199\n",
      "Time Taken: 0.7220008373260498\n",
      "Time Taken: 0.6450304985046387\n",
      "Time Taken: 0.6035282611846924\n",
      "Time Taken: 0.5760042667388916\n",
      "Time Taken: 0.5599997043609619\n",
      "Time Taken: 0.5230004787445068\n",
      "DOES NOT EXIST rejuvination\n",
      "Time Taken: 0.5640010833740234\n",
      "Time Taken: 0.5550031661987305\n",
      "Time Taken: 0.5739951133728027\n",
      "Time Taken: 0.5600016117095947\n",
      "Time Taken: 0.5360007286071777\n",
      "Time Taken: 0.5449905395507812\n",
      "Time Taken: 0.5659997463226318\n",
      "100 Done\n",
      "Time Taken: 0.7449996471405029\n",
      "Time Taken: 0.5770003795623779\n",
      "Time Taken: 0.4990205764770508\n",
      "Time Taken: 0.5530118942260742\n",
      "Time Taken: 0.5760102272033691\n",
      "Time Taken: 0.6196064949035645\n",
      "Time Taken: 0.6340000629425049\n",
      "Time Taken: 0.6130180358886719\n",
      "Time Taken: 0.6250016689300537\n",
      "Time Taken: 0.5640392303466797\n",
      "Time Taken: 0.5529999732971191\n",
      "Time Taken: 0.5930004119873047\n",
      "Time Taken: 0.6000008583068848\n",
      "Time Taken: 0.5450007915496826\n",
      "Time Taken: 0.5950007438659668\n",
      "Time Taken: 0.557999849319458\n",
      "Time Taken: 0.5730018615722656\n",
      "Time Taken: 0.5860333442687988\n",
      "Time Taken: 0.578040599822998\n",
      "Time Taken: 0.5529985427856445\n",
      "Time Taken: 0.561002254486084\n",
      "Time Taken: 0.5860004425048828\n",
      "Time Taken: 0.5790121555328369\n",
      "Time Taken: 0.5779988765716553\n",
      "Time Taken: 0.6170005798339844\n",
      "Time Taken: 0.551002025604248\n",
      "Time Taken: 0.5789990425109863\n",
      "Time Taken: 0.5299961566925049\n",
      "Time Taken: 0.5659976005554199\n",
      "Time Taken: 0.6040022373199463\n",
      "Time Taken: 0.5849695205688477\n",
      "Time Taken: 0.5769979953765869\n",
      "Time Taken: 0.5540037155151367\n",
      "Time Taken: 0.5930008888244629\n",
      "Time Taken: 0.6129956245422363\n",
      "Time Taken: 0.5759947299957275\n",
      "Time Taken: 0.6059982776641846\n",
      "Time Taken: 0.5720007419586182\n",
      "Time Taken: 0.5799994468688965\n",
      "DOES NOT EXIST chldhood\n",
      "Time Taken: 0.556999921798706\n",
      "Time Taken: 0.5750000476837158\n",
      "DOES NOT EXIST conection\n",
      "Time Taken: 0.5870001316070557\n",
      "Time Taken: 0.5520000457763672\n",
      "Time Taken: 0.5620012283325195\n",
      "Time Taken: 0.5810019969940186\n",
      "Time Taken: 0.5500006675720215\n",
      "Time Taken: 0.5870010852813721\n",
      "DOES NOT EXIST explotation\n",
      "Time Taken: 0.571000337600708\n",
      "Time Taken: 0.554002046585083\n",
      "Time Taken: 0.6400034427642822\n",
      "DOES NOT EXIST 'greatness\n",
      "Time Taken: 0.617999792098999\n",
      "Time Taken: 0.5570018291473389\n",
      "Time Taken: 0.596034049987793\n",
      "Time Taken: 0.5905628204345703\n",
      "Time Taken: 0.5840001106262207\n",
      "Time Taken: 0.6310033798217773\n",
      "Time Taken: 0.585003137588501\n",
      "Time Taken: 0.5850017070770264\n",
      "Time Taken: 0.6889970302581787\n",
      "Time Taken: 0.6010019779205322\n",
      "Time Taken: 0.7760000228881836\n",
      "Time Taken: 0.6679973602294922\n",
      "Time Taken: 0.6170351505279541\n",
      "Time Taken: 0.7069966793060303\n",
      "Time Taken: 0.5893735885620117\n",
      "Time Taken: 0.557999849319458\n",
      "Time Taken: 0.5849981307983398\n",
      "Time Taken: 0.7000072002410889\n",
      "Time Taken: 0.6449980735778809\n",
      "Time Taken: 0.5269975662231445\n",
      "Time Taken: 0.5759963989257812\n",
      "Time Taken: 0.6019999980926514\n",
      "Time Taken: 0.6050314903259277\n",
      "Time Taken: 0.5930037498474121\n",
      "Time Taken: 0.5870044231414795\n",
      "Time Taken: 0.5550649166107178\n",
      "Time Taken: 0.6070024967193604\n",
      "DOES NOT EXIST shippment\n",
      "Time Taken: 0.5840010643005371\n",
      "Time Taken: 0.5830020904541016\n",
      "Time Taken: 0.6360540390014648\n",
      "Time Taken: 0.6199936866760254\n",
      "Time Taken: 0.5899989604949951\n",
      "Time Taken: 0.5849947929382324\n",
      "Time Taken: 0.7049980163574219\n",
      "Time Taken: 0.5959994792938232\n",
      "Time Taken: 0.5970327854156494\n",
      "Time Taken: 0.5790407657623291\n",
      "Time Taken: 0.574002742767334\n",
      "Time Taken: 0.5780014991760254\n",
      "Time Taken: 0.6139960289001465\n",
      "Time Taken: 0.5999977588653564\n",
      "Time Taken: 0.6059999465942383\n",
      "Time Taken: 0.6940019130706787\n",
      "Time Taken: 0.7569987773895264\n",
      "Time Taken: 0.8230106830596924\n",
      "Time Taken: 0.7539989948272705\n",
      "Time Taken: 0.5850019454956055\n",
      "Time Taken: 0.6189978122711182\n",
      "Time Taken: 0.7449970245361328\n",
      "Time Taken: 0.642000675201416\n",
      "100 Done\n",
      "Time Taken: 0.6890590190887451\n",
      "Time Taken: 0.7370147705078125\n",
      "Time Taken: 0.6210017204284668\n",
      "Time Taken: 0.6139912605285645\n",
      "Time Taken: 0.7629997730255127\n",
      "Time Taken: 0.7480008602142334\n",
      "Time Taken: 0.6589000225067139\n",
      "Time Taken: 0.6710009574890137\n",
      "Time Taken: 0.7450029850006104\n",
      "Time Taken: 0.6149942874908447\n",
      "Time Taken: 0.6190013885498047\n",
      "Time Taken: 0.5710000991821289\n",
      "Time Taken: 0.6040067672729492\n",
      "Time Taken: 0.6053042411804199\n",
      "Time Taken: 0.5509989261627197\n",
      "Time Taken: 0.6010000705718994\n",
      "Time Taken: 0.5939974784851074\n",
      "Time Taken: 0.6029984951019287\n",
      "Time Taken: 0.5820050239562988\n",
      "Time Taken: 0.5570030212402344\n",
      "Time Taken: 0.575995922088623\n",
      "Time Taken: 0.5379977226257324\n",
      "Time Taken: 0.5819997787475586\n",
      "Time Taken: 0.590001106262207\n",
      "Time Taken: 0.5899991989135742\n",
      "Time Taken: 0.653998851776123\n",
      "Time Taken: 0.5981574058532715\n",
      "Time Taken: 0.6891396045684814\n",
      "Time Taken: 0.676053524017334\n",
      "Time Taken: 0.6980299949645996\n",
      "Time Taken: 0.6819977760314941\n",
      "Time Taken: 0.6690013408660889\n",
      "Time Taken: 0.6269981861114502\n",
      "Time Taken: 0.6809961795806885\n",
      "Time Taken: 0.6729981899261475\n",
      "Time Taken: 0.6679975986480713\n",
      "Time Taken: 0.7220008373260498\n",
      "Time Taken: 0.7589998245239258\n",
      "Time Taken: 0.6630027294158936\n",
      "Time Taken: 0.6519994735717773\n",
      "Time Taken: 0.6860127449035645\n",
      "Time Taken: 0.7380292415618896\n",
      "DOES NOT EXIST beef-free\n",
      "Time Taken: 0.6770033836364746\n",
      "Time Taken: 0.6390078067779541\n",
      "Time Taken: 0.6240003108978271\n",
      "Time Taken: 0.6250121593475342\n",
      "Time Taken: 0.7210004329681396\n",
      "Time Taken: 0.6360378265380859\n",
      "Time Taken: 0.7630066871643066\n",
      "Time Taken: 0.567000150680542\n",
      "Time Taken: 0.7999927997589111\n",
      "Time Taken: 0.8419995307922363\n",
      "Time Taken: 0.7349977493286133\n",
      "Time Taken: 0.6419997215270996\n",
      "DOES NOT EXIST groovey\n",
      "Time Taken: 0.5699992179870605\n",
      "Time Taken: 0.601001501083374\n",
      "Time Taken: 0.6090030670166016\n",
      "Time Taken: 0.6140017509460449\n",
      "Time Taken: 0.6850004196166992\n",
      "Time Taken: 0.685004711151123\n",
      "Time Taken: 0.5990006923675537\n",
      "Time Taken: 0.6000003814697266\n",
      "Time Taken: 0.6830296516418457\n",
      "Time Taken: 0.7710087299346924\n",
      "Time Taken: 0.6490020751953125\n",
      "Time Taken: 0.754004955291748\n",
      "Time Taken: 1.8909945487976074\n",
      "Time Taken: 0.8189873695373535\n",
      "Time Taken: 0.6660001277923584\n",
      "Time Taken: 0.7049963474273682\n",
      "Time Taken: 0.8249943256378174\n",
      "Time Taken: 0.7530333995819092\n",
      "Time Taken: 0.6499960422515869\n",
      "Time Taken: 0.6809985637664795\n",
      "Time Taken: 0.6370015144348145\n",
      "Time Taken: 0.7897992134094238\n",
      "Time Taken: 0.7119979858398438\n",
      "Time Taken: 0.8012228012084961\n",
      "Time Taken: 0.7090005874633789\n",
      "Time Taken: 0.5510005950927734\n",
      "Time Taken: 0.688274621963501\n",
      "Time Taken: 0.8547933101654053\n",
      "Time Taken: 0.5720021724700928\n",
      "Time Taken: 0.5759999752044678\n",
      "Time Taken: 0.5090310573577881\n",
      "Time Taken: 0.6319994926452637\n",
      "Time Taken: 0.9054660797119141\n",
      "Time Taken: 0.6090030670166016\n",
      "Time Taken: 0.6879990100860596\n",
      "Time Taken: 0.8769979476928711\n",
      "Time Taken: 0.6059989929199219\n",
      "Time Taken: 0.8600022792816162\n",
      "Time Taken: 0.6480011940002441\n",
      "Time Taken: 0.6120500564575195\n",
      "Time Taken: 0.6580018997192383\n",
      "Time Taken: 0.6929986476898193\n",
      "Time Taken: 0.6500732898712158\n",
      "Time Taken: 0.7089893817901611\n",
      "Time Taken: 1.1799969673156738\n",
      "Time Taken: 0.8350050449371338\n",
      "100 Done\n",
      "Time Taken: 0.6240036487579346\n",
      "Time Taken: 0.9619996547698975\n",
      "Time Taken: 0.7499985694885254\n",
      "DOES NOT EXIST 'love\n",
      "Time Taken: 0.6499979496002197\n",
      "Time Taken: 0.7330033779144287\n",
      "Time Taken: 0.7320020198822021\n",
      "Time Taken: 0.8079986572265625\n",
      "Time Taken: 0.6660006046295166\n",
      "Time Taken: 0.6760003566741943\n",
      "Time Taken: 0.6590373516082764\n",
      "Time Taken: 0.6880013942718506\n",
      "Time Taken: 0.7516820430755615\n",
      "Time Taken: 0.7840044498443604\n",
      "Time Taken: 0.6880044937133789\n",
      "Time Taken: 0.5759997367858887\n",
      "Time Taken: 0.5990145206451416\n",
      "Time Taken: 0.6059994697570801\n",
      "Time Taken: 0.6479861736297607\n",
      "Time Taken: 0.7029988765716553\n",
      "DOES NOT EXIST neccesity\n",
      "Time Taken: 0.6950013637542725\n",
      "Time Taken: 0.7549920082092285\n",
      "Time Taken: 0.6099998950958252\n",
      "Time Taken: 0.6520035266876221\n",
      "Time Taken: 0.575998067855835\n",
      "Time Taken: 0.5820121765136719\n",
      "Time Taken: 0.5989959239959717\n",
      "Time Taken: 0.7820043563842773\n",
      "Time Taken: 0.6450057029724121\n",
      "Time Taken: 0.8209965229034424\n",
      "Time Taken: 0.7079954147338867\n",
      "Time Taken: 0.8250021934509277\n",
      "Time Taken: 0.6000010967254639\n",
      "Time Taken: 0.5729954242706299\n",
      "Time Taken: 0.5819997787475586\n",
      "Time Taken: 0.5780019760131836\n",
      "Time Taken: 0.5870010852813721\n",
      "Time Taken: 0.601999044418335\n",
      "Time Taken: 0.5703470706939697\n",
      "Time Taken: 0.5700027942657471\n",
      "Time Taken: 0.5319979190826416\n",
      "DOES NOT EXIST versitality\n",
      "Time Taken: 0.6090192794799805\n",
      "Time Taken: 0.5699934959411621\n",
      "Time Taken: 0.52500319480896\n",
      "Time Taken: 0.591001033782959\n",
      "DOES NOT EXIST dinousaur\n",
      "Time Taken: 0.5829856395721436\n",
      "Time Taken: 0.609999418258667\n",
      "Time Taken: 0.5818655490875244\n",
      "Time Taken: 0.7300326824188232\n",
      "Time Taken: 0.7135531902313232\n",
      "Time Taken: 0.6130020618438721\n",
      "DOES NOT EXIST glamerous\n",
      "Time Taken: 0.6320178508758545\n",
      "Time Taken: 0.6563324928283691\n",
      "Time Taken: 0.5940005779266357\n",
      "Time Taken: 0.5540022850036621\n",
      "Time Taken: 0.6410329341888428\n",
      "Time Taken: 0.6169989109039307\n",
      "Time Taken: 0.5869994163513184\n",
      "Time Taken: 0.5590345859527588\n",
      "Time Taken: 0.5840005874633789\n",
      "Time Taken: 0.5940008163452148\n",
      "Time Taken: 0.5850343704223633\n",
      "Time Taken: 0.5340027809143066\n",
      "Time Taken: 0.5120015144348145\n",
      "Time Taken: 0.582000732421875\n",
      "Time Taken: 0.5590040683746338\n",
      "Time Taken: 0.5610406398773193\n",
      "Time Taken: 0.6090004444122314\n",
      "Time Taken: 0.5760011672973633\n",
      "DOES NOT EXIST consious\n",
      "Time Taken: 0.6517114639282227\n",
      "Time Taken: 0.5800349712371826\n",
      "Time Taken: 0.5930023193359375\n",
      "Time Taken: 0.581000804901123\n",
      "Time Taken: 0.6520035266876221\n",
      "Time Taken: 0.6419992446899414\n",
      "Time Taken: 0.6560313701629639\n",
      "Time Taken: 0.5820393562316895\n"
     ]
    },
    {
     "data": {
      "text/plain": [
       "'DONE'"
      ]
     },
     "execution_count": 13,
     "metadata": {},
     "output_type": "execute_result"
    }
   ],
   "source": [
    "testing(test_files, res_file= \"qa_10ep_roberta.csv\", descriptor=\"qa\")"
   ]
  },
  {
   "cell_type": "markdown",
   "metadata": {},
   "source": [
    "### Word Similarity"
   ]
  },
  {
   "cell_type": "code",
   "execution_count": 16,
   "metadata": {},
   "outputs": [],
   "source": [
    "from preprocess.descriptors import TextEmbedModel, cosine_sim, SentenceEmbedModel"
   ]
  },
  {
   "cell_type": "code",
   "execution_count": null,
   "metadata": {},
   "outputs": [],
   "source": [
    "from gensim.models import KeyedVectors"
   ]
  },
  {
   "cell_type": "code",
   "execution_count": 17,
   "metadata": {},
   "outputs": [],
   "source": [
    "vecModel = SentenceEmbedModel(\"stsb-roberta-base\")"
   ]
  },
  {
   "cell_type": "code",
   "execution_count": null,
   "metadata": {},
   "outputs": [],
   "source": [
    "vec1 = vecModel.get_vector_rep(\"bathing suit\")\n",
    "vec2 = vecModel.get_vector_rep(\"style\")"
   ]
  },
  {
   "cell_type": "code",
   "execution_count": null,
   "metadata": {},
   "outputs": [
    {
     "data": {
      "text/plain": [
       "0.17391120245809366"
      ]
     },
     "execution_count": 16,
     "metadata": {},
     "output_type": "execute_result"
    }
   ],
   "source": [
    "cosine_sim(vec1, vec2)"
   ]
  },
  {
   "cell_type": "code",
   "execution_count": 14,
   "metadata": {},
   "outputs": [],
   "source": [
    "import pandas as pd"
   ]
  },
  {
   "cell_type": "code",
   "execution_count": null,
   "metadata": {},
   "outputs": [],
   "source": [
    "usableModel  = KeyedVectors.load(\"glove-wiki-gigaword-300.model\")"
   ]
  },
  {
   "cell_type": "code",
   "execution_count": 18,
   "metadata": {},
   "outputs": [
    {
     "data": {
      "text/html": [
       "<div>\n",
       "<style scoped>\n",
       "    .dataframe tbody tr th:only-of-type {\n",
       "        vertical-align: middle;\n",
       "    }\n",
       "\n",
       "    .dataframe tbody tr th {\n",
       "        vertical-align: top;\n",
       "    }\n",
       "\n",
       "    .dataframe thead th {\n",
       "        text-align: right;\n",
       "    }\n",
       "</style>\n",
       "<table border=\"1\" class=\"dataframe\">\n",
       "  <thead>\n",
       "    <tr style=\"text-align: right;\">\n",
       "      <th></th>\n",
       "      <th>filename</th>\n",
       "      <th>iou</th>\n",
       "      <th>correct?</th>\n",
       "      <th>pred labels</th>\n",
       "      <th>true labels</th>\n",
       "      <th>class confidence</th>\n",
       "      <th>confident?</th>\n",
       "      <th>similarity</th>\n",
       "      <th>label same?</th>\n",
       "    </tr>\n",
       "  </thead>\n",
       "  <tbody>\n",
       "    <tr>\n",
       "      <th>0</th>\n",
       "      <td>10/173561.png</td>\n",
       "      <td>0.302519</td>\n",
       "      <td>False</td>\n",
       "      <td>bathing suit</td>\n",
       "      <td>art/painting/beauty</td>\n",
       "      <td>0.082533</td>\n",
       "      <td>False</td>\n",
       "      <td>0</td>\n",
       "      <td>False</td>\n",
       "    </tr>\n",
       "    <tr>\n",
       "      <th>1</th>\n",
       "      <td>10/173561.png</td>\n",
       "      <td>0.453801</td>\n",
       "      <td>False</td>\n",
       "      <td>bathing suit</td>\n",
       "      <td>Beauty</td>\n",
       "      <td>0.093270</td>\n",
       "      <td>False</td>\n",
       "      <td>0</td>\n",
       "      <td>False</td>\n",
       "    </tr>\n",
       "    <tr>\n",
       "      <th>2</th>\n",
       "      <td>10/173561.png</td>\n",
       "      <td>0.350094</td>\n",
       "      <td>False</td>\n",
       "      <td>bathing suit</td>\n",
       "      <td>Classic</td>\n",
       "      <td>0.093270</td>\n",
       "      <td>False</td>\n",
       "      <td>0</td>\n",
       "      <td>False</td>\n",
       "    </tr>\n",
       "    <tr>\n",
       "      <th>3</th>\n",
       "      <td>10/170267.png</td>\n",
       "      <td>0.000000</td>\n",
       "      <td>False</td>\n",
       "      <td></td>\n",
       "      <td>homemade</td>\n",
       "      <td>0.000000</td>\n",
       "      <td>False</td>\n",
       "      <td>0</td>\n",
       "      <td>False</td>\n",
       "    </tr>\n",
       "    <tr>\n",
       "      <th>4</th>\n",
       "      <td>10/172538.png</td>\n",
       "      <td>0.000000</td>\n",
       "      <td>False</td>\n",
       "      <td>bathing suit</td>\n",
       "      <td>Military/Service</td>\n",
       "      <td>0.064773</td>\n",
       "      <td>False</td>\n",
       "      <td>0</td>\n",
       "      <td>False</td>\n",
       "    </tr>\n",
       "  </tbody>\n",
       "</table>\n",
       "</div>"
      ],
      "text/plain": [
       "        filename       iou  correct?   pred labels          true labels  \\\n",
       "0  10/173561.png  0.302519     False  bathing suit  art/painting/beauty   \n",
       "1  10/173561.png  0.453801     False  bathing suit               Beauty   \n",
       "2  10/173561.png  0.350094     False  bathing suit              Classic   \n",
       "3  10/170267.png  0.000000     False                           homemade   \n",
       "4  10/172538.png  0.000000     False  bathing suit     Military/Service   \n",
       "\n",
       "   class confidence  confident?  similarity  label same?  \n",
       "0          0.082533       False           0        False  \n",
       "1          0.093270       False           0        False  \n",
       "2          0.093270       False           0        False  \n",
       "3          0.000000       False           0        False  \n",
       "4          0.064773       False           0        False  "
      ]
     },
     "execution_count": 18,
     "metadata": {},
     "output_type": "execute_result"
    }
   ],
   "source": [
    "df = pd.read_csv(\"qa_10ep_roberta.csv\", index_col=None, keep_default_na=False)\n",
    "df.head()"
   ]
  },
  {
   "cell_type": "code",
   "execution_count": 19,
   "metadata": {},
   "outputs": [],
   "source": [
    "df[\"label same?\"] = False\n",
    "df[\"similarity\"] = float(0)"
   ]
  },
  {
   "cell_type": "code",
   "execution_count": 20,
   "metadata": {},
   "outputs": [],
   "source": [
    "for i, row in df.iterrows():\n",
    "    truths = row[\"true labels\"].split(\"/\")\n",
    "    pred = row[\"pred labels\"].strip()\n",
    "    try:\n",
    "        scores = []\n",
    "        for truth in truths:\n",
    "            v1 = vecModel.get_vector_rep(truth)\n",
    "            v2 = vecModel.get_vector_rep(pred)\n",
    "            s = cosine_sim(v1, v2)\n",
    "            #s = usableModel.similarity(truth, pred)\n",
    "            scores.append(s)\n",
    "        df.at[i, \"similarity\"] = max(scores)\n",
    "    except:\n",
    "        pass\n",
    "df[\"label same?\"] = df[\"similarity\"] >= 0.1\n",
    "    "
   ]
  },
  {
   "cell_type": "code",
   "execution_count": 21,
   "metadata": {},
   "outputs": [
    {
     "data": {
      "text/html": [
       "<div>\n",
       "<style scoped>\n",
       "    .dataframe tbody tr th:only-of-type {\n",
       "        vertical-align: middle;\n",
       "    }\n",
       "\n",
       "    .dataframe tbody tr th {\n",
       "        vertical-align: top;\n",
       "    }\n",
       "\n",
       "    .dataframe thead th {\n",
       "        text-align: right;\n",
       "    }\n",
       "</style>\n",
       "<table border=\"1\" class=\"dataframe\">\n",
       "  <thead>\n",
       "    <tr style=\"text-align: right;\">\n",
       "      <th></th>\n",
       "      <th>filename</th>\n",
       "      <th>iou</th>\n",
       "      <th>correct?</th>\n",
       "      <th>pred labels</th>\n",
       "      <th>true labels</th>\n",
       "      <th>class confidence</th>\n",
       "      <th>confident?</th>\n",
       "      <th>similarity</th>\n",
       "      <th>label same?</th>\n",
       "    </tr>\n",
       "  </thead>\n",
       "  <tbody>\n",
       "    <tr>\n",
       "      <th>0</th>\n",
       "      <td>10/173561.png</td>\n",
       "      <td>0.302519</td>\n",
       "      <td>False</td>\n",
       "      <td>bathing suit</td>\n",
       "      <td>art/painting/beauty</td>\n",
       "      <td>0.082533</td>\n",
       "      <td>False</td>\n",
       "      <td>0.312595</td>\n",
       "      <td>True</td>\n",
       "    </tr>\n",
       "    <tr>\n",
       "      <th>1</th>\n",
       "      <td>10/173561.png</td>\n",
       "      <td>0.453801</td>\n",
       "      <td>False</td>\n",
       "      <td>bathing suit</td>\n",
       "      <td>Beauty</td>\n",
       "      <td>0.093270</td>\n",
       "      <td>False</td>\n",
       "      <td>0.312595</td>\n",
       "      <td>True</td>\n",
       "    </tr>\n",
       "    <tr>\n",
       "      <th>2</th>\n",
       "      <td>10/173561.png</td>\n",
       "      <td>0.350094</td>\n",
       "      <td>False</td>\n",
       "      <td>bathing suit</td>\n",
       "      <td>Classic</td>\n",
       "      <td>0.093270</td>\n",
       "      <td>False</td>\n",
       "      <td>0.203913</td>\n",
       "      <td>True</td>\n",
       "    </tr>\n",
       "    <tr>\n",
       "      <th>3</th>\n",
       "      <td>10/170267.png</td>\n",
       "      <td>0.000000</td>\n",
       "      <td>False</td>\n",
       "      <td></td>\n",
       "      <td>homemade</td>\n",
       "      <td>0.000000</td>\n",
       "      <td>False</td>\n",
       "      <td>0.181366</td>\n",
       "      <td>True</td>\n",
       "    </tr>\n",
       "    <tr>\n",
       "      <th>4</th>\n",
       "      <td>10/172538.png</td>\n",
       "      <td>0.000000</td>\n",
       "      <td>False</td>\n",
       "      <td>bathing suit</td>\n",
       "      <td>Military/Service</td>\n",
       "      <td>0.064773</td>\n",
       "      <td>False</td>\n",
       "      <td>0.136411</td>\n",
       "      <td>True</td>\n",
       "    </tr>\n",
       "  </tbody>\n",
       "</table>\n",
       "</div>"
      ],
      "text/plain": [
       "        filename       iou  correct?   pred labels          true labels  \\\n",
       "0  10/173561.png  0.302519     False  bathing suit  art/painting/beauty   \n",
       "1  10/173561.png  0.453801     False  bathing suit               Beauty   \n",
       "2  10/173561.png  0.350094     False  bathing suit              Classic   \n",
       "3  10/170267.png  0.000000     False                           homemade   \n",
       "4  10/172538.png  0.000000     False  bathing suit     Military/Service   \n",
       "\n",
       "   class confidence  confident?  similarity  label same?  \n",
       "0          0.082533       False    0.312595         True  \n",
       "1          0.093270       False    0.312595         True  \n",
       "2          0.093270       False    0.203913         True  \n",
       "3          0.000000       False    0.181366         True  \n",
       "4          0.064773       False    0.136411         True  "
      ]
     },
     "execution_count": 21,
     "metadata": {},
     "output_type": "execute_result"
    }
   ],
   "source": [
    "df[df[\"label same?\"]==True].head()"
   ]
  },
  {
   "cell_type": "code",
   "execution_count": 22,
   "metadata": {},
   "outputs": [
    {
     "data": {
      "text/html": [
       "<div>\n",
       "<style scoped>\n",
       "    .dataframe tbody tr th:only-of-type {\n",
       "        vertical-align: middle;\n",
       "    }\n",
       "\n",
       "    .dataframe tbody tr th {\n",
       "        vertical-align: top;\n",
       "    }\n",
       "\n",
       "    .dataframe thead th {\n",
       "        text-align: right;\n",
       "    }\n",
       "</style>\n",
       "<table border=\"1\" class=\"dataframe\">\n",
       "  <thead>\n",
       "    <tr style=\"text-align: right;\">\n",
       "      <th></th>\n",
       "      <th>filename</th>\n",
       "      <th>iou</th>\n",
       "      <th>correct?</th>\n",
       "      <th>pred labels</th>\n",
       "      <th>true labels</th>\n",
       "      <th>class confidence</th>\n",
       "      <th>confident?</th>\n",
       "      <th>similarity</th>\n",
       "      <th>label same?</th>\n",
       "    </tr>\n",
       "  </thead>\n",
       "  <tbody>\n",
       "    <tr>\n",
       "      <th>0</th>\n",
       "      <td>10/173561.png</td>\n",
       "      <td>0.302519</td>\n",
       "      <td>False</td>\n",
       "      <td>bathing suit</td>\n",
       "      <td>art/painting/beauty</td>\n",
       "      <td>0.082533</td>\n",
       "      <td>False</td>\n",
       "      <td>0.312595</td>\n",
       "      <td>True</td>\n",
       "    </tr>\n",
       "    <tr>\n",
       "      <th>1</th>\n",
       "      <td>10/173561.png</td>\n",
       "      <td>0.453801</td>\n",
       "      <td>False</td>\n",
       "      <td>bathing suit</td>\n",
       "      <td>Beauty</td>\n",
       "      <td>0.093270</td>\n",
       "      <td>False</td>\n",
       "      <td>0.312595</td>\n",
       "      <td>True</td>\n",
       "    </tr>\n",
       "    <tr>\n",
       "      <th>2</th>\n",
       "      <td>10/173561.png</td>\n",
       "      <td>0.350094</td>\n",
       "      <td>False</td>\n",
       "      <td>bathing suit</td>\n",
       "      <td>Classic</td>\n",
       "      <td>0.093270</td>\n",
       "      <td>False</td>\n",
       "      <td>0.203913</td>\n",
       "      <td>True</td>\n",
       "    </tr>\n",
       "    <tr>\n",
       "      <th>3</th>\n",
       "      <td>10/170267.png</td>\n",
       "      <td>0.000000</td>\n",
       "      <td>False</td>\n",
       "      <td></td>\n",
       "      <td>homemade</td>\n",
       "      <td>0.000000</td>\n",
       "      <td>False</td>\n",
       "      <td>0.181366</td>\n",
       "      <td>True</td>\n",
       "    </tr>\n",
       "    <tr>\n",
       "      <th>4</th>\n",
       "      <td>10/172538.png</td>\n",
       "      <td>0.000000</td>\n",
       "      <td>False</td>\n",
       "      <td>bathing suit</td>\n",
       "      <td>Military/Service</td>\n",
       "      <td>0.064773</td>\n",
       "      <td>False</td>\n",
       "      <td>0.136411</td>\n",
       "      <td>True</td>\n",
       "    </tr>\n",
       "  </tbody>\n",
       "</table>\n",
       "</div>"
      ],
      "text/plain": [
       "        filename       iou  correct?   pred labels          true labels  \\\n",
       "0  10/173561.png  0.302519     False  bathing suit  art/painting/beauty   \n",
       "1  10/173561.png  0.453801     False  bathing suit               Beauty   \n",
       "2  10/173561.png  0.350094     False  bathing suit              Classic   \n",
       "3  10/170267.png  0.000000     False                           homemade   \n",
       "4  10/172538.png  0.000000     False  bathing suit     Military/Service   \n",
       "\n",
       "   class confidence  confident?  similarity  label same?  \n",
       "0          0.082533       False    0.312595         True  \n",
       "1          0.093270       False    0.312595         True  \n",
       "2          0.093270       False    0.203913         True  \n",
       "3          0.000000       False    0.181366         True  \n",
       "4          0.064773       False    0.136411         True  "
      ]
     },
     "execution_count": 22,
     "metadata": {},
     "output_type": "execute_result"
    }
   ],
   "source": [
    "df.head()"
   ]
  },
  {
   "cell_type": "code",
   "execution_count": 23,
   "metadata": {},
   "outputs": [],
   "source": [
    "df.to_csv(\"qa_10ep_roberta.csv\")"
   ]
  },
  {
   "cell_type": "markdown",
   "metadata": {},
   "source": [
    "### Experimenting for Doc2Vec"
   ]
  },
  {
   "cell_type": "code",
   "execution_count": null,
   "metadata": {},
   "outputs": [],
   "source": [
    "from gensim.models.keyedvectors import Doc2VecKeyedVectors"
   ]
  },
  {
   "cell_type": "code",
   "execution_count": null,
   "metadata": {},
   "outputs": [],
   "source": [
    "myModel = Doc2VecKeyedVectors.load(\"glove-wiki-gigaword-300.model\")"
   ]
  },
  {
   "cell_type": "code",
   "execution_count": null,
   "metadata": {},
   "outputs": [
    {
     "ename": "KeyError",
     "evalue": "\"Key 'i am' not present\"",
     "output_type": "error",
     "traceback": [
      "\u001b[1;31m---------------------------------------------------------------------------\u001b[0m",
      "\u001b[1;31mKeyError\u001b[0m                                  Traceback (most recent call last)",
      "\u001b[1;32m~\\AppData\\Local\\Temp/ipykernel_20028/1705157971.py\u001b[0m in \u001b[0;36m<module>\u001b[1;34m\u001b[0m\n\u001b[1;32m----> 1\u001b[1;33m \u001b[0mmyModel\u001b[0m\u001b[1;33m.\u001b[0m\u001b[0mget_vector\u001b[0m\u001b[1;33m(\u001b[0m\u001b[1;34m\"i am\"\u001b[0m\u001b[1;33m)\u001b[0m\u001b[1;33m\u001b[0m\u001b[1;33m\u001b[0m\u001b[0m\n\u001b[0m",
      "\u001b[1;32mc:\\Users\\Userr\\anaconda3\\envs\\FIT3163Project\\lib\\site-packages\\gensim\\models\\keyedvectors.py\u001b[0m in \u001b[0;36mget_vector\u001b[1;34m(self, key, norm)\u001b[0m\n\u001b[0;32m    436\u001b[0m \u001b[1;33m\u001b[0m\u001b[0m\n\u001b[0;32m    437\u001b[0m         \"\"\"\n\u001b[1;32m--> 438\u001b[1;33m         \u001b[0mindex\u001b[0m \u001b[1;33m=\u001b[0m \u001b[0mself\u001b[0m\u001b[1;33m.\u001b[0m\u001b[0mget_index\u001b[0m\u001b[1;33m(\u001b[0m\u001b[0mkey\u001b[0m\u001b[1;33m)\u001b[0m\u001b[1;33m\u001b[0m\u001b[1;33m\u001b[0m\u001b[0m\n\u001b[0m\u001b[0;32m    439\u001b[0m         \u001b[1;32mif\u001b[0m \u001b[0mnorm\u001b[0m\u001b[1;33m:\u001b[0m\u001b[1;33m\u001b[0m\u001b[1;33m\u001b[0m\u001b[0m\n\u001b[0;32m    440\u001b[0m             \u001b[0mself\u001b[0m\u001b[1;33m.\u001b[0m\u001b[0mfill_norms\u001b[0m\u001b[1;33m(\u001b[0m\u001b[1;33m)\u001b[0m\u001b[1;33m\u001b[0m\u001b[1;33m\u001b[0m\u001b[0m\n",
      "\u001b[1;32mc:\\Users\\Userr\\anaconda3\\envs\\FIT3163Project\\lib\\site-packages\\gensim\\models\\keyedvectors.py\u001b[0m in \u001b[0;36mget_index\u001b[1;34m(self, key, default)\u001b[0m\n\u001b[0;32m    410\u001b[0m             \u001b[1;32mreturn\u001b[0m \u001b[0mdefault\u001b[0m\u001b[1;33m\u001b[0m\u001b[1;33m\u001b[0m\u001b[0m\n\u001b[0;32m    411\u001b[0m         \u001b[1;32melse\u001b[0m\u001b[1;33m:\u001b[0m\u001b[1;33m\u001b[0m\u001b[1;33m\u001b[0m\u001b[0m\n\u001b[1;32m--> 412\u001b[1;33m             \u001b[1;32mraise\u001b[0m \u001b[0mKeyError\u001b[0m\u001b[1;33m(\u001b[0m\u001b[1;34mf\"Key '{key}' not present\"\u001b[0m\u001b[1;33m)\u001b[0m\u001b[1;33m\u001b[0m\u001b[1;33m\u001b[0m\u001b[0m\n\u001b[0m\u001b[0;32m    413\u001b[0m \u001b[1;33m\u001b[0m\u001b[0m\n\u001b[0;32m    414\u001b[0m     \u001b[1;32mdef\u001b[0m \u001b[0mget_vector\u001b[0m\u001b[1;33m(\u001b[0m\u001b[0mself\u001b[0m\u001b[1;33m,\u001b[0m \u001b[0mkey\u001b[0m\u001b[1;33m,\u001b[0m \u001b[0mnorm\u001b[0m\u001b[1;33m=\u001b[0m\u001b[1;32mFalse\u001b[0m\u001b[1;33m)\u001b[0m\u001b[1;33m:\u001b[0m\u001b[1;33m\u001b[0m\u001b[1;33m\u001b[0m\u001b[0m\n",
      "\u001b[1;31mKeyError\u001b[0m: \"Key 'i am' not present\""
     ]
    }
   ],
   "source": [
    "myModel.get_vector(\"i am\")"
   ]
  },
  {
   "cell_type": "markdown",
   "metadata": {},
   "source": [
    "### Plot boxes over image"
   ]
  },
  {
   "cell_type": "markdown",
   "metadata": {},
   "source": [
    "### Playground, No Need to Run"
   ]
  },
  {
   "cell_type": "code",
   "execution_count": null,
   "metadata": {},
   "outputs": [
    {
     "data": {
      "text/plain": [
       "'2/138042.jpg'"
      ]
     },
     "execution_count": 14,
     "metadata": {},
     "output_type": "execute_result"
    }
   ],
   "source": [
    "test_files[0]"
   ]
  },
  {
   "cell_type": "code",
   "execution_count": null,
   "metadata": {},
   "outputs": [
    {
     "name": "stdout",
     "output_type": "stream",
     "text": [
      "data/annotations/Sentiments.json\n",
      "[[4337, 1513, 5106, 2409, 'nature', 0.06366406], [4425, 1449, 4967, 2359, 'natural', 0.05355799], [4268, 1614, 5171, 2187, 'natural', 0.050595645], [588, 1521, 1332, 2352, 'natural', 0.05023624]]\n"
     ]
    },
    {
     "data": {
      "text/plain": [
       "'DONE'"
      ]
     },
     "execution_count": 14,
     "metadata": {},
     "output_type": "execute_result"
    }
   ],
   "source": [
    "testing(['2/138042.jpg'])"
   ]
  },
  {
   "cell_type": "code",
   "execution_count": null,
   "metadata": {},
   "outputs": [
    {
     "name": "stdout",
     "output_type": "stream",
     "text": [
      "data/annotations/Sentiments.json\n",
      "TEST PREDICTIONS COMPLETE\n",
      "[[71, 89, 580, 461, 'natural', 0.07402506]]\n",
      "[[409.0, 309.0, 104.0, 67.0, 'Humor'], [104.0, 80.0, 399.0, 273.0, 'soothing'], [55.0, 220.0, 199.0, 353.0, 'Nature'], [54.0, 249.0, 398.0, 352.0, 'natural honey'], [76.0, 65.0, 414.0, 298.0, 'natural']]\n"
     ]
    },
    {
     "data": {
      "text/plain": [
       "'DONE'"
      ]
     },
     "execution_count": 18,
     "metadata": {},
     "output_type": "execute_result"
    }
   ],
   "source": [
    "testing(['2/19752.jpg'], \"original\")"
   ]
  },
  {
   "cell_type": "code",
   "execution_count": 4,
   "metadata": {},
   "outputs": [],
   "source": [
    "pred = [[81, 81, 529, 467, 'natural', 0.055871446]]\n",
    "truth = [[409.0, 309.0, 104.0, 67.0, 'Humor'], [104.0, 80.0, 399.0, 273.0, 'soothing'], [55.0, 220.0, 199.0, 353.0, 'Nature'], [54.0, 249.0, 398.0, 352.0, 'natural honey'], [76.0, 65.0, 414.0, 298.0, 'natural']]"
   ]
  },
  {
   "cell_type": "code",
   "execution_count": null,
   "metadata": {},
   "outputs": [
    {
     "data": {
      "text/plain": [
       "[[317.0, 479.0, 6.0, 168.0, 'Promiscuity '],\n",
       " [93.0, 355.0, 230.0, 474.0, 'sexual promiscuity '],\n",
       " [80.0, 335.0, 240.0, 479.0, 'well traveled'],\n",
       " [106.0, 347.0, 228.0, 491.0, 'use condoms']]"
      ]
     },
     "execution_count": 6,
     "metadata": {},
     "output_type": "execute_result"
    }
   ],
   "source": [
    "#get the third file from Symbol.json\n",
    "data = load_symbols_annotation()\n",
    "data[files[2]]"
   ]
  },
  {
   "cell_type": "code",
   "execution_count": null,
   "metadata": {},
   "outputs": [
    {
     "data": {
      "text/plain": [
       "[[124.0, 251.0, 372.0, 463.0, 'irony/comedy'],\n",
       " [392.0, 468.0, 140.0, 139.0, 'entertainment']]"
      ]
     },
     "execution_count": 31,
     "metadata": {},
     "output_type": "execute_result"
    }
   ],
   "source": [
    "data[files[0]]"
   ]
  },
  {
   "cell_type": "code",
   "execution_count": null,
   "metadata": {},
   "outputs": [],
   "source": [
    "bbox1_original =[[55, 54, 236, 357, 'sex', 0.12237799], [42, 22, 249, 335, 'beauty', 0.11320336], \n",
    "[89, 205, 220, 344, 'violence', 0.0742097], [60, 47, 216, 176, 'violence', 0.0688863], [52, 83, 259, 348, 'violence', 0.064791024], \n",
    "[34, 17, 253, 329, 'sexy', 0.056233153], [49, 40, 219, 194, 'sex', 0.056071434], [57, 213, 247, 345, 'sex', 0.055351675], \n",
    "[40, 17, 227, 175, 'beauty', 0.053884428], [79, 140, 209, 349, 'sex', 0.053622432]]\n",
    "\n",
    "bbox1_sentiment = [[71, 221, 249, 327, 'violence', 0.120133504], [61, 78, 235, 337, 'violence', 0.09435376], \n",
    "[54, 78, 246, 339, 'sex', 0.092009455], [100, 171, 220, 345, 'violence', 0.088896535], [101, 250, 207, 343, 'violence', 0.0727949], \n",
    "[2, 19, 308, 353, 'sex', 0.05925332], [66, 47, 212, 192, 'violence', 0.056183454], [31, 35, 248, 254, 'violence', 0.052093174]]\n",
    "\n",
    "bbox2 = [[317.0, 479.0, 6.0, 168.0, 'Promiscuity '],\n",
    " [93.0, 355.0, 230.0, 474.0, 'sexual promiscuity '],\n",
    " [80.0, 335.0, 240.0, 479.0, 'well traveled'],\n",
    " [106.0, 347.0, 228.0, 491.0, 'use condoms']]"
   ]
  },
  {
   "cell_type": "code",
   "execution_count": null,
   "metadata": {},
   "outputs": [
    {
     "data": {
      "text/plain": [
       "0"
      ]
     },
     "execution_count": 56,
     "metadata": {},
     "output_type": "execute_result"
    }
   ],
   "source": [
    "bb_intersection_over_union(bbox2[0][:4], bbox1_sentiment[7][:4])"
   ]
  },
  {
   "cell_type": "code",
   "execution_count": null,
   "metadata": {},
   "outputs": [
    {
     "name": "stdout",
     "output_type": "stream",
     "text": [
      "[317.0, 479.0]\n",
      "[6.0, 168.0]\n",
      "311.0\n",
      "311.0\n"
     ]
    },
    {
     "data": {
      "text/plain": [
       "96721"
      ]
     },
     "execution_count": 66,
     "metadata": {},
     "output_type": "execute_result"
    }
   ],
   "source": [
    "print(bbox2[0][:2])\n",
    "print(bbox2[0][2:4])\n",
    "print(abs(bbox2[0][0]-bbox2[0][2])) #width\n",
    "print(abs(bbox2[0][1]-bbox2[0][3])) #height\n",
    "311*311"
   ]
  },
  {
   "cell_type": "code",
   "execution_count": null,
   "metadata": {},
   "outputs": [
    {
     "data": {
      "text/plain": [
       "[[71, 221, 249, 327, 'violence', 0.120133504],\n",
       " [61, 78, 235, 337, 'violence', 0.09435376],\n",
       " [54, 78, 246, 339, 'sex', 0.092009455],\n",
       " [100, 171, 220, 345, 'violence', 0.088896535],\n",
       " [101, 250, 207, 343, 'violence', 0.0727949],\n",
       " [2, 19, 308, 353, 'sex', 0.05925332],\n",
       " [66, 47, 212, 192, 'violence', 0.056183454],\n",
       " [31, 35, 248, 254, 'violence', 0.052093174]]"
      ]
     },
     "execution_count": 47,
     "metadata": {},
     "output_type": "execute_result"
    }
   ],
   "source": [
    "bbox1_sentiment"
   ]
  },
  {
   "cell_type": "code",
   "execution_count": null,
   "metadata": {},
   "outputs": [
    {
     "data": {
      "text/plain": [
       "0.19507656041604202"
      ]
     },
     "execution_count": 88,
     "metadata": {},
     "output_type": "execute_result"
    }
   ],
   "source": [
    "bb_intersection_over_union(bbox1_sentiment[0][:4], bbox2[0][:4])"
   ]
  },
  {
   "cell_type": "code",
   "execution_count": 3,
   "metadata": {},
   "outputs": [],
   "source": [
    "def draw_bboxes(true, pred, filename):\n",
    "    \"\"\"\n",
    "    true: truths from Symbols.json\n",
    "    pred: predicted values from model\n",
    "    \"\"\"\n",
    "    # bg_img = np.zeros([512,512,3],dtype=np.uint8)\n",
    "    # bg_img.fill(255)\n",
    "    img = cv2.imread(\"data/\"+filename)[:,:,::-1]                      # Read image\n",
    "    bg_img = cv2.resize(img, (512, 512))\n",
    "    for p in pred:\n",
    "        cv2.rectangle(\n",
    "                    bg_img,\n",
    "                    (int(p[0]), int(p[1])),\n",
    "                    (int(p[2]), int(p[3])),\n",
    "                    (255,0,0),\n",
    "                    2,)\n",
    "        draw_text(\n",
    "                        img=bg_img,\n",
    "                        text=p[4] + \" \" + str(p[5]),\n",
    "                        pos=(int(p[0]), int(p[1])),\n",
    "                        text_color_bg=(255,0,0),\n",
    "                        text_color = (0,0,0)\n",
    "                    )\n",
    "\n",
    "    for t in true:\n",
    "        cv2.rectangle(\n",
    "                bg_img,\n",
    "                (int(t[0]), int(t[3])),\n",
    "                (int(t[2]), int(t[1])),\n",
    "                (0,255,0),\n",
    "                2,)\n",
    "        draw_text(\n",
    "                        img=bg_img,\n",
    "                        text=t[4],\n",
    "                        pos=(int(t[0]), int(t[1])),\n",
    "                        text_color_bg=(0,255,0),\n",
    "                        text_color = (0,0,0)\n",
    "                    )\n",
    "    \n",
    "    return bg_img"
   ]
  },
  {
   "cell_type": "code",
   "execution_count": null,
   "metadata": {},
   "outputs": [
    {
     "data": {
      "text/plain": [
       "'DONE'"
      ]
     },
     "execution_count": 116,
     "metadata": {},
     "output_type": "execute_result"
    }
   ],
   "source": [
    "get_total_iou(bbox2, bbox1_sentiment, \"sentiment\")\n",
    "get_total_iou(bbox2, bbox1_original, \"original\")"
   ]
  },
  {
   "cell_type": "code",
   "execution_count": null,
   "metadata": {},
   "outputs": [
    {
     "name": "stdout",
     "output_type": "stream",
     "text": [
      "data/annotations/Sentiments.json\n"
     ]
    }
   ],
   "source": [
    "phrases = load_annotation_json()"
   ]
  },
  {
   "cell_type": "code",
   "execution_count": null,
   "metadata": {},
   "outputs": [
    {
     "data": {
      "text/plain": [
       "[['12'], ['19'], ['3', '4']]"
      ]
     },
     "execution_count": 9,
     "metadata": {},
     "output_type": "execute_result"
    }
   ],
   "source": [
    "phrases['10/171489.png']"
   ]
  },
  {
   "cell_type": "code",
   "execution_count": null,
   "metadata": {},
   "outputs": [
    {
     "data": {
      "text/plain": [
       "[[81, 81, 529, 467, 'natural', 0.055871446]]"
      ]
     },
     "execution_count": 17,
     "metadata": {},
     "output_type": "execute_result"
    }
   ],
   "source": [
    "pred"
   ]
  },
  {
   "cell_type": "code",
   "execution_count": 8,
   "metadata": {},
   "outputs": [
    {
     "data": {
      "text/plain": [
       "<matplotlib.image.AxesImage at 0x1d71b2003a0>"
      ]
     },
     "execution_count": 8,
     "metadata": {},
     "output_type": "execute_result"
    },
    {
     "data": {
      "image/png": "[encoded data removed]",
      "text/plain": [
       "<Figure size 576x576 with 1 Axes>"
      ]
     },
     "metadata": {
      "needs_background": "light"
     },
     "output_type": "display_data"
    }
   ],
   "source": [
    "img = draw_bboxes(truth, pred, '2/19752.jpg')\n",
    "plt.figure(figsize = (8,8))\n",
    "plt.imshow(img)"
   ]
  },
  {
   "cell_type": "code",
   "execution_count": null,
   "metadata": {},
   "outputs": [],
   "source": [
    "pred_o = [[71, 89, 580, 461, 'natural', 0.07402506]]\n",
    "truth_o = [[409.0, 309.0, 104.0, 67.0, 'Humor'], [104.0, 80.0, 399.0, 273.0, 'soothing'], [55.0, 220.0, 199.0, 353.0, 'Nature'], [54.0, 249.0, 398.0, 352.0, 'natural honey'], [76.0, 65.0, 414.0, 298.0, 'natural']]"
   ]
  },
  {
   "cell_type": "code",
   "execution_count": 6,
   "metadata": {},
   "outputs": [],
   "source": [
    "pred_o = [[405.0, 303.0, 103.0, 65.0, 'Nature', 0.7402506]]\n",
    "truth_o = [[409.0, 309.0, 104.0, 67.0, 'Humor']]"
   ]
  },
  {
   "cell_type": "code",
   "execution_count": 7,
   "metadata": {},
   "outputs": [
    {
     "data": {
      "text/plain": [
       "<matplotlib.image.AxesImage at 0x1d71b181370>"
      ]
     },
     "execution_count": 7,
     "metadata": {},
     "output_type": "execute_result"
    },
    {
     "data": {
      "image/png": "[encoded data removed]",
      "text/plain": [
       "<Figure size 576x576 with 1 Axes>"
      ]
     },
     "metadata": {
      "needs_background": "light"
     },
     "output_type": "display_data"
    }
   ],
   "source": [
    "img = draw_bboxes(truth_o, pred_o, '2/19752.jpg')\n",
    "plt.figure(figsize = (8,8))\n",
    "plt.imshow(img)"
   ]
  },
  {
   "cell_type": "code",
   "execution_count": null,
   "metadata": {},
   "outputs": [
    {
     "data": {
      "text/plain": [
       "'10/171489.png'"
      ]
     },
     "execution_count": 25,
     "metadata": {},
     "output_type": "execute_result"
    }
   ],
   "source": [
    "files[2]"
   ]
  },
  {
   "cell_type": "code",
   "execution_count": null,
   "metadata": {},
   "outputs": [
    {
     "data": {
      "text/plain": [
       "[[317.0, 479.0, 6.0, 168.0, 'Promiscuity '],\n",
       " [93.0, 355.0, 230.0, 474.0, 'sexual promiscuity '],\n",
       " [80.0, 335.0, 240.0, 479.0, 'well traveled'],\n",
       " [106.0, 347.0, 228.0, 491.0, 'use condoms']]"
      ]
     },
     "execution_count": 26,
     "metadata": {},
     "output_type": "execute_result"
    }
   ],
   "source": [
    "bbox2"
   ]
  },
  {
   "cell_type": "markdown",
   "metadata": {},
   "source": [
    "### Misc"
   ]
  },
  {
   "cell_type": "code",
   "execution_count": null,
   "metadata": {},
   "outputs": [],
   "source": [
    "import torch\n",
    "from torch import nn"
   ]
  },
  {
   "cell_type": "code",
   "execution_count": null,
   "metadata": {},
   "outputs": [],
   "source": []
  },
  {
   "cell_type": "code",
   "execution_count": null,
   "metadata": {},
   "outputs": [],
   "source": [
    "\n",
    "triplet_loss = nn.TripletMarginLoss(margin=1.0, p=2)\n",
    "anchor = torch.randn(100, 128, requires_grad=True)\n",
    "positive = torch.randn(100, 128, requires_grad=True)\n",
    "negative = torch.randn(100, 128, requires_grad=True)\n",
    "#output = triplet_loss(anchor, positive, negative)"
   ]
  },
  {
   "cell_type": "code",
   "execution_count": null,
   "metadata": {},
   "outputs": [],
   "source": [
    "chec = anchor[:10]"
   ]
  },
  {
   "cell_type": "code",
   "execution_count": null,
   "metadata": {},
   "outputs": [
    {
     "data": {
      "text/plain": [
       "torch.Size([10, 128])"
      ]
     },
     "execution_count": 8,
     "metadata": {},
     "output_type": "execute_result"
    }
   ],
   "source": [
    "chec.size()"
   ]
  },
  {
   "cell_type": "code",
   "execution_count": null,
   "metadata": {},
   "outputs": [],
   "source": [
    "import math"
   ]
  },
  {
   "cell_type": "code",
   "execution_count": null,
   "metadata": {},
   "outputs": [],
   "source": [
    "import matplotlib as plt"
   ]
  },
  {
   "cell_type": "code",
   "execution_count": null,
   "metadata": {},
   "outputs": [
    {
     "data": {
      "text/plain": [
       "[0.9779754323328191,\n",
       " 0.9140576474687263,\n",
       " 0.8145033635316129,\n",
       " 0.6890576474687263,\n",
       " 0.55,\n",
       " 0.41094235253127376,\n",
       " 0.2854966364683872,\n",
       " 0.18594235253127372,\n",
       " 0.12202456766718092]"
      ]
     },
     "execution_count": 9,
     "metadata": {},
     "output_type": "execute_result"
    }
   ],
   "source": [
    "[((((1 + math.cos(x * math.pi / 10)) / 2) ** 1.0) * 0.9 + 0.1) for x in range(1,10)]"
   ]
  },
  {
   "cell_type": "code",
   "execution_count": null,
   "metadata": {},
   "outputs": [],
   "source": [
    "lf = lambda x: (((1 + math.cos(x * math.pi / x)) / 2) ** 1.0) * 0.9 + 0.1  # cosine"
   ]
  },
  {
   "cell_type": "code",
   "execution_count": 1,
   "metadata": {},
   "outputs": [
    {
     "name": "stderr",
     "output_type": "stream",
     "text": [
      "[nltk_data] Downloading package stopwords to\n",
      "[nltk_data]     C:\\Users\\Userr\\AppData\\Roaming\\nltk_data...\n",
      "[nltk_data]   Unzipping corpora\\stopwords.zip.\n"
     ]
    }
   ],
   "source": [
    "from preprocess import descriptors as desc"
   ]
  },
  {
   "cell_type": "code",
   "execution_count": 5,
   "metadata": {},
   "outputs": [],
   "source": [
    "import torch"
   ]
  },
  {
   "cell_type": "code",
   "execution_count": 12,
   "metadata": {},
   "outputs": [],
   "source": [
    "text_embed = desc.TextEmbedModel()\n",
    "phrase_embed = text_embed.get_vector_rep(\"swimsuit\")\n",
    "phrase_embed = torch.from_numpy(phrase_embed).float()\n",
    "#print(phrase_embed)\n",
    "# phrase_embed = [torch.from_numpy(phrase_embed).float()]\n",
    "# print(phrase_embed)"
   ]
  },
  {
   "cell_type": "code",
   "execution_count": 13,
   "metadata": {},
   "outputs": [],
   "source": [
    "descriptors = phrase_embed"
   ]
  },
  {
   "cell_type": "code",
   "execution_count": 17,
   "metadata": {},
   "outputs": [
    {
     "name": "stdout",
     "output_type": "stream",
     "text": [
      "tensor([0.3443])\n",
      "tensor([-0.0173])\n",
      "tensor([-0.0321])\n",
      "tensor([-0.3394])\n",
      "tensor([-0.3674])\n",
      "tensor([0.3709])\n",
      "tensor([-0.5304])\n",
      "tensor([-0.1314])\n",
      "tensor([-0.2682])\n",
      "tensor([0.1741])\n",
      "tensor([0.1189])\n",
      "tensor([-0.1630])\n",
      "tensor([0.3314])\n",
      "tensor([0.4030])\n",
      "tensor([0.1115])\n",
      "tensor([0.3983])\n",
      "tensor([0.0608])\n",
      "tensor([0.2232])\n",
      "tensor([-0.2417])\n",
      "tensor([-0.8319])\n",
      "tensor([-0.4538])\n",
      "tensor([0.6832])\n",
      "tensor([-0.4693])\n",
      "tensor([0.1915])\n",
      "tensor([-0.0443])\n",
      "tensor([-0.2948])\n",
      "tensor([0.6416])\n",
      "tensor([0.4065])\n",
      "tensor([0.7386])\n",
      "tensor([-0.3462])\n",
      "tensor([0.6624])\n",
      "tensor([-0.9129])\n",
      "tensor([0.1729])\n",
      "tensor([-0.1958])\n",
      "tensor([-0.6309])\n",
      "tensor([0.2611])\n",
      "tensor([-0.4783])\n",
      "tensor([0.2847])\n",
      "tensor([0.2156])\n",
      "tensor([0.1173])\n",
      "tensor([0.6001])\n",
      "tensor([-0.7010])\n",
      "tensor([-0.3418])\n",
      "tensor([0.1298])\n",
      "tensor([-0.2802])\n",
      "tensor([0.3022])\n",
      "tensor([0.2401])\n",
      "tensor([-0.2258])\n",
      "tensor([0.0788])\n",
      "tensor([0.3305])\n",
      "tensor([0.1140])\n",
      "tensor([-0.0489])\n",
      "tensor([-0.6052])\n",
      "tensor([-0.8189])\n",
      "tensor([0.1074])\n",
      "tensor([0.0252])\n",
      "tensor([-0.3569])\n",
      "tensor([-1.1000])\n",
      "tensor([0.3128])\n",
      "tensor([-0.6645])\n",
      "tensor([0.2867])\n",
      "tensor([-0.1373])\n",
      "tensor([-1.0832])\n",
      "tensor([-0.5767])\n",
      "tensor([-0.3770])\n",
      "tensor([0.0243])\n",
      "tensor([0.1987])\n",
      "tensor([-0.4376])\n",
      "tensor([-0.2212])\n",
      "tensor([0.2988])\n",
      "tensor([-0.0910])\n",
      "tensor([0.2283])\n",
      "tensor([-0.6649])\n",
      "tensor([-0.3107])\n",
      "tensor([-0.3198])\n",
      "tensor([0.0167])\n",
      "tensor([-0.2789])\n",
      "tensor([-0.5158])\n",
      "tensor([-0.7761])\n",
      "tensor([0.0246])\n",
      "tensor([-0.3946])\n",
      "tensor([0.3911])\n",
      "tensor([0.2239])\n",
      "tensor([0.0611])\n",
      "tensor([-0.1133])\n",
      "tensor([0.0637])\n",
      "tensor([-0.1712])\n",
      "tensor([-0.1007])\n",
      "tensor([0.5718])\n",
      "tensor([-0.0824])\n",
      "tensor([-0.8561])\n",
      "tensor([-0.3302])\n",
      "tensor([-0.1876])\n",
      "tensor([-0.8031])\n",
      "tensor([0.4348])\n",
      "tensor([-0.0206])\n",
      "tensor([-0.4899])\n",
      "tensor([-0.3105])\n",
      "tensor([-0.0562])\n",
      "tensor([0.0454])\n",
      "tensor([0.4174])\n",
      "tensor([0.4602])\n",
      "tensor([0.1589])\n",
      "tensor([0.0554])\n",
      "tensor([0.2254])\n",
      "tensor([0.1491])\n",
      "tensor([0.2626])\n",
      "tensor([0.3469])\n",
      "tensor([0.1617])\n",
      "tensor([-0.5251])\n",
      "tensor([-0.0383])\n",
      "tensor([0.7891])\n",
      "tensor([0.0056])\n",
      "tensor([-0.4730])\n",
      "tensor([-0.1676])\n",
      "tensor([-0.1900])\n",
      "tensor([-0.4834])\n",
      "tensor([0.6899])\n",
      "tensor([-0.2990])\n",
      "tensor([-0.4592])\n",
      "tensor([0.9714])\n",
      "tensor([0.5282])\n",
      "tensor([0.4909])\n",
      "tensor([-0.2962])\n",
      "tensor([0.6351])\n",
      "tensor([0.3426])\n",
      "tensor([-0.0328])\n",
      "tensor([-0.4465])\n",
      "tensor([-0.1858])\n",
      "tensor([-0.5849])\n",
      "tensor([0.1336])\n",
      "tensor([-0.5828])\n",
      "tensor([0.1777])\n",
      "tensor([0.5300])\n",
      "tensor([-0.1364])\n",
      "tensor([-0.2903])\n",
      "tensor([-0.6109])\n",
      "tensor([-0.2627])\n",
      "tensor([0.0058])\n",
      "tensor([0.3754])\n",
      "tensor([0.2306])\n",
      "tensor([-0.0895])\n",
      "tensor([0.5524])\n",
      "tensor([-0.4753])\n",
      "tensor([0.2243])\n",
      "tensor([0.2805])\n",
      "tensor([0.3486])\n",
      "tensor([0.5949])\n",
      "tensor([0.0132])\n",
      "tensor([0.5812])\n",
      "tensor([-0.2357])\n",
      "tensor([0.5065])\n",
      "tensor([0.4309])\n",
      "tensor([-0.7224])\n",
      "tensor([0.1222])\n",
      "tensor([-1.0275])\n",
      "tensor([-0.5913])\n",
      "tensor([0.1929])\n",
      "tensor([0.5611])\n",
      "tensor([0.2003])\n",
      "tensor([0.2261])\n",
      "tensor([0.2718])\n",
      "tensor([0.0120])\n",
      "tensor([-0.0344])\n",
      "tensor([0.1912])\n",
      "tensor([-0.4471])\n",
      "tensor([0.0580])\n",
      "tensor([0.8017])\n",
      "tensor([0.2027])\n",
      "tensor([-0.6395])\n",
      "tensor([-0.4162])\n",
      "tensor([0.9500])\n",
      "tensor([-0.4061])\n",
      "tensor([-0.4651])\n",
      "tensor([-0.5035])\n",
      "tensor([0.1202])\n",
      "tensor([0.1688])\n",
      "tensor([1.0016])\n",
      "tensor([0.8178])\n",
      "tensor([0.2921])\n",
      "tensor([0.7769])\n",
      "tensor([-0.8299])\n",
      "tensor([0.0563])\n",
      "tensor([0.0464])\n",
      "tensor([0.7900])\n",
      "tensor([-0.2346])\n",
      "tensor([0.9529])\n",
      "tensor([-0.0941])\n",
      "tensor([-0.7778])\n",
      "tensor([-0.3405])\n",
      "tensor([-0.0399])\n",
      "tensor([0.1195])\n",
      "tensor([-0.5084])\n",
      "tensor([0.4018])\n",
      "tensor([0.3514])\n",
      "tensor([0.7814])\n",
      "tensor([-0.5114])\n",
      "tensor([0.3552])\n",
      "tensor([-0.4296])\n",
      "tensor([-1.1513])\n",
      "tensor([0.0138])\n",
      "tensor([0.1081])\n",
      "tensor([0.0071])\n",
      "tensor([0.1527])\n",
      "tensor([0.1332])\n",
      "tensor([0.2190])\n",
      "tensor([-0.7195])\n",
      "tensor([-0.0462])\n",
      "tensor([-0.3800])\n",
      "tensor([0.5870])\n",
      "tensor([0.1520])\n",
      "tensor([0.6700])\n",
      "tensor([-0.1440])\n",
      "tensor([-0.2207])\n",
      "tensor([0.3594])\n",
      "tensor([-0.1283])\n",
      "tensor([-0.0309])\n",
      "tensor([-0.5031])\n",
      "tensor([-0.2373])\n",
      "tensor([-0.0268])\n",
      "tensor([-0.0353])\n",
      "tensor([0.0820])\n",
      "tensor([0.4044])\n",
      "tensor([-0.1672])\n",
      "tensor([0.2081])\n",
      "tensor([0.4079])\n",
      "tensor([-0.1680])\n",
      "tensor([0.0977])\n",
      "tensor([-0.1391])\n",
      "tensor([-0.8443])\n",
      "tensor([0.8381])\n",
      "tensor([-0.1196])\n",
      "tensor([0.0362])\n",
      "tensor([-0.5503])\n",
      "tensor([0.1278])\n",
      "tensor([0.1074])\n",
      "tensor([0.4121])\n",
      "tensor([-0.3843])\n",
      "tensor([0.5716])\n",
      "tensor([0.1007])\n",
      "tensor([0.1539])\n",
      "tensor([-0.3702])\n",
      "tensor([0.4011])\n",
      "tensor([0.4830])\n",
      "tensor([-0.9000])\n",
      "tensor([0.6204])\n",
      "tensor([-0.2830])\n",
      "tensor([-0.0566])\n",
      "tensor([0.1352])\n",
      "tensor([0.6312])\n",
      "tensor([-0.2295])\n",
      "tensor([-0.4577])\n",
      "tensor([-0.3217])\n",
      "tensor([-0.5129])\n",
      "tensor([-0.7595])\n",
      "tensor([-0.6633])\n",
      "tensor([-0.1089])\n",
      "tensor([0.0587])\n",
      "tensor([-0.1941])\n",
      "tensor([-0.3605])\n",
      "tensor([-0.1105])\n",
      "tensor([0.0952])\n",
      "tensor([-0.0304])\n",
      "tensor([-0.3179])\n",
      "tensor([0.1344])\n",
      "tensor([0.2209])\n",
      "tensor([-0.7958])\n",
      "tensor([-0.1619])\n",
      "tensor([0.5413])\n",
      "tensor([-0.4530])\n",
      "tensor([0.3067])\n",
      "tensor([0.1802])\n",
      "tensor([-0.3495])\n",
      "tensor([-0.0393])\n",
      "tensor([0.0416])\n",
      "tensor([0.6758])\n",
      "tensor([0.2026])\n",
      "tensor([-0.3392])\n",
      "tensor([-0.6043])\n",
      "tensor([0.5792])\n",
      "tensor([0.1941])\n",
      "tensor([0.2150])\n",
      "tensor([-0.0656])\n",
      "tensor([-0.0205])\n",
      "tensor([0.2420])\n",
      "tensor([0.0802])\n",
      "tensor([-0.2260])\n",
      "tensor([0.0046])\n",
      "tensor([-0.3647])\n",
      "tensor([-0.2607])\n",
      "tensor([-0.4426])\n",
      "tensor([-0.1248])\n",
      "tensor([0.7434])\n",
      "tensor([0.3239])\n",
      "tensor([-0.6944])\n",
      "tensor([-0.6873])\n",
      "tensor([0.7523])\n",
      "tensor([0.4120])\n",
      "tensor([1.2302])\n",
      "tensor([-0.1675])\n"
     ]
    },
    {
     "ename": "NotImplementedError",
     "evalue": "There were no tensor arguments to this function (e.g., you passed an empty list of Tensors), but no fallback function is registered for schema aten::_cat.  This usually means that this function requires a non-empty list of Tensors, or that you (the operator writer) forgot to register a fallback function.  Available functions are [CPU, CUDA, QuantizedCPU, BackendSelect, Python, Named, Conjugate, Negative, ZeroTensor, ADInplaceOrView, AutogradOther, AutogradCPU, AutogradCUDA, AutogradXLA, AutogradLazy, AutogradXPU, AutogradMLC, AutogradHPU, AutogradNestedTensor, AutogradPrivateUse1, AutogradPrivateUse2, AutogradPrivateUse3, Tracer, AutocastCPU, Autocast, Batched, VmapMode, Functionalize].\n\nCPU: registered at C:\\actions-runner\\_work\\pytorch\\pytorch\\builder\\windows\\pytorch\\build\\aten\\src\\ATen\\RegisterCPU.cpp:21063 [kernel]\nCUDA: registered at C:\\actions-runner\\_work\\pytorch\\pytorch\\builder\\windows\\pytorch\\build\\aten\\src\\ATen\\RegisterCUDA.cpp:29726 [kernel]\nQuantizedCPU: registered at C:\\actions-runner\\_work\\pytorch\\pytorch\\builder\\windows\\pytorch\\build\\aten\\src\\ATen\\RegisterQuantizedCPU.cpp:1258 [kernel]\nBackendSelect: fallthrough registered at C:\\actions-runner\\_work\\pytorch\\pytorch\\builder\\windows\\pytorch\\aten\\src\\ATen\\core\\BackendSelectFallbackKernel.cpp:3 [backend fallback]\nPython: registered at C:\\actions-runner\\_work\\pytorch\\pytorch\\builder\\windows\\pytorch\\aten\\src\\ATen\\core\\PythonFallbackKernel.cpp:47 [backend fallback]\nNamed: registered at C:\\actions-runner\\_work\\pytorch\\pytorch\\builder\\windows\\pytorch\\aten\\src\\ATen\\core\\NamedRegistrations.cpp:7 [backend fallback]\nConjugate: registered at C:\\actions-runner\\_work\\pytorch\\pytorch\\builder\\windows\\pytorch\\aten\\src\\ATen\\ConjugateFallback.cpp:18 [backend fallback]\nNegative: registered at C:\\actions-runner\\_work\\pytorch\\pytorch\\builder\\windows\\pytorch\\aten\\src\\ATen\\native\\NegateFallback.cpp:18 [backend fallback]\nZeroTensor: registered at C:\\actions-runner\\_work\\pytorch\\pytorch\\builder\\windows\\pytorch\\aten\\src\\ATen\\ZeroTensorFallback.cpp:86 [backend fallback]\nADInplaceOrView: fallthrough registered at C:\\actions-runner\\_work\\pytorch\\pytorch\\builder\\windows\\pytorch\\aten\\src\\ATen\\core\\VariableFallbackKernel.cpp:64 [backend fallback]\nAutogradOther: registered at C:\\actions-runner\\_work\\pytorch\\pytorch\\builder\\windows\\pytorch\\torch\\csrc\\autograd\\generated\\VariableType_3.cpp:11380 [autograd kernel]\nAutogradCPU: registered at C:\\actions-runner\\_work\\pytorch\\pytorch\\builder\\windows\\pytorch\\torch\\csrc\\autograd\\generated\\VariableType_3.cpp:11380 [autograd kernel]\nAutogradCUDA: registered at C:\\actions-runner\\_work\\pytorch\\pytorch\\builder\\windows\\pytorch\\torch\\csrc\\autograd\\generated\\VariableType_3.cpp:11380 [autograd kernel]\nAutogradXLA: registered at C:\\actions-runner\\_work\\pytorch\\pytorch\\builder\\windows\\pytorch\\torch\\csrc\\autograd\\generated\\VariableType_3.cpp:11380 [autograd kernel]\nAutogradLazy: registered at C:\\actions-runner\\_work\\pytorch\\pytorch\\builder\\windows\\pytorch\\torch\\csrc\\autograd\\generated\\VariableType_3.cpp:11380 [autograd kernel]\nAutogradXPU: registered at C:\\actions-runner\\_work\\pytorch\\pytorch\\builder\\windows\\pytorch\\torch\\csrc\\autograd\\generated\\VariableType_3.cpp:11380 [autograd kernel]\nAutogradMLC: registered at C:\\actions-runner\\_work\\pytorch\\pytorch\\builder\\windows\\pytorch\\torch\\csrc\\autograd\\generated\\VariableType_3.cpp:11380 [autograd kernel]\nAutogradHPU: registered at C:\\actions-runner\\_work\\pytorch\\pytorch\\builder\\windows\\pytorch\\torch\\csrc\\autograd\\generated\\VariableType_3.cpp:11380 [autograd kernel]\nAutogradNestedTensor: registered at C:\\actions-runner\\_work\\pytorch\\pytorch\\builder\\windows\\pytorch\\torch\\csrc\\autograd\\generated\\VariableType_3.cpp:11380 [autograd kernel]\nAutogradPrivateUse1: registered at C:\\actions-runner\\_work\\pytorch\\pytorch\\builder\\windows\\pytorch\\torch\\csrc\\autograd\\generated\\VariableType_3.cpp:11380 [autograd kernel]\nAutogradPrivateUse2: registered at C:\\actions-runner\\_work\\pytorch\\pytorch\\builder\\windows\\pytorch\\torch\\csrc\\autograd\\generated\\VariableType_3.cpp:11380 [autograd kernel]\nAutogradPrivateUse3: registered at C:\\actions-runner\\_work\\pytorch\\pytorch\\builder\\windows\\pytorch\\torch\\csrc\\autograd\\generated\\VariableType_3.cpp:11380 [autograd kernel]\nTracer: registered at C:\\actions-runner\\_work\\pytorch\\pytorch\\builder\\windows\\pytorch\\torch\\csrc\\autograd\\generated\\TraceType_3.cpp:11220 [kernel]\nAutocastCPU: fallthrough registered at C:\\actions-runner\\_work\\pytorch\\pytorch\\builder\\windows\\pytorch\\aten\\src\\ATen\\autocast_mode.cpp:461 [backend fallback]\nAutocast: fallthrough registered at C:\\actions-runner\\_work\\pytorch\\pytorch\\builder\\windows\\pytorch\\aten\\src\\ATen\\autocast_mode.cpp:305 [backend fallback]\nBatched: registered at C:\\actions-runner\\_work\\pytorch\\pytorch\\builder\\windows\\pytorch\\aten\\src\\ATen\\BatchingRegistrations.cpp:1059 [backend fallback]\nVmapMode: fallthrough registered at C:\\actions-runner\\_work\\pytorch\\pytorch\\builder\\windows\\pytorch\\aten\\src\\ATen\\VmapModeRegistrations.cpp:33 [backend fallback]\nFunctionalize: registered at C:\\actions-runner\\_work\\pytorch\\pytorch\\builder\\windows\\pytorch\\aten\\src\\ATen\\FunctionalizeFallbackKernel.cpp:52 [backend fallback]\n",
     "output_type": "error",
     "traceback": [
      "\u001b[1;31m---------------------------------------------------------------------------\u001b[0m",
      "\u001b[1;31mNotImplementedError\u001b[0m                       Traceback (most recent call last)",
      "\u001b[1;32m~\\AppData\\Local\\Temp/ipykernel_6396/482468715.py\u001b[0m in \u001b[0;36m<module>\u001b[1;34m\u001b[0m\n\u001b[0;32m      9\u001b[0m     \u001b[1;31m# t = t.expand(num_anchors_boxes, descriptors.size()[1])\u001b[0m\u001b[1;33m\u001b[0m\u001b[1;33m\u001b[0m\u001b[0m\n\u001b[0;32m     10\u001b[0m     \u001b[1;31m# b.append(t)\u001b[0m\u001b[1;33m\u001b[0m\u001b[1;33m\u001b[0m\u001b[0m\n\u001b[1;32m---> 11\u001b[1;33m \u001b[0md\u001b[0m \u001b[1;33m=\u001b[0m \u001b[0mtorch\u001b[0m\u001b[1;33m.\u001b[0m\u001b[0mcat\u001b[0m\u001b[1;33m(\u001b[0m\u001b[0mb\u001b[0m\u001b[1;33m,\u001b[0m \u001b[0mdim\u001b[0m\u001b[1;33m=\u001b[0m\u001b[1;36m0\u001b[0m\u001b[1;33m)\u001b[0m\u001b[1;33m\u001b[0m\u001b[1;33m\u001b[0m\u001b[0m\n\u001b[0m",
      "\u001b[1;31mNotImplementedError\u001b[0m: There were no tensor arguments to this function (e.g., you passed an empty list of Tensors), but no fallback function is registered for schema aten::_cat.  This usually means that this function requires a non-empty list of Tensors, or that you (the operator writer) forgot to register a fallback function.  Available functions are [CPU, CUDA, QuantizedCPU, BackendSelect, Python, Named, Conjugate, Negative, ZeroTensor, ADInplaceOrView, AutogradOther, AutogradCPU, AutogradCUDA, AutogradXLA, AutogradLazy, AutogradXPU, AutogradMLC, AutogradHPU, AutogradNestedTensor, AutogradPrivateUse1, AutogradPrivateUse2, AutogradPrivateUse3, Tracer, AutocastCPU, Autocast, Batched, VmapMode, Functionalize].\n\nCPU: registered at C:\\actions-runner\\_work\\pytorch\\pytorch\\builder\\windows\\pytorch\\build\\aten\\src\\ATen\\RegisterCPU.cpp:21063 [kernel]\nCUDA: registered at C:\\actions-runner\\_work\\pytorch\\pytorch\\builder\\windows\\pytorch\\build\\aten\\src\\ATen\\RegisterCUDA.cpp:29726 [kernel]\nQuantizedCPU: registered at C:\\actions-runner\\_work\\pytorch\\pytorch\\builder\\windows\\pytorch\\build\\aten\\src\\ATen\\RegisterQuantizedCPU.cpp:1258 [kernel]\nBackendSelect: fallthrough registered at C:\\actions-runner\\_work\\pytorch\\pytorch\\builder\\windows\\pytorch\\aten\\src\\ATen\\core\\BackendSelectFallbackKernel.cpp:3 [backend fallback]\nPython: registered at C:\\actions-runner\\_work\\pytorch\\pytorch\\builder\\windows\\pytorch\\aten\\src\\ATen\\core\\PythonFallbackKernel.cpp:47 [backend fallback]\nNamed: registered at C:\\actions-runner\\_work\\pytorch\\pytorch\\builder\\windows\\pytorch\\aten\\src\\ATen\\core\\NamedRegistrations.cpp:7 [backend fallback]\nConjugate: registered at C:\\actions-runner\\_work\\pytorch\\pytorch\\builder\\windows\\pytorch\\aten\\src\\ATen\\ConjugateFallback.cpp:18 [backend fallback]\nNegative: registered at C:\\actions-runner\\_work\\pytorch\\pytorch\\builder\\windows\\pytorch\\aten\\src\\ATen\\native\\NegateFallback.cpp:18 [backend fallback]\nZeroTensor: registered at C:\\actions-runner\\_work\\pytorch\\pytorch\\builder\\windows\\pytorch\\aten\\src\\ATen\\ZeroTensorFallback.cpp:86 [backend fallback]\nADInplaceOrView: fallthrough registered at C:\\actions-runner\\_work\\pytorch\\pytorch\\builder\\windows\\pytorch\\aten\\src\\ATen\\core\\VariableFallbackKernel.cpp:64 [backend fallback]\nAutogradOther: registered at C:\\actions-runner\\_work\\pytorch\\pytorch\\builder\\windows\\pytorch\\torch\\csrc\\autograd\\generated\\VariableType_3.cpp:11380 [autograd kernel]\nAutogradCPU: registered at C:\\actions-runner\\_work\\pytorch\\pytorch\\builder\\windows\\pytorch\\torch\\csrc\\autograd\\generated\\VariableType_3.cpp:11380 [autograd kernel]\nAutogradCUDA: registered at C:\\actions-runner\\_work\\pytorch\\pytorch\\builder\\windows\\pytorch\\torch\\csrc\\autograd\\generated\\VariableType_3.cpp:11380 [autograd kernel]\nAutogradXLA: registered at C:\\actions-runner\\_work\\pytorch\\pytorch\\builder\\windows\\pytorch\\torch\\csrc\\autograd\\generated\\VariableType_3.cpp:11380 [autograd kernel]\nAutogradLazy: registered at C:\\actions-runner\\_work\\pytorch\\pytorch\\builder\\windows\\pytorch\\torch\\csrc\\autograd\\generated\\VariableType_3.cpp:11380 [autograd kernel]\nAutogradXPU: registered at C:\\actions-runner\\_work\\pytorch\\pytorch\\builder\\windows\\pytorch\\torch\\csrc\\autograd\\generated\\VariableType_3.cpp:11380 [autograd kernel]\nAutogradMLC: registered at C:\\actions-runner\\_work\\pytorch\\pytorch\\builder\\windows\\pytorch\\torch\\csrc\\autograd\\generated\\VariableType_3.cpp:11380 [autograd kernel]\nAutogradHPU: registered at C:\\actions-runner\\_work\\pytorch\\pytorch\\builder\\windows\\pytorch\\torch\\csrc\\autograd\\generated\\VariableType_3.cpp:11380 [autograd kernel]\nAutogradNestedTensor: registered at C:\\actions-runner\\_work\\pytorch\\pytorch\\builder\\windows\\pytorch\\torch\\csrc\\autograd\\generated\\VariableType_3.cpp:11380 [autograd kernel]\nAutogradPrivateUse1: registered at C:\\actions-runner\\_work\\pytorch\\pytorch\\builder\\windows\\pytorch\\torch\\csrc\\autograd\\generated\\VariableType_3.cpp:11380 [autograd kernel]\nAutogradPrivateUse2: registered at C:\\actions-runner\\_work\\pytorch\\pytorch\\builder\\windows\\pytorch\\torch\\csrc\\autograd\\generated\\VariableType_3.cpp:11380 [autograd kernel]\nAutogradPrivateUse3: registered at C:\\actions-runner\\_work\\pytorch\\pytorch\\builder\\windows\\pytorch\\torch\\csrc\\autograd\\generated\\VariableType_3.cpp:11380 [autograd kernel]\nTracer: registered at C:\\actions-runner\\_work\\pytorch\\pytorch\\builder\\windows\\pytorch\\torch\\csrc\\autograd\\generated\\TraceType_3.cpp:11220 [kernel]\nAutocastCPU: fallthrough registered at C:\\actions-runner\\_work\\pytorch\\pytorch\\builder\\windows\\pytorch\\aten\\src\\ATen\\autocast_mode.cpp:461 [backend fallback]\nAutocast: fallthrough registered at C:\\actions-runner\\_work\\pytorch\\pytorch\\builder\\windows\\pytorch\\aten\\src\\ATen\\autocast_mode.cpp:305 [backend fallback]\nBatched: registered at C:\\actions-runner\\_work\\pytorch\\pytorch\\builder\\windows\\pytorch\\aten\\src\\ATen\\BatchingRegistrations.cpp:1059 [backend fallback]\nVmapMode: fallthrough registered at C:\\actions-runner\\_work\\pytorch\\pytorch\\builder\\windows\\pytorch\\aten\\src\\ATen\\VmapModeRegistrations.cpp:33 [backend fallback]\nFunctionalize: registered at C:\\actions-runner\\_work\\pytorch\\pytorch\\builder\\windows\\pytorch\\aten\\src\\ATen\\FunctionalizeFallbackKernel.cpp:52 [backend fallback]\n"
     ]
    }
   ],
   "source": [
    "\n",
    "batch_size = descriptors.size()[0]\n",
    "num_anchors_boxes = 2 // batch_size\n",
    "\n",
    "# Append the descriptor text appending to the fully connected layer.\n",
    "b = []\n",
    "for i in range(descriptors.size()[0]):\n",
    "    t = torch.unsqueeze(descriptors[i], 0)\n",
    "    print(t)\n",
    "    # t = t.expand(num_anchors_boxes, descriptors.size()[1])\n",
    "    # b.append(t)\n",
    "d = torch.cat(b, dim=0)"
   ]
  },
  {
   "cell_type": "code",
   "execution_count": 1,
   "metadata": {},
   "outputs": [
    {
     "ename": "ModuleNotFoundError",
     "evalue": "No module named 'utils'",
     "output_type": "error",
     "traceback": [
      "\u001b[1;31m---------------------------------------------------------------------------\u001b[0m",
      "\u001b[1;31mModuleNotFoundError\u001b[0m                       Traceback (most recent call last)",
      "\u001b[1;32m~\\AppData\\Local\\Temp/ipykernel_12404/3248824197.py\u001b[0m in \u001b[0;36m<module>\u001b[1;34m\u001b[0m\n\u001b[0;32m      3\u001b[0m \u001b[1;32mimport\u001b[0m \u001b[0mtorch\u001b[0m\u001b[1;33m.\u001b[0m\u001b[0mnn\u001b[0m \u001b[1;32mas\u001b[0m \u001b[0mnn\u001b[0m\u001b[1;33m\u001b[0m\u001b[1;33m\u001b[0m\u001b[0m\n\u001b[0;32m      4\u001b[0m \u001b[1;32mimport\u001b[0m \u001b[0mtorchvision\u001b[0m\u001b[1;33m.\u001b[0m\u001b[0mmodels\u001b[0m \u001b[1;32mas\u001b[0m \u001b[0mmodels\u001b[0m\u001b[1;33m\u001b[0m\u001b[1;33m\u001b[0m\u001b[0m\n\u001b[1;32m----> 5\u001b[1;33m \u001b[1;32mimport\u001b[0m \u001b[0mutils\u001b[0m\u001b[1;33m\u001b[0m\u001b[1;33m\u001b[0m\u001b[0m\n\u001b[0m\u001b[0;32m      6\u001b[0m \u001b[1;32mimport\u001b[0m \u001b[0mtorch\u001b[0m\u001b[1;33m.\u001b[0m\u001b[0mnn\u001b[0m\u001b[1;33m.\u001b[0m\u001b[0mfunctional\u001b[0m \u001b[1;32mas\u001b[0m \u001b[0mF\u001b[0m\u001b[1;33m\u001b[0m\u001b[1;33m\u001b[0m\u001b[0m\n\u001b[0;32m      7\u001b[0m vse = nn.Sequential(\n",
      "\u001b[1;31mModuleNotFoundError\u001b[0m: No module named 'utils'"
     ]
    }
   ],
   "source": [
    "# feature extaction from pretrained model: https://discuss.pytorch.org/t/how-to-extract-features-of-an-image-from-a-trained-model/119/3\n",
    "import torch\n",
    "import torch.nn as nn\n",
    "import torchvision.models as models\n",
    "import utils\n",
    "import torch.nn.functional as F\n",
    "vse = nn.Sequential(\n",
    "                nn.Linear(opts.imfeatDim + 300, opts.embDim),\n",
    "                nn.BatchNorm1d(opts.embDim),\n",
    "                nn.LeakyReLU(0.02, inplace=True),\n",
    "            )"
   ]
  },
  {
   "cell_type": "code",
   "execution_count": null,
   "metadata": {},
   "outputs": [],
   "source": []
  },
  {
   "cell_type": "markdown",
   "metadata": {},
   "source": [
    "### Get All Files for Ranking "
   ]
  },
  {
   "cell_type": "code",
   "execution_count": 1,
   "metadata": {},
   "outputs": [],
   "source": [
    "import json"
   ]
  },
  {
   "cell_type": "code",
   "execution_count": 25,
   "metadata": {},
   "outputs": [],
   "source": [
    "completed  = {}"
   ]
  },
  {
   "cell_type": "code",
   "execution_count": 3,
   "metadata": {},
   "outputs": [],
   "source": [
    "from preprocess.descriptors import SentimentPreProcessor, StrategiesPreProcessor, TopicsPreProcessor"
   ]
  },
  {
   "cell_type": "code",
   "execution_count": 23,
   "metadata": {},
   "outputs": [],
   "source": [
    "sentproc = SentimentPreProcessor()\n",
    "stratproc = StrategiesPreProcessor()\n",
    "topicproc = TopicsPreProcessor()"
   ]
  },
  {
   "cell_type": "code",
   "execution_count": 6,
   "metadata": {},
   "outputs": [],
   "source": [
    "sloganfile = open(\"data/annotations/Slogans.json\")\n",
    "slogans = json.load(sloganfile)"
   ]
  },
  {
   "cell_type": "code",
   "execution_count": 14,
   "metadata": {},
   "outputs": [],
   "source": [
    "sentimentfile = open(\"data/annotations/Sentiments.json\")\n",
    "sentiments = json.load(sentimentfile)"
   ]
  },
  {
   "cell_type": "code",
   "execution_count": 15,
   "metadata": {},
   "outputs": [],
   "source": [
    "strategiesfile = open(\"data/annotations/Strategies.json\")\n",
    "strategies = json.load(strategiesfile)"
   ]
  },
  {
   "cell_type": "code",
   "execution_count": 16,
   "metadata": {},
   "outputs": [],
   "source": [
    "topicsfile = open(\"data/annotations/Topics.json\")\n",
    "topics = json.load(topicsfile)"
   ]
  },
  {
   "cell_type": "code",
   "execution_count": 18,
   "metadata": {},
   "outputs": [],
   "source": [
    "qafile = open(\"data/annotations/QA_Combined_Action_Reason.json\")\n",
    "qas = json.load(qafile)"
   ]
  },
  {
   "cell_type": "code",
   "execution_count": 8,
   "metadata": {},
   "outputs": [
    {
     "data": {
      "text/plain": [
       "3710"
      ]
     },
     "execution_count": 8,
     "metadata": {},
     "output_type": "execute_result"
    }
   ],
   "source": [
    "len(slogans.keys())"
   ]
  },
  {
   "cell_type": "code",
   "execution_count": 12,
   "metadata": {},
   "outputs": [
    {
     "data": {
      "text/plain": [
       "'10/170489.png'"
      ]
     },
     "execution_count": 12,
     "metadata": {},
     "output_type": "execute_result"
    }
   ],
   "source": [
    "list(slogans.keys())[0]"
   ]
  },
  {
   "cell_type": "code",
   "execution_count": 26,
   "metadata": {},
   "outputs": [],
   "source": [
    "for k in list(slogans.keys()):\n",
    "    try:\n",
    "        sentiment = sentiments[k]\n",
    "        strategy = strategies[k]\n",
    "        topic = topics[k]\n",
    "        qa = qas[k]\n",
    "        slogan = slogans[k]\n",
    "    except KeyError:\n",
    "        next\n",
    "    else:\n",
    "        completed[k] = {\"Slogan\":slogan, \"Sentiment\": sentiment, \"Strategy\": strategy, \"Topic\":topic, \"QA\": qa}"
   ]
  },
  {
   "cell_type": "code",
   "execution_count": 27,
   "metadata": {},
   "outputs": [
    {
     "data": {
      "text/plain": [
       "3710"
      ]
     },
     "execution_count": 27,
     "metadata": {},
     "output_type": "execute_result"
    }
   ],
   "source": [
    "len(completed.keys())"
   ]
  },
  {
   "cell_type": "code",
   "execution_count": 28,
   "metadata": {},
   "outputs": [
    {
     "data": {
      "text/plain": [
       "{'Slogan': ['Endless fun with amazing taste. ',\n",
       "  'Better get a butterfinger',\n",
       "  'Butterfingers will make you cool like Bart Simpson.'],\n",
       " 'Sentiment': [['6', '14'], ['12'], ['11']],\n",
       " 'Strategy': [['5'], ['6'], ['2', '5'], ['2', '6', '8'], ['5', '6', '9']],\n",
       " 'Topic': ['2', '2', '2'],\n",
       " 'QA': ['I should buy a Butterfinger because it will make my life more fun. ',\n",
       "  'I should eat butterfingers because the simpsoms say',\n",
       "  'I should buy this product because it will make me as funny as Bart Simpson.']}"
      ]
     },
     "execution_count": 28,
     "metadata": {},
     "output_type": "execute_result"
    }
   ],
   "source": [
    "completed['10/170489.png']"
   ]
  },
  {
   "cell_type": "code",
   "execution_count": 29,
   "metadata": {},
   "outputs": [],
   "source": [
    "json_object = json.dumps(completed)\n",
    "with open(\"compiled_descriptors.json\", \"w\") as outfile:\n",
    "    outfile.write(json_object)\n",
    "outfile.close()"
   ]
  },
  {
   "cell_type": "markdown",
   "metadata": {},
   "source": [
    "## RoBERTa"
   ]
  },
  {
   "cell_type": "code",
   "execution_count": 1,
   "metadata": {},
   "outputs": [
    {
     "name": "stderr",
     "output_type": "stream",
     "text": [
      "Downloading: 100%|██████████| 878k/878k [00:16<00:00, 56.1kB/s] \n",
      "Downloading: 100%|██████████| 446k/446k [00:06<00:00, 70.6kB/s] \n",
      "Downloading: 100%|██████████| 481/481 [00:00<00:00, 124kB/s]\n",
      "Downloading: 100%|██████████| 478M/478M [03:42<00:00, 2.26MB/s] \n",
      "Some weights of the model checkpoint at roberta-base were not used when initializing RobertaModel: ['lm_head.layer_norm.bias', 'lm_head.dense.weight', 'lm_head.decoder.weight', 'lm_head.dense.bias', 'lm_head.layer_norm.weight', 'lm_head.bias']\n",
      "- This IS expected if you are initializing RobertaModel from the checkpoint of a model trained on another task or with another architecture (e.g. initializing a BertForSequenceClassification model from a BertForPreTraining model).\n",
      "- This IS NOT expected if you are initializing RobertaModel from the checkpoint of a model that you expect to be exactly identical (initializing a BertForSequenceClassification model from a BertForSequenceClassification model).\n"
     ]
    }
   ],
   "source": [
    "from transformers import RobertaTokenizer, RobertaModel\n",
    "tokenizer = RobertaTokenizer.from_pretrained('roberta-base')\n",
    "model = RobertaModel.from_pretrained('roberta-base')"
   ]
  },
  {
   "cell_type": "code",
   "execution_count": 2,
   "metadata": {},
   "outputs": [
    {
     "data": {
      "text/plain": [
       "BaseModelOutputWithPoolingAndCrossAttentions(last_hidden_state=tensor([[[-0.0891,  0.1053, -0.0083,  ..., -0.0876, -0.0457, -0.0820],\n",
       "         [ 0.1197,  0.1413,  0.0139,  ...,  0.4163, -0.0789, -0.1427],\n",
       "         [ 0.2349,  0.1151,  0.0247,  ...,  0.1086, -0.1882,  0.0277],\n",
       "         ...,\n",
       "         [ 0.0378,  0.1295, -0.1772,  ...,  0.1043, -0.0233, -0.1807],\n",
       "         [-0.0762,  0.0980, -0.0275,  ..., -0.1103, -0.0509, -0.1119],\n",
       "         [-0.0160,  0.0246,  0.0718,  ...,  0.0901,  0.0069,  0.0089]]],\n",
       "       grad_fn=<NativeLayerNormBackward0>), pooler_output=tensor([[-6.9584e-03, -2.1812e-01, -2.1185e-01, -8.4745e-02,  1.4698e-01,\n",
       "          2.4359e-01,  2.7229e-01, -4.7428e-02, -8.9845e-02, -1.7839e-01,\n",
       "          2.7340e-01, -1.0108e-02, -1.1908e-01,  1.4431e-01, -1.5892e-01,\n",
       "          4.8113e-01,  2.2214e-01, -5.2554e-01,  4.6611e-02, -2.7568e-02,\n",
       "         -2.9038e-01,  5.7366e-02,  5.0207e-01,  3.3396e-01,  1.3451e-01,\n",
       "          3.3720e-02, -1.7331e-01,  9.0274e-03,  1.7511e-01,  2.6287e-01,\n",
       "          3.0364e-01,  2.9484e-02,  1.1815e-01,  2.7784e-01, -2.5300e-01,\n",
       "          5.1538e-02, -3.5787e-01,  9.3308e-03,  3.1495e-01, -2.0584e-01,\n",
       "         -1.0502e-01,  1.9178e-01,  1.9083e-01, -1.8125e-01, -1.2341e-01,\n",
       "          4.4875e-01,  2.6024e-01,  2.8646e-02, -1.4336e-01, -1.1529e-01,\n",
       "         -3.3751e-01,  3.7706e-01,  3.2310e-01,  1.9612e-01, -5.2732e-02,\n",
       "          5.0287e-02, -7.7329e-02,  2.9242e-01, -7.5097e-02, -7.8943e-02,\n",
       "         -1.0756e-01, -2.5264e-01,  2.8770e-02, -2.8082e-02,  6.1811e-02,\n",
       "         -1.3536e-01,  1.3860e-01, -1.6191e-01, -1.6361e-01,  4.6497e-02,\n",
       "         -1.2517e-01,  1.6451e-01,  1.6935e-01, -3.2474e-01, -2.9898e-01,\n",
       "          8.3962e-02, -6.3874e-01, -1.0820e-01,  3.6054e-01,  4.7604e-01,\n",
       "         -6.8460e-02,  2.6096e-01,  5.7599e-02,  2.3318e-01,  8.0462e-03,\n",
       "         -4.9146e-02, -4.1332e-02, -1.6319e-01,  1.9028e-01,  2.6816e-01,\n",
       "         -2.2650e-01, -4.2731e-01,  4.5242e-02,  2.8077e-02, -9.1260e-02,\n",
       "          2.7566e-02, -2.6242e-02, -1.0087e-01, -2.0318e-01, -1.9484e-01,\n",
       "          9.5520e-02, -2.6285e-01, -1.7608e-01,  2.6076e-01,  8.1762e-03,\n",
       "         -1.9038e-01, -3.3479e-03,  3.1551e-01,  5.4030e-02, -1.0045e-01,\n",
       "         -2.0085e-01,  4.5526e-01,  3.5691e-01, -5.2803e-02,  1.8020e-02,\n",
       "          1.6225e-01,  1.6096e-01, -2.8394e-01,  4.5580e-01, -3.2630e-01,\n",
       "          1.0336e-02, -8.6240e-02,  1.5058e-01,  2.1360e-01, -1.9978e-01,\n",
       "          2.7265e-01,  1.5780e-01,  2.9557e-01,  1.9179e-01,  1.1109e-01,\n",
       "         -7.1561e-02,  1.2632e-01, -1.2331e-01,  1.8922e-01,  2.3768e-01,\n",
       "          1.2161e-01, -5.9785e-03, -3.6011e-01, -2.5822e-01,  2.9361e-01,\n",
       "          3.5828e-01,  1.4937e-01, -4.8254e-02,  2.1773e-01,  1.0891e-01,\n",
       "          2.3714e-01,  1.4545e-01, -4.4069e-01,  7.2813e-02,  3.6856e-01,\n",
       "          9.1874e-02,  1.5657e-01, -1.3370e-01, -3.0416e-01, -2.7999e-01,\n",
       "         -1.3469e-01,  2.4607e-02, -3.4174e-01, -1.2763e-01,  3.8348e-01,\n",
       "          7.0755e-02, -4.5497e-02, -1.8377e-01, -2.0080e-01, -5.1285e-03,\n",
       "         -1.7290e-01,  2.0357e-02,  1.1327e-01, -4.7027e-02, -4.5464e-01,\n",
       "         -1.3571e-01, -5.5214e-01, -1.1681e-01,  2.1966e-01, -3.4520e-01,\n",
       "          3.0023e-01, -3.0783e-01,  1.0458e-01,  4.4844e-01,  6.1047e-02,\n",
       "         -6.3118e-03, -2.2974e-01, -2.4843e-02,  9.3164e-02,  3.1278e-01,\n",
       "          3.0784e-01, -4.3937e-01,  9.9569e-02,  1.4287e-01,  3.0676e-01,\n",
       "          1.2259e-01, -7.5741e-02, -1.3777e-01,  1.3733e-01, -2.1445e-01,\n",
       "          1.7880e-01, -2.1495e-01,  2.0475e-01, -2.6783e-01, -2.3350e-01,\n",
       "          3.2867e-01, -4.2444e-01, -4.0995e-02,  1.0275e-01,  2.6310e-01,\n",
       "          1.6575e-02, -5.1315e-02, -1.2496e-01,  1.6256e-01,  1.7150e-01,\n",
       "          1.2157e-01, -3.9478e-01,  3.1635e-01, -5.9525e-03, -3.3779e-02,\n",
       "         -6.3173e-02,  1.8640e-01,  2.4035e-01,  9.1057e-02, -4.1236e-01,\n",
       "         -1.8004e-01,  1.8538e-01,  3.1493e-01, -2.4395e-01,  2.0876e-01,\n",
       "         -3.4801e-01, -4.4682e-01, -1.1587e-01,  2.3406e-01,  2.3435e-01,\n",
       "          1.9155e-01, -2.9799e-01,  1.6654e-01, -1.7131e-01, -4.5764e-01,\n",
       "         -3.8319e-01, -1.4826e-01,  2.6070e-01,  1.8516e-01,  1.5492e-01,\n",
       "          2.6293e-01,  4.1630e-02,  1.5173e-01,  1.7235e-01,  1.5490e-01,\n",
       "         -1.3005e-01,  1.8123e-01, -3.6829e-01, -4.0910e-02, -3.2005e-01,\n",
       "         -2.5140e-01, -2.3533e-01,  4.4515e-01, -3.0163e-01,  2.5247e-01,\n",
       "          4.2371e-01, -3.2435e-01, -1.0490e-01,  1.3729e-01,  1.6519e-01,\n",
       "          6.5271e-02, -1.1592e-01,  2.2820e-01,  2.1262e-01, -1.0435e-01,\n",
       "          2.6778e-01, -1.7967e-02,  2.9737e-01,  1.8566e-01,  2.8632e-02,\n",
       "          1.5308e-01,  1.3044e-01, -1.6063e-01,  1.0391e-01, -3.5420e-02,\n",
       "         -2.5673e-02, -2.7679e-01, -1.4669e-01,  2.1043e-01, -7.6944e-02,\n",
       "         -7.2626e-03, -1.6368e-01, -2.3165e-02, -1.3372e-02,  3.9272e-01,\n",
       "         -3.6342e-01,  2.5689e-01,  7.9014e-02,  2.0690e-01, -2.5296e-01,\n",
       "         -2.4902e-01,  1.0940e-01,  2.2824e-01, -4.6300e-01,  3.3870e-02,\n",
       "          1.2964e-01,  9.6694e-02,  2.2188e-01,  2.9085e-01,  1.0628e-02,\n",
       "         -1.1503e-01,  5.6764e-01, -1.4965e-01, -1.3880e-01,  3.0353e-01,\n",
       "         -3.0093e-01, -2.7206e-01,  2.5817e-01, -1.9875e-02,  3.4231e-01,\n",
       "          1.5001e-01,  9.0874e-02,  5.7082e-02, -6.1993e-01,  7.6330e-02,\n",
       "         -4.6374e-01, -9.1913e-03,  4.5153e-02, -7.0902e-02, -2.0302e-01,\n",
       "          1.6916e-01,  3.1458e-01, -2.4758e-01, -3.0057e-02,  2.1660e-01,\n",
       "          4.3202e-02, -1.0820e-01,  4.9480e-01, -6.1697e-03,  2.4543e-01,\n",
       "         -5.9885e-02,  2.8021e-01, -2.2729e-01,  2.6954e-01, -2.9779e-01,\n",
       "         -1.3405e-01,  6.6072e-02,  9.9310e-02,  3.9172e-02, -7.9586e-02,\n",
       "         -3.5709e-01,  2.3763e-01,  2.2229e-03, -6.3334e-02, -6.2442e-02,\n",
       "          1.2957e-01, -3.3166e-02,  8.1272e-02,  9.8030e-02,  3.3622e-01,\n",
       "          2.1039e-01, -1.2672e-02, -3.9387e-01, -8.3240e-02, -1.3656e-01,\n",
       "          7.2938e-02,  6.4976e-02,  5.6031e-02,  4.9586e-01, -7.5261e-02,\n",
       "          2.8700e-02, -1.3102e-01,  2.7414e-01,  2.5837e-01,  1.5648e-01,\n",
       "          1.3627e-01,  4.3894e-02,  2.1291e-01, -3.8126e-02,  6.0368e-03,\n",
       "         -1.5263e-01, -2.6763e-01, -2.7597e-01,  2.4974e-01, -2.6529e-01,\n",
       "         -1.6042e-01,  1.6141e-01,  2.3403e-01, -1.6477e-01,  1.6333e-01,\n",
       "          3.4839e-01,  1.2409e-01, -1.8140e-01,  3.2637e-01, -7.8678e-02,\n",
       "          6.6379e-02,  3.2971e-01, -4.7611e-02,  2.0933e-01,  5.3949e-01,\n",
       "          2.1597e-01, -4.2564e-01, -5.3462e-02, -2.3988e-01,  1.5815e-02,\n",
       "          2.4075e-01, -1.1358e-01,  2.0051e-01,  3.8164e-01,  3.1414e-01,\n",
       "          4.8566e-01, -1.8609e-02, -1.3053e-01,  1.3601e-01,  2.3755e-01,\n",
       "          2.2518e-02, -2.1193e-01, -1.7532e-01,  2.9610e-01,  9.2147e-02,\n",
       "         -1.5102e-01,  3.4908e-02, -1.7267e-01,  7.5388e-02, -1.6917e-01,\n",
       "         -4.2750e-01,  6.6006e-02,  1.3971e-01, -5.2722e-01,  1.3196e-01,\n",
       "         -3.1405e-01,  3.1898e-02, -2.5451e-01,  2.6076e-01, -2.4853e-01,\n",
       "         -1.2950e-01,  4.4290e-01, -6.4674e-02,  1.5171e-02, -2.0204e-01,\n",
       "         -1.5932e-01,  3.8606e-02, -1.0141e-04, -8.2557e-02, -2.3026e-02,\n",
       "          3.4257e-01, -2.0972e-01,  5.2048e-02,  2.4782e-02,  2.2448e-01,\n",
       "         -8.0289e-02,  2.0245e-01,  9.2943e-03, -1.4473e-01, -4.1692e-01,\n",
       "          1.4368e-01, -2.2775e-01, -4.4438e-01, -4.1979e-01,  4.0884e-01,\n",
       "         -1.4832e-01, -2.9375e-01, -1.9947e-01, -2.6127e-01,  8.4044e-02,\n",
       "          2.6108e-01,  4.7904e-01, -3.9465e-01, -7.1819e-02,  5.2057e-01,\n",
       "         -4.8204e-02, -2.2002e-01,  3.0194e-01,  2.1924e-01, -3.6522e-01,\n",
       "          3.8247e-01,  2.8488e-01, -7.4505e-02,  3.8975e-02,  5.4281e-01,\n",
       "          1.4007e-01,  2.0145e-01, -1.6966e-01,  4.8757e-01, -2.6317e-01,\n",
       "          3.2690e-01, -1.5834e-01, -1.9077e-01, -2.3717e-01, -2.5685e-02,\n",
       "          3.6484e-01,  2.2119e-01, -4.6473e-01, -1.4122e-01,  5.2015e-02,\n",
       "          2.9891e-01, -4.2440e-01, -5.6507e-02,  5.0843e-02, -3.7232e-01,\n",
       "          1.2041e-01,  1.5058e-01,  2.4179e-01, -4.3526e-01, -4.1862e-02,\n",
       "          4.4314e-01, -3.5614e-01,  1.0805e-01,  3.0771e-01,  9.0167e-02,\n",
       "          3.6898e-01, -6.8829e-02, -2.0104e-02,  6.1020e-02, -2.5295e-01,\n",
       "         -4.4273e-03,  1.4152e-01,  5.8993e-01,  1.3718e-01, -4.2154e-01,\n",
       "          9.6485e-02,  2.5939e-01, -2.1314e-01,  3.2645e-01, -8.9380e-02,\n",
       "         -3.7923e-02,  2.7303e-01, -2.8551e-02,  1.4993e-01, -9.7825e-02,\n",
       "         -2.4581e-01, -3.3668e-01,  4.4089e-01, -2.2138e-01, -1.0892e-01,\n",
       "         -1.7128e-01, -9.8569e-02, -2.0776e-01,  5.0781e-02, -4.0288e-01,\n",
       "          3.8411e-01,  1.5044e-01, -2.1905e-01, -1.2411e-01, -1.1368e-01,\n",
       "         -1.9485e-01, -2.2935e-01, -2.9234e-01,  4.2077e-01, -1.8870e-01,\n",
       "         -4.8761e-01,  2.6175e-01, -7.6695e-03,  3.7997e-01,  2.9331e-02,\n",
       "          1.0868e-01, -9.3665e-02,  1.1826e-01,  1.0651e-01, -7.5861e-02,\n",
       "          2.7718e-01,  1.1357e-01, -6.0237e-01, -1.2694e-01, -2.6914e-01,\n",
       "          7.9078e-02,  2.2134e-01, -3.8393e-01,  4.3075e-02,  1.2982e-02,\n",
       "          2.0834e-01,  2.7656e-02, -1.2098e-01, -1.0682e-01,  4.2695e-01,\n",
       "          2.5918e-01,  2.7422e-01,  1.4141e-01,  2.3439e-01, -2.6379e-02,\n",
       "         -3.7705e-01,  9.1686e-03,  1.0428e-01, -2.3528e-01,  4.8536e-01,\n",
       "         -1.3247e-01, -3.9793e-01, -8.1323e-02,  4.2046e-01,  1.1288e-01,\n",
       "         -1.0937e-02, -2.3749e-02,  2.5665e-01,  2.0425e-01, -1.1915e-01,\n",
       "          2.3024e-01, -2.1266e-02, -1.4756e-01, -1.6106e-01,  9.5770e-02,\n",
       "         -2.0896e-01,  3.1031e-02, -1.3674e-01,  6.3371e-03, -2.3567e-01,\n",
       "          1.4311e-02, -1.9580e-01,  3.2441e-01, -3.5109e-01,  1.3801e-01,\n",
       "          2.5500e-02,  3.4474e-01, -3.5246e-01, -1.9347e-01, -3.2737e-02,\n",
       "          2.1528e-01,  2.9652e-01,  3.6441e-01,  2.5905e-02,  5.8120e-02,\n",
       "         -1.9010e-01, -2.7975e-01,  6.9814e-02, -2.0566e-01,  1.5162e-01,\n",
       "          1.0261e-01,  2.8600e-01, -3.3519e-01, -1.9847e-01,  2.2328e-01,\n",
       "         -3.2213e-02, -1.4460e-01,  5.0098e-01,  2.4948e-01,  1.6891e-01,\n",
       "          1.5007e-02,  2.1111e-01,  4.2644e-02, -1.4817e-01, -8.3939e-02,\n",
       "         -2.8543e-01,  9.3826e-02, -1.1047e-01, -6.2759e-02, -5.9846e-02,\n",
       "         -1.1968e-01, -2.5722e-01, -1.9045e-01,  1.5637e-01,  1.3261e-01,\n",
       "          5.7931e-02, -4.8409e-02, -1.7310e-02, -2.8982e-01,  3.3397e-01,\n",
       "          2.4650e-03,  9.0220e-02, -6.0180e-02,  8.7992e-02, -1.6755e-01,\n",
       "          2.5133e-01,  2.2345e-01,  6.4770e-02, -2.0149e-01, -7.2761e-02,\n",
       "         -3.4459e-01, -3.6978e-01,  4.4336e-02,  1.4993e-01,  1.4466e-01,\n",
       "         -1.0641e-01, -2.6783e-01,  4.4235e-03, -1.3811e-01,  2.1445e-01,\n",
       "          3.0791e-02, -2.0547e-01, -1.1016e-01, -5.1494e-02, -1.3449e-02,\n",
       "          8.6834e-02, -2.3375e-01, -1.7280e-01, -1.2706e-01, -1.2404e-01,\n",
       "         -6.5684e-02,  3.6580e-01, -7.8942e-02,  3.2811e-01, -1.8107e-01,\n",
       "          3.5778e-02, -2.2478e-01,  1.4950e-01, -7.7322e-02,  8.1919e-02,\n",
       "          3.2072e-01, -4.6969e-01, -1.3882e-01, -3.5688e-02, -2.2483e-01,\n",
       "         -1.5002e-01, -1.0793e-01, -4.1638e-02,  2.1560e-01, -3.8227e-01,\n",
       "          1.9833e-01, -1.0779e-01,  2.1051e-01, -4.7936e-02, -2.4401e-01,\n",
       "         -1.8493e-01,  9.7429e-03,  3.0613e-01, -3.4766e-01, -2.7627e-01,\n",
       "         -2.9888e-01, -1.1084e-01, -1.0073e-01, -2.8046e-01,  4.5253e-01,\n",
       "         -1.3720e-01, -4.5773e-02,  6.0200e-02,  4.5859e-01,  2.3340e-01,\n",
       "          1.9175e-01,  2.5572e-01,  2.1645e-02,  1.6176e-03,  1.0018e-01,\n",
       "         -5.1666e-01,  2.9997e-01, -2.8695e-01, -1.4148e-01, -7.0988e-03,\n",
       "          1.4115e-01, -4.6551e-02,  5.5312e-02, -1.9313e-01, -1.1784e-01,\n",
       "          2.4994e-01, -4.1069e-01, -2.2575e-02,  2.8727e-01,  1.5868e-01,\n",
       "         -2.7186e-01,  2.4607e-02,  1.2689e-01,  3.8236e-01,  5.1620e-02,\n",
       "         -2.2015e-01,  1.4680e-01, -3.6419e-01, -3.5297e-02, -1.9668e-01,\n",
       "         -3.2907e-01,  1.9343e-01, -8.9130e-02,  7.2313e-02, -6.7083e-02,\n",
       "         -2.7829e-01,  2.1338e-01, -5.9859e-02, -6.7545e-02,  4.6253e-01,\n",
       "          7.1280e-02, -1.2626e-01,  1.7400e-01,  1.8887e-02,  3.4476e-03,\n",
       "         -1.2887e-01,  2.8944e-01,  2.2792e-01, -3.4297e-01,  6.9368e-02,\n",
       "         -1.8363e-01, -3.3212e-02, -1.2939e-01]], grad_fn=<TanhBackward0>), hidden_states=None, past_key_values=None, attentions=None, cross_attentions=None)"
      ]
     },
     "execution_count": 2,
     "metadata": {},
     "output_type": "execute_result"
    }
   ],
   "source": [
    "text = \"I should eat a butterfinger because it will make me funny like Bart Simpson.\"\n",
    "encoded_input = tokenizer(text, return_tensors='pt')\n",
    "output = model(**encoded_input)\n",
    "output"
   ]
  },
  {
   "cell_type": "code",
   "execution_count": 32,
   "metadata": {},
   "outputs": [],
   "source": [
    "vec = np.zeros([768])"
   ]
  },
  {
   "cell_type": "code",
   "execution_count": 12,
   "metadata": {},
   "outputs": [],
   "source": [
    "get_embed = model.get_input_embeddings()"
   ]
  },
  {
   "cell_type": "code",
   "execution_count": 22,
   "metadata": {},
   "outputs": [
    {
     "data": {
      "text/plain": [
       "torch.Size([1, 18, 768])"
      ]
     },
     "execution_count": 22,
     "metadata": {},
     "output_type": "execute_result"
    }
   ],
   "source": [
    "get_embed(input=(encoded_input['input_ids'])).shape"
   ]
  },
  {
   "cell_type": "code",
   "execution_count": 24,
   "metadata": {},
   "outputs": [],
   "source": [
    "outputs = get_embed(input=(encoded_input['input_ids']))"
   ]
  },
  {
   "cell_type": "code",
   "execution_count": 33,
   "metadata": {},
   "outputs": [],
   "source": [
    "check = outputs.flatten().tolist()"
   ]
  },
  {
   "cell_type": "code",
   "execution_count": 41,
   "metadata": {},
   "outputs": [],
   "source": [
    "import torch"
   ]
  },
  {
   "cell_type": "code",
   "execution_count": 42,
   "metadata": {},
   "outputs": [],
   "source": [
    "sentence = torch.tensor([tokenizer.encode(text)])\n",
    "embedding_output = model.embeddings(sentence)"
   ]
  },
  {
   "cell_type": "code",
   "execution_count": 43,
   "metadata": {},
   "outputs": [
    {
     "data": {
      "text/plain": [
       "tensor([[[False, False, False,  ..., False, False, False],\n",
       "         [False, False, False,  ..., False, False, False],\n",
       "         [False, False, False,  ..., False, False, False],\n",
       "         ...,\n",
       "         [False, False, False,  ..., False, False, False],\n",
       "         [False, False, False,  ..., False, False, False],\n",
       "         [False, False, False,  ..., False, False, False]]])"
      ]
     },
     "execution_count": 43,
     "metadata": {},
     "output_type": "execute_result"
    }
   ],
   "source": [
    "embedding_output == outputs"
   ]
  },
  {
   "cell_type": "code",
   "execution_count": 44,
   "metadata": {},
   "outputs": [
    {
     "name": "stderr",
     "output_type": "stream",
     "text": [
      "Downloading: 100%|██████████| 744/744 [00:00<00:00, 74.4kB/s]\n",
      "Downloading: 100%|██████████| 190/190 [00:00<00:00, 31.7kB/s]\n",
      "Downloading: 100%|██████████| 3.92k/3.92k [00:00<00:00, 817kB/s]\n",
      "Downloading: 100%|██████████| 672/672 [00:00<00:00, 83.9kB/s]\n",
      "Downloading: 100%|██████████| 122/122 [00:00<00:00, 40.7kB/s]\n",
      "Downloading: 100%|██████████| 456k/456k [00:04<00:00, 100kB/s]  \n",
      "Downloading: 100%|██████████| 229/229 [00:00<00:00, 32.8kB/s]\n",
      "Downloading: 100%|██████████| 499M/499M [03:36<00:00, 2.30MB/s]   \n",
      "Downloading: 100%|██████████| 52.0/52.0 [00:00<00:00, 8.68kB/s]\n",
      "Downloading: 100%|██████████| 239/239 [00:00<00:00, 30.1kB/s]\n",
      "Downloading: 100%|██████████| 1.36M/1.36M [00:12<00:00, 105kB/s] \n",
      "Downloading: 100%|██████████| 1.17k/1.17k [00:00<00:00, 232kB/s]\n",
      "Downloading: 100%|██████████| 798k/798k [00:05<00:00, 150kB/s]  \n"
     ]
    },
    {
     "name": "stdout",
     "output_type": "stream",
     "text": [
      "[[ 0.22557165 -0.97884667 -0.03724959 ... -0.2209067  -0.00818081\n",
      "   1.469829  ]\n",
      " [ 1.2658299  -0.0626128   0.25971535 ...  0.1752552   0.51256835\n",
      "   1.1866349 ]]\n"
     ]
    }
   ],
   "source": [
    "from sentence_transformers import SentenceTransformer\n",
    "sentences = [\"This is an example sentence\", \"Each sentence is converted\"]\n",
    "\n",
    "model = SentenceTransformer('sentence-transformers/stsb-roberta-base')\n",
    "embeddings = model.encode(sentences)\n",
    "print(embeddings)\n"
   ]
  },
  {
   "cell_type": "code",
   "execution_count": 45,
   "metadata": {},
   "outputs": [
    {
     "data": {
      "text/plain": [
       "768"
      ]
     },
     "execution_count": 45,
     "metadata": {},
     "output_type": "execute_result"
    }
   ],
   "source": [
    "len(embeddings[0])"
   ]
  },
  {
   "cell_type": "code",
   "execution_count": 46,
   "metadata": {},
   "outputs": [],
   "source": [
    "bart = model.encode(\"I should eat butterfingers because they will make me funny like Bart Simpson.\")"
   ]
  }
 ],
 "metadata": {
  "interpreter": {
   "hash": "4d4d26c25ec2ba8b926e8fee0b5ae38d92b9e691e9b7a85d05ab00c091ce94aa"
  },
  "kernelspec": {
   "display_name": "Python 3.9.7 ('FIT3163Project')",
   "language": "python",
   "name": "python3"
  },
  "language_info": {
   "codemirror_mode": {
    "name": "ipython",
    "version": 3
   },
   "file_extension": ".py",
   "mimetype": "text/x-python",
   "name": "python",
   "nbconvert_exporter": "python",
   "pygments_lexer": "ipython3",
   "version": "3.9.7"
  },
  "orig_nbformat": 4
 },
 "nbformat": 4,
 "nbformat_minor": 2
}
